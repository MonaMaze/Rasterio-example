{
 "cells": [
  {
   "cell_type": "code",
   "execution_count": null,
   "id": "174f9540-dc66-44ef-b75f-ac851d111dab",
   "metadata": {
    "tags": []
   },
   "outputs": [],
   "source": [
    "# Import required Dependencies\n",
    "import os\n",
    "import sys\n",
    "import numpy as np\n",
    "import matplotlib.pyplot as plt\n",
    "import pandas as pd\n",
    "import seaborn as sns\n",
    "import sklearn\n",
    "import datetime\n",
    "\n",
    "# Pre Processing\n",
    "from sklearn.model_selection import train_test_split, StratifiedKFold\n",
    "from sklearn.preprocessing import StandardScaler\n",
    "from sklearn.preprocessing import MinMaxScaler\n",
    "from sklearn.decomposition import PCA\n",
    "from sklearn.preprocessing import PolynomialFeatures\n",
    "from sklearn.pipeline import make_pipeline\n",
    "from functools import partial\n",
    "from hyperopt import hp,fmin,tpe,Trials\n",
    "from hyperopt.pyll.base import scope\n",
    "\n",
    "# Error Metrics\n",
    "from sklearn import metrics\n",
    "from sklearn.metrics import mean_absolute_error\n",
    "from sklearn.metrics import mean_squared_error\n",
    "from sklearn.metrics import r2_score\n",
    "\n",
    "# Regressors\n",
    "from sklearn.ensemble import GradientBoostingRegressor\n",
    "from sklearn.ensemble import RandomForestRegressor\n",
    "from sklearn.linear_model import LinearRegression\n",
    "from sklearn.ensemble import VotingRegressor\n",
    "\n",
    "# Classifiers\n",
    "from sklearn import svm\n",
    "from sklearn import linear_model\n",
    "from sklearn.svm import SVC, LinearSVC\n",
    "from sklearn.ensemble import RandomForestClassifier\n",
    "from sklearn.neighbors import KNeighborsClassifier\n",
    "from sklearn.naive_bayes import GaussianNB\n",
    "from sklearn.linear_model import Perceptron\n",
    "from sklearn.linear_model import SGDClassifier\n",
    "from sklearn.tree import DecisionTreeClassifier\n",
    "from sklearn.ensemble import RandomForestClassifier, GradientBoostingClassifier\n",
    "\n",
    "# DL models\n",
    "from tensorflow.keras import layers \n",
    "from tensorflow.keras.models import Sequential\n",
    "\n",
    "# Save models\n",
    "import pickle\n",
    "\n",
    "#Cross Validation \n",
    "from sklearn.model_selection import GridSearchCV, RandomizedSearchCV\n",
    "import optuna\n",
    "\n",
    "#Using GPU\n",
    "from numba import jit, cuda \n",
    "\n",
    "#Parallel backend processing\n",
    "from concurrent.futures import ProcessPoolExecutor\n",
    "from joblib import parallel_backend"
   ]
  },
  {
   "cell_type": "code",
   "execution_count": null,
   "id": "657280a7-fcda-426e-9794-06561581aa0d",
   "metadata": {
    "tags": []
   },
   "outputs": [],
   "source": [
    "import os\n",
    "\n",
    "# Where to save the figures\n",
    "PROJECT_ROOT_DIR = \".\"\n",
    "CHAPTER_ID = \"LU\"\n",
    "IMAGES_PATH = os.path.join(PROJECT_ROOT_DIR, \"images\", CHAPTER_ID)\n",
    "os.makedirs(IMAGES_PATH, exist_ok=True)\n",
    "\n",
    "def save_fig(fig_id, tight_layout=True, fig_extension=\"png\", resolution=300):\n",
    "    path = os.path.join(IMAGES_PATH, fig_id + \".\" + fig_extension)\n",
    "    print(\"Saving figure\", fig_id)\n",
    "    if tight_layout:\n",
    "        plt.tight_layout()\n",
    "    plt.savefig(path, format=fig_extension, dpi=resolution, bbox_inches='tight')\n",
    "\n",
    "# Ignore useless warnings (see SciPy issue #5998)\n",
    "import warnings\n",
    "warnings.filterwarnings(action=\"ignore\", message=\"^internal gelsd\")"
   ]
  },
  {
   "cell_type": "code",
   "execution_count": null,
   "id": "076d9e6c-c996-4877-ae4f-69eee6bd1339",
   "metadata": {
    "tags": []
   },
   "outputs": [],
   "source": [
    "# Load the saved sample of data in CSV format (10% of the resampled one)\n",
    "df = pd.read_csv('LU_data_sample.csv')\n",
    "#df = all_data.sample(frac =.1)"
   ]
  },
  {
   "cell_type": "code",
   "execution_count": null,
   "id": "bb783d20-429f-471b-b5de-e89c079c3e07",
   "metadata": {
    "tags": []
   },
   "outputs": [],
   "source": [
    "df.head()"
   ]
  },
  {
   "cell_type": "code",
   "execution_count": null,
   "id": "09d1058d-5a25-4cc0-a3c4-11c17e9eae0e",
   "metadata": {
    "tags": []
   },
   "outputs": [],
   "source": [
    "df.info()"
   ]
  },
  {
   "cell_type": "code",
   "execution_count": null,
   "id": "2e2ee9b7-8892-4ad2-ab57-efb3810240f1",
   "metadata": {
    "tags": []
   },
   "outputs": [],
   "source": [
    "df.describe()"
   ]
  },
  {
   "cell_type": "code",
   "execution_count": null,
   "id": "4e313924-d946-498d-af32-4a541f060b67",
   "metadata": {
    "tags": []
   },
   "outputs": [],
   "source": [
    "df['class'].value_counts()"
   ]
  },
  {
   "cell_type": "code",
   "execution_count": null,
   "id": "1852880a-85eb-4b6a-b20c-6ddb0099f1a7",
   "metadata": {
    "tags": []
   },
   "outputs": [],
   "source": [
    "np.isinf(df).values.sum() "
   ]
  },
  {
   "cell_type": "code",
   "execution_count": null,
   "id": "d3aea05a-666e-4459-b7c8-fbd01da2a7aa",
   "metadata": {
    "tags": []
   },
   "outputs": [],
   "source": [
    "df.isnull().sum()"
   ]
  },
  {
   "cell_type": "markdown",
   "id": "f45bf92b-b6e2-4605-ba16-308f8e02e280",
   "metadata": {},
   "source": [
    "# Data Preparation for Model Building"
   ]
  },
  {
   "cell_type": "code",
   "execution_count": null,
   "id": "e4956c68-856b-4315-b08e-ca3a173ce7e6",
   "metadata": {
    "tags": []
   },
   "outputs": [],
   "source": [
    "import warnings\n",
    "warnings.filterwarnings(\"ignore\")"
   ]
  },
  {
   "cell_type": "code",
   "execution_count": null,
   "id": "2205814d-da22-45f7-bb3a-5eec2bc29e5b",
   "metadata": {
    "tags": []
   },
   "outputs": [],
   "source": [
    "# Creating training and test sets\n",
    "# Splitting the data into train and test\n",
    "X = df.iloc[:, :-1]\n",
    "y = df.iloc[:, -1]\n",
    "\n",
    "# Rescaling the features\n",
    "scaler=MinMaxScaler()\n",
    "X=scaler.fit_transform(X)\n",
    "\n",
    "# train test split with train_size=80% and test_size=20%\n",
    "X_train, X_test, y_train, y_test = train_test_split(X, y, train_size=0.80, random_state=101)\n",
    "print(X_train.shape)\n",
    "print(X_test.shape)\n",
    "print(y_train.shape)\n",
    "print(y_test.shape)"
   ]
  },
  {
   "cell_type": "markdown",
   "id": "47678e85-5e2e-4be5-8a3d-924e01b15272",
   "metadata": {},
   "source": [
    "## Classifiers"
   ]
  },
  {
   "cell_type": "markdown",
   "id": "7cacc94c-d585-4ced-9401-1ca8f43870d7",
   "metadata": {},
   "source": [
    "### GridSearch/RandomSearch or testing many parameters each classifier"
   ]
  },
  {
   "cell_type": "code",
   "execution_count": null,
   "id": "f082103c-3618-4f9d-9ff0-98cea390293d",
   "metadata": {
    "tags": []
   },
   "outputs": [],
   "source": [
    "@jit(target_backend='cuda')\n",
    "def set_grid(est, param, cv = 10):\n",
    "    cv = GridSearchCV(\n",
    "        estimator = est,\n",
    "        param_grid = param,\n",
    "        cv = cv,\n",
    "        scoring = \"accuracy\",\n",
    "        verbose = 10,\n",
    "        n_jobs = -1\n",
    "    )\n",
    "    return cv\n",
    "\n",
    "def set_rand(est, param, cv = 10):\n",
    "    cv = RandomizedSearchCV(\n",
    "        estimator = est,\n",
    "        param_distributions = param,\n",
    "        cv = cv,\n",
    "        scoring = \"accuracy\",\n",
    "        verbose = 10,\n",
    "        n_jobs = -1\n",
    "    )\n",
    "    return cv\n",
    "\n",
    "def print_results(model_cv, X_test_s, y_test):\n",
    "    return (model_cv.best_score_, model_cv.best_params_, model_cv.score(X_test_s, y_test))"
   ]
  },
  {
   "cell_type": "code",
   "execution_count": null,
   "id": "13e3b1a1-0152-4b2d-ac6f-751fff20359c",
   "metadata": {
    "tags": []
   },
   "outputs": [],
   "source": [
    "#LU = df.class.unique()\n",
    "LU = ['Cultivated_area', 'Trees_palms', 'Buildings', 'Roads', 'Water_bodies', 'Aqua_culture']\n",
    "LU"
   ]
  },
  {
   "cell_type": "markdown",
   "id": "3ce3ca97-b207-4b63-9db9-86d65a71a94f",
   "metadata": {},
   "source": [
    "### KNeighborsClassifier"
   ]
  },
  {
   "cell_type": "markdown",
   "id": "7199d84a-de59-4ca3-8ae0-7a3b5e313d79",
   "metadata": {},
   "source": [
    "#### Apply different parameters of the classifier using GridSearch/RandomSearch for getting the best parameter"
   ]
  },
  {
   "cell_type": "code",
   "execution_count": null,
   "id": "f757bc9f-abc5-4b06-9186-f1bcd1d877f1",
   "metadata": {
    "tags": []
   },
   "outputs": [],
   "source": [
    "knn = KNeighborsClassifier()\n",
    "param_cv = {\"n_neighbors\" : range(4, 9)}\n",
    "\n",
    "knn_cv = set_rand(knn, param_cv)\n",
    "knn_cv.get_params()"
   ]
  },
  {
   "cell_type": "code",
   "execution_count": null,
   "id": "6de8699e-f8c0-45e4-9ae9-f716b4e4544b",
   "metadata": {
    "tags": []
   },
   "outputs": [],
   "source": [
    "with parallel_backend('multiprocessing'):\n",
    "    knn_cv.fit(X_train, y_train)"
   ]
  },
  {
   "cell_type": "code",
   "execution_count": null,
   "id": "dcc091ea-f393-4f95-8f77-c8d9c413cdac",
   "metadata": {
    "tags": []
   },
   "outputs": [],
   "source": [
    "print_results(knn_cv, X_test, y_test)"
   ]
  },
  {
   "cell_type": "code",
   "execution_count": null,
   "id": "ab271fbf-38ab-49ec-931d-f4ba2acfe0b8",
   "metadata": {
    "tags": []
   },
   "outputs": [],
   "source": [
    "# evaluation: Confusion Matrix\n",
    "confusion_knn = metrics.confusion_matrix(y_true = y_test, y_pred = knn_cv.predict(X_test))\n",
    "confusion_knn"
   ]
  },
  {
   "cell_type": "code",
   "execution_count": null,
   "id": "fd8315e3-e09e-468f-bca7-afb1e15e2763",
   "metadata": {
    "tags": []
   },
   "outputs": [],
   "source": [
    "df_cm_knn = pd.DataFrame(confusion_knn, index = [i for i in LU],\n",
    "                  columns = [i for i in LU])\n",
    "plt.figure(figsize = (10,7))\n",
    "sns.heatmap(df_cm_knn, annot=True,fmt='d',cmap=plt.cm.Blues)\n",
    "save_fig(\"KNeighbors_cm\")"
   ]
  },
  {
   "cell_type": "code",
   "execution_count": null,
   "id": "cf8bb0dd-f873-4fdf-ae4b-dea63f2bbd2a",
   "metadata": {
    "tags": []
   },
   "outputs": [],
   "source": [
    "# measure accuracy\n",
    "metrics.accuracy_score(y_true=y_test, y_pred=knn_cv.predict(X_test))"
   ]
  },
  {
   "cell_type": "code",
   "execution_count": null,
   "id": "9b1a3bbe-da1a-4b24-9919-8a3952e1f7a7",
   "metadata": {
    "tags": []
   },
   "outputs": [],
   "source": [
    "# Save model as pkl file \n",
    "pickle.dump(knn_cv, open('models/LU/knn_cv.pkl', 'wb'))\n",
    "#pickled_model = pickle.load(open('models/LU/knn_cv.pkl', 'rb'))\n",
    "#pickled_model.predict(X_test)"
   ]
  },
  {
   "cell_type": "markdown",
   "id": "dfc2ae20-c70e-464c-a276-10b845143d0a",
   "metadata": {},
   "source": [
    "#### Apply different parameters of the classifier using Hyperparameters (Optuna) for getting the best parameter"
   ]
  },
  {
   "cell_type": "code",
   "execution_count": null,
   "id": "9184b422-1903-47a2-b315-af136bbd7d66",
   "metadata": {
    "tags": []
   },
   "outputs": [],
   "source": [
    "# no params any more\n",
    "def optimize_kn(trial,x,y):\n",
    "    n_neighbors=trial.suggest_int('n_neighbors',4,9,step=1)\n",
    "    \n",
    "    model=KNeighborsClassifier(n_neighbors=n_neighbors)\n",
    "    \n",
    "    kf=StratifiedKFold(n_splits=10)\n",
    "    accuracies=[]\n",
    "    \n",
    "    for idx in kf.split(X=x,y=y):\n",
    "        train_idx,test_idx=idx[0],idx[1]\n",
    "        xtrain=x[train_idx]\n",
    "        ytrain=y[train_idx]\n",
    "        \n",
    "        xtest=x[test_idx]\n",
    "        ytest=y[test_idx]\n",
    "        \n",
    "        model.fit(xtrain,ytrain)\n",
    "        preds=model.predict(xtest)\n",
    "        fold_acc=metrics.accuracy_score(ytest,preds)\n",
    "        accuracies.append(fold_acc)\n",
    "        \n",
    "    avg_accuracy = np.mean(accuracies)\n",
    "    \n",
    "    return -1 * avg_accuracy"
   ]
  },
  {
   "cell_type": "code",
   "execution_count": null,
   "id": "4fc3dd5b-8f8f-49a4-8197-1310b31b90b4",
   "metadata": {
    "tags": []
   },
   "outputs": [],
   "source": [
    "optimization_function_kn=partial(optimize_kn,x=X,y=y)\n",
    "study_kn=optuna.create_study(direction='minimize')"
   ]
  },
  {
   "cell_type": "code",
   "execution_count": null,
   "id": "0b4d4735-7651-4c48-b208-3d9dd4037550",
   "metadata": {
    "tags": []
   },
   "outputs": [],
   "source": [
    "print(datetime.datetime.now())\n",
    "with parallel_backend('multiprocessing'):\n",
    "    study_kn.optimize(optimization_function_kn, n_trials=10, n_jobs=-1)\n",
    "print(datetime.datetime.now())"
   ]
  },
  {
   "cell_type": "code",
   "execution_count": null,
   "id": "596a945d-68a0-4f3a-ad8a-7ceb663acffb",
   "metadata": {
    "tags": []
   },
   "outputs": [],
   "source": [
    "# Get the best trial\n",
    "best_trial = study_kn.best_trial\n",
    "best_params = best_trial.params\n",
    "best_accuracy = -best_trial.value\n",
    "\n",
    "print(\"Best Parameters:\", best_params)\n",
    "print(\"Best Accuracy:\", best_accuracy)"
   ]
  },
  {
   "cell_type": "code",
   "execution_count": null,
   "id": "3aa1f85c-3683-497b-87bf-d9c3bbbbdee6",
   "metadata": {
    "tags": []
   },
   "outputs": [],
   "source": [
    "# Train a new model on the entire dataset using the best parameters\n",
    "kn_model = KNeighborsClassifier(**best_params)\n",
    "kn_model.fit(X_train, y_train)"
   ]
  },
  {
   "cell_type": "code",
   "execution_count": null,
   "id": "74e9f415-9587-4d04-8749-125f839f8335",
   "metadata": {
    "tags": []
   },
   "outputs": [],
   "source": [
    "# Evaluate the model on the entire dataset\n",
    "y_pred = kn_model.predict(X_test)"
   ]
  },
  {
   "cell_type": "code",
   "execution_count": null,
   "id": "c7b954e8-5426-4b62-9f06-3a9fb6781bc1",
   "metadata": {
    "tags": []
   },
   "outputs": [],
   "source": [
    "# Confusion matrix\n",
    "confusion_kn = metrics.confusion_matrix(y_test, y_pred)\n",
    "print(\"Confusion Matrix:\")\n",
    "print(confusion_kn)"
   ]
  },
  {
   "cell_type": "code",
   "execution_count": null,
   "id": "72e9caba-944d-485d-8839-e9e327827993",
   "metadata": {
    "tags": []
   },
   "outputs": [],
   "source": [
    "df_cm_kn = pd.DataFrame(confusion_kn, index = [i for i in LU],\n",
    "                  columns = [i for i in LU])\n",
    "plt.figure(figsize = (10,7))\n",
    "sns.heatmap(df_cm_kn, annot=True,fmt='d',cmap=plt.cm.Blues)\n",
    "save_fig(\"KNeighbors_cm_opt\")"
   ]
  },
  {
   "cell_type": "code",
   "execution_count": null,
   "id": "584638a2-0044-490a-a105-ded6313601c3",
   "metadata": {
    "tags": []
   },
   "outputs": [],
   "source": [
    "# Save the best model\n",
    "with open('models/LU/kn_model.pkl', 'wb') as model_file:\n",
    "    pickle.dump(dt_model, model_file)\n",
    "#pickled_model = pickle.load(open('models/LU/kn_model.pkl', 'rb'))\n",
    "#pickled_model.predict(X_test)"
   ]
  },
  {
   "cell_type": "markdown",
   "id": "89823016-ff06-4808-8c0a-ee1dc8c8ca93",
   "metadata": {},
   "source": [
    "### DecisionTreeClassifier"
   ]
  },
  {
   "cell_type": "markdown",
   "id": "4670e52b-6b9e-42d0-b064-40a6d3830b87",
   "metadata": {},
   "source": [
    "#### Apply different parameters of the classifier using GridSearch/RandomSearch for getting the best parameter"
   ]
  },
  {
   "cell_type": "code",
   "execution_count": null,
   "id": "3fdad673-c156-4533-9292-ce9a1693ed18",
   "metadata": {},
   "outputs": [],
   "source": [
    "dt = DecisionTreeClassifier()\n",
    "param_cv = {\"criterion\": ['gini','entropy'], \"max_depth\" : [15,18,20], \"min_samples_split\" : [50,80,100]}\n",
    "dt_cv = set_rand(dt, param_cv)\n",
    "dt_cv.get_params()"
   ]
  },
  {
   "cell_type": "code",
   "execution_count": null,
   "id": "8f7db15d-e319-46e9-8c86-cb89c5c72bcb",
   "metadata": {
    "tags": []
   },
   "outputs": [],
   "source": [
    "print(datetime.datetime.now())\n",
    "with parallel_backend('multiprocessing'):\n",
    "    dt_cv.fit(X_train, y_train)\n",
    "print(datetime.datetime.now())"
   ]
  },
  {
   "cell_type": "code",
   "execution_count": null,
   "id": "5b7cec31-0854-448f-a5c4-c30c46e4257d",
   "metadata": {},
   "outputs": [],
   "source": [
    "print_results(dt_cv, X_test, y_test)"
   ]
  },
  {
   "cell_type": "code",
   "execution_count": null,
   "id": "b19bd6e4-4b01-4a09-8b4f-6de8761964dd",
   "metadata": {
    "tags": []
   },
   "outputs": [],
   "source": [
    "# evaluation: Confusion Matrix\n",
    "confusion_dt = metrics.confusion_matrix(y_true = y_test, y_pred = dt_cv.predict(X_test))\n",
    "confusion_dt"
   ]
  },
  {
   "cell_type": "code",
   "execution_count": null,
   "id": "0b82d480-3f7a-48cc-894c-cd5322c05641",
   "metadata": {
    "tags": []
   },
   "outputs": [],
   "source": [
    "df_cm_dt = pd.DataFrame(confusion_dt, index = [i for i in LU],\n",
    "                  columns = [i for i in LU])\n",
    "plt.figure(figsize = (10,7))\n",
    "sns.heatmap(df_cm_dt, annot=True,fmt='d',cmap=plt.cm.Blues)\n",
    "save_fig(\"Decision_tree_cm\")"
   ]
  },
  {
   "cell_type": "code",
   "execution_count": null,
   "id": "93c4e2b6-b8e1-4926-a73a-41a0f5ceb0af",
   "metadata": {},
   "outputs": [],
   "source": [
    "# measure accuracy\n",
    "metrics.accuracy_score(y_true=y_test, y_pred=dt_cv.predict(X_test))"
   ]
  },
  {
   "cell_type": "code",
   "execution_count": null,
   "id": "3f72fb4d-e613-48ca-81c0-ddca5fe878ee",
   "metadata": {
    "tags": []
   },
   "outputs": [],
   "source": [
    "# Save model as pkl file \n",
    "pickle.dump(dt_cv, open('models/LU/dt_cv.pkl', 'wb'))\n",
    "#pickled_model = pickle.load(open('models/LU/dt_cv.pkl', 'rb'))\n",
    "#pickled_model.predict(X_test)"
   ]
  },
  {
   "cell_type": "markdown",
   "id": "7c630ade-57af-463d-8dd2-656ed1dc6ec5",
   "metadata": {},
   "source": [
    "#### Apply different parameters of the classifier using Hyperparameters (Optuna) for getting the best parameter"
   ]
  },
  {
   "cell_type": "code",
   "execution_count": null,
   "id": "333d8b27-1150-43b8-b2ed-c7e388753eaf",
   "metadata": {
    "tags": []
   },
   "outputs": [],
   "source": [
    "# no params any more\n",
    "def optimize_dt(trial,x,y):\n",
    "    criterion=trial.suggest_categorical('criterion',['gini','entropy'])\n",
    "    max_depth=trial.suggest_int('max_depth',15,20,step=1)\n",
    "    #max_features_values = np.arange(0.01, 1.01, 0.1)\n",
    "    #max_features = trial.suggest_categorical('max_features', max_features_values)\n",
    "    min_samples_split=trial.suggest_int(\"min_samples_split\",50,100,step=10)\n",
    "    \n",
    "    model=DecisionTreeClassifier(\n",
    "        criterion=criterion,\n",
    "        max_depth=max_depth,\n",
    "        #max_features=max_features,\n",
    "        min_samples_split=min_samples_split\n",
    "    )\n",
    "    \n",
    "    kf=StratifiedKFold(n_splits=10)\n",
    "    accuracies=[]\n",
    "    #confusion_matrices = []\n",
    "    \n",
    "    for idx in kf.split(X=x,y=y):\n",
    "        train_idx,test_idx=idx[0],idx[1]\n",
    "        xtrain=x[train_idx]\n",
    "        ytrain=y[train_idx]\n",
    "        \n",
    "        xtest=x[test_idx]\n",
    "        ytest=y[test_idx]\n",
    "        \n",
    "        model.fit(xtrain,ytrain)\n",
    "        preds=model.predict(xtest)\n",
    "        fold_acc=metrics.accuracy_score(ytest,preds)\n",
    "        accuracies.append(fold_acc)\n",
    "        #conf_matrix = metrics.confusion_matrix(ytest, preds)\n",
    "        #print(f\"Confusion Matrix (before casting): {conf_matrix}\")\n",
    "        #print(f\"Data type of the confusion matrix: {conf_matrix.dtype}\")\n",
    "        #confusion_matrices.append(conf_matrix.astype(float))\n",
    "        \n",
    "    avg_accuracy = np.mean(accuracies)\n",
    "    #avg_conf_matrix = np.median(confusion_matrices, axis=0).astype(float)\n",
    "    #avg_conf_matrix = np.array(avg_conf_matrix, dtype=float)\n",
    "    \n",
    "    return (-1 * avg_accuracy)"
   ]
  },
  {
   "cell_type": "code",
   "execution_count": null,
   "id": "d3c4eef2-cb3e-43ef-95f9-cb732bd447c5",
   "metadata": {
    "tags": []
   },
   "outputs": [],
   "source": [
    "optimization_function_dt=partial(optimize_dt,x=X,y=y)\n",
    "study_dt=optuna.create_study(direction=\"minimize\")"
   ]
  },
  {
   "cell_type": "code",
   "execution_count": null,
   "id": "f2bf8386-4d38-4026-b73a-86013fde4ca0",
   "metadata": {
    "tags": []
   },
   "outputs": [],
   "source": [
    "print(datetime.datetime.now())\n",
    "with parallel_backend('multiprocessing'):\n",
    "    study_dt.optimize(optimization_function_dt, n_trials=10, n_jobs=-1)\n",
    "print(datetime.datetime.now())"
   ]
  },
  {
   "cell_type": "code",
   "execution_count": null,
   "id": "d49ae5e1-f1fd-4cf9-b44b-207f3142aa39",
   "metadata": {
    "tags": []
   },
   "outputs": [],
   "source": [
    "# Get the best trial\n",
    "best_trial = study_dt.best_trial\n",
    "best_params = best_trial.params\n",
    "best_accuracy = -best_trial.value\n",
    "\n",
    "print(\"Best Parameters:\", best_params)\n",
    "print(\"Best Accuracy:\", best_accuracy)"
   ]
  },
  {
   "cell_type": "code",
   "execution_count": null,
   "id": "190c9a13-1407-4db6-b178-117171622939",
   "metadata": {
    "tags": []
   },
   "outputs": [],
   "source": [
    "# Train a new model on the entire dataset using the best parameters\n",
    "dt_model = DecisionTreeClassifier(**best_params)\n",
    "dt_model.fit(X_train, y_train)"
   ]
  },
  {
   "cell_type": "code",
   "execution_count": null,
   "id": "74992a69-597c-4b9d-84b3-dc4dabe990bd",
   "metadata": {
    "tags": []
   },
   "outputs": [],
   "source": [
    "# Evaluate the model on the entire dataset\n",
    "y_pred = dt_model.predict(X_test)"
   ]
  },
  {
   "cell_type": "code",
   "execution_count": null,
   "id": "f19f6c4f-0264-492e-ba5f-e91e12cc3c4a",
   "metadata": {
    "tags": []
   },
   "outputs": [],
   "source": [
    "# Confusion matrix\n",
    "confusion_dt = metrics.confusion_matrix(y_test, y_pred)\n",
    "print(\"Confusion Matrix:\")\n",
    "print(confusion_dt)"
   ]
  },
  {
   "cell_type": "code",
   "execution_count": null,
   "id": "95736e98-972b-4304-8a52-ac6b67ef6a84",
   "metadata": {},
   "outputs": [],
   "source": [
    "df_cm_dt = pd.DataFrame(confusion_dt, index = [i for i in LU],\n",
    "                  columns = [i for i in LU])\n",
    "plt.figure(figsize = (10,7))\n",
    "sns.heatmap(df_cm_dt, annot=True,fmt='d',cmap=plt.cm.Blues)\n",
    "save_fig(\"Decision_Tree_cm_opt\")"
   ]
  },
  {
   "cell_type": "code",
   "execution_count": null,
   "id": "4e5efa93-b264-4cf3-a714-4ed85e1406ca",
   "metadata": {
    "tags": []
   },
   "outputs": [],
   "source": [
    "# Save the best model\n",
    "with open('models/LU/dt_model.pkl', 'wb') as model_file:\n",
    "    pickle.dump(dt_model, model_file)\n",
    "#pickled_model = pickle.load(open('models/LU/dt_model.pkl', 'rb'))\n",
    "#pickled_model.predict(X_test)"
   ]
  },
  {
   "cell_type": "markdown",
   "id": "587f92a7-d7ab-4a42-86e1-9df21e22c989",
   "metadata": {},
   "source": [
    "### RandomForestClassifier"
   ]
  },
  {
   "cell_type": "markdown",
   "id": "eb92fbfd-0c5d-47a5-8075-41afbb7dbb21",
   "metadata": {},
   "source": [
    "#### Apply different parameters of the classifier using GridSearch/RandomSearch for getting the best parameter"
   ]
  },
  {
   "cell_type": "code",
   "execution_count": null,
   "id": "fa5fbabb-a71d-4e69-a480-0e90f261093f",
   "metadata": {},
   "outputs": [],
   "source": [
    "rf = RandomForestClassifier(max_depth=18, min_samples_split=100)\n",
    "param_cv = {\"n_estimators\" : [500, 700, 1000]}\n",
    "rf_cv = set_rand(rf, param_cv)\n",
    "rf_cv.get_params()"
   ]
  },
  {
   "cell_type": "code",
   "execution_count": null,
   "id": "b12c3890-18a7-49a1-b30d-9f54b00505ff",
   "metadata": {
    "tags": []
   },
   "outputs": [],
   "source": [
    "print(datetime.datetime.now())\n",
    "with parallel_backend('multiprocessing'):\n",
    "    rf_cv.fit(X_train, y_train)\n",
    "print(datetime.datetime.now())"
   ]
  },
  {
   "cell_type": "code",
   "execution_count": null,
   "id": "b59c3516-e1f8-411a-9093-721ac2cf4679",
   "metadata": {},
   "outputs": [],
   "source": [
    "print_results(rf_cv, X_test, y_test)"
   ]
  },
  {
   "cell_type": "code",
   "execution_count": null,
   "id": "7c79e002-d12f-4771-9ec8-c8ca830dcd03",
   "metadata": {
    "tags": []
   },
   "outputs": [],
   "source": [
    "# evaluation: Confusion Matrix\n",
    "confusion_rf = metrics.confusion_matrix(y_true = y_test, y_pred = rf_cv.predict(X_test))\n",
    "confusion_rf"
   ]
  },
  {
   "cell_type": "code",
   "execution_count": null,
   "id": "b230ed69-c0be-4bb9-8949-765be7c7ff6e",
   "metadata": {
    "tags": []
   },
   "outputs": [],
   "source": [
    "df_cm_rf = pd.DataFrame(confusion_rf, index = [i for i in LU],\n",
    "                  columns = [i for i in LU])\n",
    "plt.figure(figsize = (10,7))\n",
    "sns.heatmap(df_cm_rf, annot=True,fmt='d',cmap=plt.cm.Blues)\n",
    "save_fig(\"Random_forest_cm\")"
   ]
  },
  {
   "cell_type": "code",
   "execution_count": null,
   "id": "533ba7ad-2998-4fa7-adfa-9ba2f30c383c",
   "metadata": {},
   "outputs": [],
   "source": [
    "# measure accuracy\n",
    "metrics.accuracy_score(y_true=y_test, y_pred=rf_cv.predict(X_test))"
   ]
  },
  {
   "cell_type": "code",
   "execution_count": null,
   "id": "402c0c29-dc14-40e2-8ac7-3e11be99594a",
   "metadata": {
    "tags": []
   },
   "outputs": [],
   "source": [
    "# Save model as pkl file \n",
    "pickle.dump(rf_cv, open('models/LU/rf_cv.pkl', 'wb'))\n",
    "#pickled_model = pickle.load(open('models/LU/rf_cv.pkl', 'rb'))\n",
    "#pickled_model.predict(X_test)"
   ]
  },
  {
   "cell_type": "markdown",
   "id": "d77ca2bf-6af8-4494-9419-2e773806753a",
   "metadata": {},
   "source": [
    "#### Apply different parameters of the classifier using Hyperparameters (Optuna) for getting the best parameter"
   ]
  },
  {
   "cell_type": "code",
   "execution_count": null,
   "id": "75fcaf53-18cc-460a-abad-b14960ff07db",
   "metadata": {
    "tags": []
   },
   "outputs": [],
   "source": [
    "# no params any more\n",
    "def optimize_rf(trial,x,y):\n",
    "    criterion=trial.suggest_categorical('criterion',['gini','entropy'])\n",
    "    n_estimators=trial.suggest_int('n_estimators',500,1000,step=100)\n",
    "    max_depth=trial.suggest_int('max_depth',15,20,step=1)\n",
    "    min_samples_split=trial.suggest_int(\"min_samples_split\",50,100,step=10)\n",
    "    \n",
    "    model=RandomForestClassifier(\n",
    "        criterion=criterion,\n",
    "        n_estimators=n_estimators,\n",
    "        max_depth=max_depth,\n",
    "        min_samples_split=min_samples_split\n",
    "    )\n",
    "    \n",
    "    kf=StratifiedKFold(n_splits=10)\n",
    "    accuracies=[]\n",
    "    \n",
    "    for idx in kf.split(X=x,y=y):\n",
    "        train_idx,test_idx=idx[0],idx[1]\n",
    "        xtrain=x[train_idx]\n",
    "        ytrain=y[train_idx]\n",
    "        \n",
    "        xtest=x[test_idx]\n",
    "        ytest=y[test_idx]\n",
    "        \n",
    "        model.fit(xtrain,ytrain)\n",
    "        preds=model.predict(xtest)\n",
    "        fold_acc=metrics.accuracy_score(ytest,preds)\n",
    "        accuracies.append(fold_acc)\n",
    "        \n",
    "    avg_accuracy = np.mean(accuracies)\n",
    "    \n",
    "    return -1 * avg_accuracy"
   ]
  },
  {
   "cell_type": "code",
   "execution_count": null,
   "id": "6c684a17-6290-4945-95db-6f974b4673ef",
   "metadata": {
    "tags": []
   },
   "outputs": [],
   "source": [
    "def objective(trial):\n",
    "    n_estimators=trial.suggest_int('n_estimators',500,1100,step=200)\n",
    "    \n",
    "    model=RandomForestClassifier(\n",
    "        criterion='entropy',\n",
    "        n_estimators=n_estimators,\n",
    "        max_depth=18,\n",
    "        min_samples_split=80\n",
    "    )\n",
    "    return cross_val_score(model, X_train, y_train, n_jobs=-1, cv=5).mean()"
   ]
  },
  {
   "cell_type": "code",
   "execution_count": null,
   "id": "13eb3d43-2eba-4016-9242-2cd6063fa568",
   "metadata": {
    "tags": []
   },
   "outputs": [],
   "source": [
    "print(datetime.datetime.now())\n",
    "with parallel_backend('multiprocessing'):\n",
    "    study_rf = optuna.create_study(direction='maximize')\n",
    "    study_rf.optimize(objective, n_trials=10, n_jobs=-1)\n",
    "    rf_model = RandomForestClassifier(**study_rf.best_params)\n",
    "    rf_model.fit(X_train, y_train)\n",
    "print(datetime.datetime.now())"
   ]
  },
  {
   "cell_type": "code",
   "execution_count": null,
   "id": "c6e75c8f-c27b-4ffe-ac60-90d2dd5c1a54",
   "metadata": {
    "tags": []
   },
   "outputs": [],
   "source": [
    "optimization_function_rf=partial(optimize_rf,x=X,y=y)\n",
    "study_rf=optuna.create_study(direction='minimize')"
   ]
  },
  {
   "cell_type": "code",
   "execution_count": null,
   "id": "2243d6dd-004b-4db2-a10b-2c0d5bd5b6e3",
   "metadata": {
    "tags": []
   },
   "outputs": [],
   "source": [
    "print(datetime.datetime.now())\n",
    "with parallel_backend('multiprocessing'):\n",
    "    study_rf.optimize(optimization_function_rf, n_trials=10, n_jobs=-1)\n",
    "print(datetime.datetime.now())"
   ]
  },
  {
   "cell_type": "code",
   "execution_count": null,
   "id": "7c304013-2596-485c-97ee-5767eb1e7839",
   "metadata": {
    "tags": []
   },
   "outputs": [],
   "source": [
    "# Get the best trial\n",
    "best_trial = study_rf.best_trial\n",
    "best_params = best_trial.params\n",
    "best_accuracy = -best_trial.value\n",
    "\n",
    "print(\"Best Parameters:\", best_params)\n",
    "print(\"Best Accuracy:\", best_accuracy)"
   ]
  },
  {
   "cell_type": "code",
   "execution_count": null,
   "id": "83d7e653-1892-4cd0-a8df-5529a4b4b422",
   "metadata": {
    "tags": []
   },
   "outputs": [],
   "source": [
    "# Train a new model on the entire dataset using the best parameters\n",
    "rf_model = RandomForestClassifier(**best_params)\n",
    "rf_model.fit(X_train, y_train)"
   ]
  },
  {
   "cell_type": "code",
   "execution_count": null,
   "id": "e87de200-6453-418b-9697-4c6b603bec36",
   "metadata": {
    "tags": []
   },
   "outputs": [],
   "source": [
    "# Evaluate the model on the entire dataset\n",
    "y_pred = rf_model.predict(X_test)"
   ]
  },
  {
   "cell_type": "code",
   "execution_count": null,
   "id": "035795b6-66a9-4b45-a1f1-13fbaf0c6d90",
   "metadata": {
    "tags": []
   },
   "outputs": [],
   "source": [
    "# Confusion matrix\n",
    "confusion_rf = metrics.confusion_matrix(y_test, y_pred)\n",
    "print(\"Confusion Matrix:\")\n",
    "print(confusion_rf)"
   ]
  },
  {
   "cell_type": "code",
   "execution_count": null,
   "id": "99c19930-5154-4386-bf7b-e8739d813925",
   "metadata": {
    "tags": []
   },
   "outputs": [],
   "source": [
    "df_cm_rf = pd.DataFrame(confusion_rf, index = [i for i in LU],\n",
    "                  columns = [i for i in LU])\n",
    "plt.figure(figsize = (10,7))\n",
    "sns.heatmap(df_cm_rf, annot=True,fmt='d',cmap=plt.cm.Blues)\n",
    "save_fig(\"Random_forest_cm_opt\")"
   ]
  },
  {
   "cell_type": "code",
   "execution_count": null,
   "id": "be67d5b9-bedf-47e2-9492-2def607d91a1",
   "metadata": {
    "tags": []
   },
   "outputs": [],
   "source": [
    "# Save the best model\n",
    "with open('models/LU/rf_model.pkl', 'wb') as model_file:\n",
    "    pickle.dump(rf_model, model_file)\n",
    "#pickled_model = pickle.load(open('models/LU/rf_model.pkl', 'rb'))\n",
    "#pickled_model.predict(X_test)"
   ]
  },
  {
   "cell_type": "markdown",
   "id": "717a6478-2f7c-40b0-8a96-4d7bf9930a3d",
   "metadata": {},
   "source": [
    "### SVM Linear"
   ]
  },
  {
   "cell_type": "markdown",
   "id": "41fd3ada-80a2-49c3-8b03-0f8c916d48b1",
   "metadata": {},
   "source": [
    "#### Apply different parameters of the classifier in loops for getting the best parameter using GPU instead of CPU for faster performance"
   ]
  },
  {
   "cell_type": "code",
   "execution_count": null,
   "id": "0abc17f2-9200-42aa-b40b-32d7b8cf79b1",
   "metadata": {},
   "outputs": [],
   "source": [
    "import os\n",
    "os.add_dll_directory(\"C:\\\\Program Files\\\\NVIDIA GPU Computing Toolkit\\\\CUDA\\\\v12.3\\\\bin\")"
   ]
  },
  {
   "cell_type": "code",
   "execution_count": null,
   "id": "88071f6b-89d3-4180-bbc9-25ae4d439bda",
   "metadata": {},
   "outputs": [],
   "source": [
    "import thundersvm\n",
    "from thundersvm import SVC"
   ]
  },
  {
   "cell_type": "code",
   "execution_count": null,
   "id": "59dafa6c-3359-4b8c-9e8d-3c0453d07ca5",
   "metadata": {},
   "outputs": [],
   "source": [
    "def random_search(X_train, X_test, y_train, y_test):\n",
    "    results = []\n",
    "\n",
    "    for C in [0.001, 0.005, 0.01, 0.05, 0.5, 1, 3, 5]:\n",
    "        try:\n",
    "            gamma = 0.1  # Fix gamma to a constant value\n",
    "    \n",
    "            model = thundersvm.SVC(\n",
    "                gpu_id=0,\n",
    "                kernel=\"linear\",\n",
    "                C=C,\n",
    "                gamma=gamma\n",
    "            )\n",
    "            model.fit(X_train, y_train)\n",
    "            y_pred = model.predict(X_test)\n",
    "            result = metrics.accuracy_score(y_true=y_test, y_pred=y_pred)\n",
    "    \n",
    "            results.append((C, gamma, result))\n",
    "        except Exception as e:\n",
    "            print(f\"Exception in random_search: {e}\")\n",
    "\n",
    "    return results"
   ]
  },
  {
   "cell_type": "code",
   "execution_count": null,
   "id": "de1e429c-c386-405b-a1a5-2608969b4f1e",
   "metadata": {},
   "outputs": [],
   "source": [
    "# Call the function to get the results\n",
    "print(datetime.datetime.now())\n",
    "svl_random_search = random_search(X_train, X_test, y_train, y_test)\n",
    "svl_random_search\n",
    "# Find the best result based on the mean accuracy\n",
    "best_result = max(svl_random_search, key=lambda x: x[2])\n",
    "best_C, best_gamma, best_performance = best_result\n",
    "\n",
    "print(f\"Best C: {best_C}, Best Gamma: {best_gamma}, Best Performance: {best_performance}\")\n",
    "print(datetime.datetime.now())"
   ]
  },
  {
   "cell_type": "code",
   "execution_count": null,
   "id": "5b584613-56a8-4f3b-b844-3bb26de87742",
   "metadata": {},
   "outputs": [],
   "source": [
    "svc_lin_gpu = thundersvm.SVC(gpu_id=0, C=20, gamma=5, kernel='linear')\n",
    "print(datetime.datetime.now())\n",
    "svc_lin_gpu.fit(X_train, y_train)\n",
    "print(datetime.datetime.now())\n",
    "# Evaluate the model on the entire dataset\n",
    "y_pred = svc_lin_gpu.predict(X_test)\n",
    "print(datetime.datetime.now())"
   ]
  },
  {
   "cell_type": "code",
   "execution_count": null,
   "id": "a23fc9e9-52fe-469c-8c33-42cc64d30e9f",
   "metadata": {},
   "outputs": [],
   "source": [
    "# measure accuracy\n",
    "metrics.accuracy_score(y_true=y_test, y_pred=y_pred)"
   ]
  },
  {
   "cell_type": "code",
   "execution_count": null,
   "id": "c15f4fd4-bc12-4376-8e88-620e5f559b56",
   "metadata": {
    "tags": []
   },
   "outputs": [],
   "source": [
    "# Confusion matrix\n",
    "confusion_svl = metrics.confusion_matrix(y_test, y_pred)\n",
    "print(\"Confusion Matrix:\")\n",
    "print(confusion_svl)"
   ]
  },
  {
   "cell_type": "code",
   "execution_count": null,
   "id": "8a30a06d-e909-423d-adb2-82de777c46b6",
   "metadata": {},
   "outputs": [],
   "source": [
    "df_cm_svl = pd.DataFrame(confusion_svl, index = [i for i in LU],\n",
    "                  columns = [i for i in LU])\n",
    "3df_cm_svl.to_csv('LU_svl.csv', index=False)\n",
    "plt.figure(figsize = (10,7))\n",
    "sns.heatmap(df_cm_svl, annot=True,fmt='d',cmap=plt.cm.Blues)\n",
    "save_fig(\"SVM_Linear_cm_opt\")"
   ]
  },
  {
   "cell_type": "code",
   "execution_count": null,
   "id": "aac65ea7-2f58-4f6a-b7bb-a59d523948f1",
   "metadata": {},
   "outputs": [],
   "source": [
    "# Save the best model\n",
    "with open('models/LU/svl_model.pkl', 'wb') as model_file:\n",
    "    pickle.dump(svc_lin_gpu, model_file)\n",
    "#pickled_model = pickle.load(open('models/LU/svl_model.pkl', 'rb'))\n",
    "#pickled_model.predict(X_test)"
   ]
  },
  {
   "cell_type": "markdown",
   "id": "75f8243d-07ad-48a9-9a17-8f0a5aa1e3ef",
   "metadata": {},
   "source": [
    "#### Apply different parameters of the classifier using GridSearch/RandomSearch for getting the best parameter (CPU)"
   ]
  },
  {
   "cell_type": "code",
   "execution_count": null,
   "id": "ab355d59-95f0-401c-bee1-095174e37486",
   "metadata": {},
   "outputs": [],
   "source": [
    "svc_linear = SVC(kernel = \"linear\")\n",
    "param_cv = {\"C\": [0.001, 0.005, 0.01, 0.05, 0.5, 1, 3, 5]}\n",
    "svc_linear_cv = set_rand(svc_linear, param_cv)\n",
    "svc_linear_cv.get_params()"
   ]
  },
  {
   "cell_type": "code",
   "execution_count": null,
   "id": "106c6b3a-2350-4095-b4a5-ac4fadcf3c60",
   "metadata": {
    "tags": []
   },
   "outputs": [],
   "source": [
    "print(datetime.datetime.now())\n",
    "with parallel_backend('multiprocessing'):\n",
    "    svc_linear_cv.fit(X_train, y_train)\n",
    "print(datetime.datetime.now())"
   ]
  },
  {
   "cell_type": "code",
   "execution_count": null,
   "id": "cca7c35d-ca24-4a31-8d25-a7402e20e712",
   "metadata": {},
   "outputs": [],
   "source": [
    "print_results(svc_linear_cv, X_test, y_test)"
   ]
  },
  {
   "cell_type": "code",
   "execution_count": null,
   "id": "02eb3e95-ac51-45b9-8480-8dcbdfe82fc9",
   "metadata": {
    "tags": []
   },
   "outputs": [],
   "source": [
    "# evaluation: Confusion Matrix\n",
    "confusion_svml = metrics.confusion_matrix(y_true = y_test, y_pred = svc_linear_cv.predict(X_test))\n",
    "confusion_svml"
   ]
  },
  {
   "cell_type": "code",
   "execution_count": null,
   "id": "958ea11d",
   "metadata": {
    "tags": []
   },
   "outputs": [],
   "source": [
    "df_cm_svml = pd.DataFrame(confusion_svml, index = [i for i in LU],\n",
    "                  columns = [i for i in LU])\n",
    "plt.figure(figsize = (10,7))\n",
    "sns.heatmap(df_cm_svml, annot=True,fmt='d',cmap=plt.cm.Blues)\n",
    "save_fig(\"svm_linear_cm\")"
   ]
  },
  {
   "cell_type": "code",
   "execution_count": null,
   "id": "2207f74b",
   "metadata": {},
   "outputs": [],
   "source": [
    "# measure accuracy\n",
    "metrics.accuracy_score(y_true=y_test, y_pred=svc_linear_cv.predict(X_test))"
   ]
  },
  {
   "cell_type": "code",
   "execution_count": null,
   "id": "15e19929",
   "metadata": {},
   "outputs": [],
   "source": [
    "# Save model as pkl file \n",
    "pickle.dump(scv_linear_cv, open('models/LU/svc_linear_cv.pkl', 'wb'))\n",
    "#pickled_model = pickle.load(open('models/LU/svc_linear_cv.pkl', 'rb'))\n",
    "#pickled_model.predict(X_test)"
   ]
  },
  {
   "cell_type": "markdown",
   "id": "5fa85911-d06b-4f87-8632-999913cadf3c",
   "metadata": {},
   "source": [
    "### SVM rbf"
   ]
  },
  {
   "cell_type": "markdown",
   "id": "badfd02b-1850-40ea-931f-9d34f778af69",
   "metadata": {},
   "source": [
    "#### Apply different parameters of the classifier in loops for getting the best parameter using GPU instead of CPU for faster performance"
   ]
  },
  {
   "cell_type": "code",
   "execution_count": null,
   "id": "110ceb00-c6da-4b72-bcd9-0c6934c130ba",
   "metadata": {},
   "outputs": [],
   "source": [
    "def random_searchrbf(X_train, X_test, y_train, y_test):\n",
    "    results = []\n",
    "\n",
    "    for C in [20, 25, 30, 40]:\n",
    "        for gamma in [1, 5, 10]:\n",
    "            try:\n",
    "                model = thundersvm.SVC(\n",
    "                    gpu_id=0,\n",
    "                    kernel=\"rbf\",\n",
    "                    C=C,\n",
    "                    gamma=gamma\n",
    "                )\n",
    "                model.fit(X_train, y_train)\n",
    "                y_pred = model.predict(X_test)\n",
    "                result = metrics.accuracy_score(y_true=y_test, y_pred=y_pred)\n",
    "        \n",
    "                results.append((C, gamma, result))\n",
    "            except Exception as e:\n",
    "                print(f\"Exception in random_search: {e}\")\n",
    "\n",
    "    return results"
   ]
  },
  {
   "cell_type": "code",
   "execution_count": null,
   "id": "6d9b5245-b090-4f3f-83d6-3491ee3e438d",
   "metadata": {},
   "outputs": [],
   "source": [
    "# Call the function to get the results\n",
    "print(datetime.datetime.now())\n",
    "svr_random_search = random_searchrbf(X_train, X_test, y_train, y_test)\n",
    "print(svr_random_search)\n",
    "# Find the best result based on the mean accuracy\n",
    "best_result = max(svr_random_search, key=lambda x: x[2])\n",
    "best_C, best_gamma, best_performance = best_result\n",
    "\n",
    "print(f\"Best C: {best_C}, Best Gamma: {best_gamma}, Best Performance: {best_performance}\")\n",
    "print(datetime.datetime.now())"
   ]
  },
  {
   "cell_type": "code",
   "execution_count": null,
   "id": "b411e048-9052-49dd-a8d4-0fa9c77960c0",
   "metadata": {},
   "outputs": [],
   "source": [
    "svc_rbf_gpu = thundersvm.SVC(gpu_id=0, C=20, gamma=5, kernel='rbf')\n",
    "print(datetime.datetime.now())\n",
    "svc_rbf_gpu.fit(X_train, y_train)\n",
    "print(datetime.datetime.now())\n",
    "# Evaluate the model on the entire dataset\n",
    "y_pred = svc_rbf_gpu.predict(X_test)\n",
    "print(datetime.datetime.now())"
   ]
  },
  {
   "cell_type": "code",
   "execution_count": null,
   "id": "406f5a79-a872-4f5e-aa70-49dd0a1b7f3e",
   "metadata": {},
   "outputs": [],
   "source": [
    "# measure accuracy\n",
    "metrics.accuracy_score(y_true=y_test, y_pred=y_pred)"
   ]
  },
  {
   "cell_type": "code",
   "execution_count": null,
   "id": "385f9973-63a9-4ee7-bc52-9ecb65dc14b1",
   "metadata": {
    "tags": []
   },
   "outputs": [],
   "source": [
    "# Confusion matrix\n",
    "confusion_svr = metrics.confusion_matrix(y_test, y_pred)\n",
    "print(\"Confusion Matrix:\")\n",
    "print(confusion_svr)"
   ]
  },
  {
   "cell_type": "code",
   "execution_count": null,
   "id": "55cde300-aba2-4c5c-97c6-529cf59299c2",
   "metadata": {},
   "outputs": [],
   "source": [
    "df_cm_svr = pd.DataFrame(confusion_svr, index = [i for i in LU],\n",
    "                  columns = [i for i in LU])\n",
    "#df_cm_svr.to_csv('LU_svr.csv', index=False)\n",
    "#df_cm_svr = pd.read_csv('LU_svr.csv')\n",
    "plt.figure(figsize = (10,7))\n",
    "sns.heatmap(df_cm_svr,fmt='d',cmap=plt.cm.Blues, annot=True)\n",
    "save_fig(\"SVM_rbf_cm_opt\")"
   ]
  },
  {
   "cell_type": "code",
   "execution_count": null,
   "id": "ec8f0435-2a2f-4847-ba87-99044511449e",
   "metadata": {},
   "outputs": [],
   "source": [
    "# Save the best model\n",
    "with open('models/LU/svr_model.pkl', 'wb') as model_file:\n",
    "    pickle.dump(svr_model, model_file)\n",
    "#pickled_model = pickle.load(open('models/LU/svr_model.pkl', 'rb'))\n",
    "#pickled_model.predict(X_test)"
   ]
  },
  {
   "cell_type": "markdown",
   "id": "d388d4ba-0146-4e4d-92dd-6ba625f74744",
   "metadata": {},
   "source": [
    "#### Apply different parameters of the classifier using GridSearch/RandomSearch for getting the best parameter"
   ]
  },
  {
   "cell_type": "code",
   "execution_count": null,
   "id": "9ebef4bc-adf8-4d3a-a523-b17b6e6abef6",
   "metadata": {},
   "outputs": [],
   "source": [
    "svc_rb = SVC(kernel = \"rbf\")\n",
    "param_cv = {\"C\" : [10, 20, 30, 40], \"gamma\" : [0.1, 0.5, 1, 5, 10]}\n",
    "svc_rb_cv = set_rand(svc_rb, param_cv)\n",
    "svc_rb_cv.get_params()"
   ]
  },
  {
   "cell_type": "code",
   "execution_count": null,
   "id": "19f675f4-6099-435e-acd6-2e7ad2a1bab7",
   "metadata": {},
   "outputs": [],
   "source": [
    "print(datetime.datetime.now())\n",
    "with parallel_backend('multiprocessing'):\n",
    "    svc_rb_cv.fit(X_train, y_train)\n",
    "print(datetime.datetime.now())"
   ]
  },
  {
   "cell_type": "code",
   "execution_count": null,
   "id": "09eb0029-d38a-46a3-b068-e0696feb9e05",
   "metadata": {},
   "outputs": [],
   "source": [
    "print_results(svc_rb_cv, X_test, y_test)"
   ]
  },
  {
   "cell_type": "code",
   "execution_count": null,
   "id": "7430c744-9ff6-4db9-a5b6-1d3ff50c99a6",
   "metadata": {
    "tags": []
   },
   "outputs": [],
   "source": [
    "# evaluation: Confusion Matrix\n",
    "confusion_svmr = metrics.confusion_matrix(y_true = y_test, y_pred = svc_rb_cv.predict(X_test))\n",
    "confusion_svmr"
   ]
  },
  {
   "cell_type": "code",
   "execution_count": null,
   "id": "b382a7ba-4c0e-4274-81ed-d98abfe87710",
   "metadata": {
    "tags": []
   },
   "outputs": [],
   "source": [
    "df_cm_svmr = pd.DataFrame(confusion_svmr, index = [i for i in LU],\n",
    "                  columns = [i for i in LU])\n",
    "plt.figure(figsize = (10,7))\n",
    "sns.heatmap(df_cm_svmr, annot=True,fmt='d',cmap=plt.cm.Blues)\n",
    "save_fig(\"svm_rbf_cm\")"
   ]
  },
  {
   "cell_type": "code",
   "execution_count": null,
   "id": "5cc9e593-708f-4c05-b8ce-b1ddd98b2d4f",
   "metadata": {},
   "outputs": [],
   "source": [
    "# measure accuracy\n",
    "metrics.accuracy_score(y_true=y_test, y_pred=svc_rb_cv.predict(X_test))"
   ]
  },
  {
   "cell_type": "code",
   "execution_count": null,
   "id": "029b35ea-d5d6-4eb7-b3e5-000b85bb774f",
   "metadata": {},
   "outputs": [],
   "source": [
    "# Save model as pkl file \n",
    "pickle.dump(svc_rb_cv, open('models/LU/svc_rb_cv.pkl', 'wb'))\n",
    "#pickled_model = pickle.load(open('models/LU/svc_rb_cv.pkl', 'rb'))\n",
    "#pickled_model.predict(X_test)"
   ]
  },
  {
   "cell_type": "markdown",
   "id": "eb64bed5-36c9-48e3-9850-b4f5b33268df",
   "metadata": {},
   "source": [
    "### LSTM"
   ]
  },
  {
   "cell_type": "code",
   "execution_count": null,
   "id": "87c5a3b1-1b38-462d-a36d-f0ec938a5238",
   "metadata": {},
   "outputs": [],
   "source": [
    "# Reshape the X shape to fit in LSTM (add one dimension)\n",
    "train_X = X_train.reshape(X_train.shape[0],X_train.shape[1],1)\n",
    "test_X = X_test.reshape(X_test.shape[0],X_test.shape[1],1)"
   ]
  },
  {
   "cell_type": "code",
   "execution_count": null,
   "id": "0612f5f5-725b-489a-9c75-b377cb0dfbb1",
   "metadata": {
    "tags": []
   },
   "outputs": [],
   "source": [
    "# Change Y values to be from 0 to 5 instead of 1 to 6\n",
    "y_train_mod = y_train - 1\n",
    "y_test_mod = y_test - 1"
   ]
  },
  {
   "cell_type": "code",
   "execution_count": null,
   "id": "44c95e28-add2-4e14-8d53-fd676a2f184c",
   "metadata": {},
   "outputs": [],
   "source": [
    "print(train_X.shape)\n",
    "print(test_X.shape)"
   ]
  },
  {
   "cell_type": "code",
   "execution_count": null,
   "id": "261473d9-3153-457c-b5e6-3d884547412c",
   "metadata": {},
   "outputs": [],
   "source": [
    "# Define the LSTM model\n",
    "model = Sequential()\n",
    "model.add(layers.Bidirectional(layers.LSTM(16, return_sequences=True), input_shape=(20, 1)))\n",
    "model.add(layers.Dropout(0.2))\n",
    "model.add(layers.Bidirectional(layers.LSTM(32, return_sequences=True)))\n",
    "model.add(layers.Dropout(0.2))\n",
    "model.add(layers.Bidirectional(layers.LSTM(64, return_sequences=True)))\n",
    "model.add(layers.Dropout(0.2))\n",
    "model.add(layers.Bidirectional(layers.LSTM(64, return_sequences=True)))\n",
    "model.add(layers.Dropout(0.2))\n",
    "model.add(layers.Bidirectional(layers.LSTM(32, return_sequences=True)))\n",
    "model.add(layers.Dropout(0.2))\n",
    "model.add(layers.Bidirectional(layers.LSTM(16, return_sequences=False)))  # No return_sequences for the last LSTM layer\n",
    "model.add(layers.Dropout(0.2))\n",
    "model.add(layers.Dense(6, activation=\"softmax\"))\n",
    "model.compile(loss=\"sparse_categorical_crossentropy\", optimizer=\"adam\", metrics=['accuracy'])\n",
    "model.summary()"
   ]
  },
  {
   "cell_type": "code",
   "execution_count": null,
   "id": "44f967c0-580f-4c34-8f18-c0ac7bc7166c",
   "metadata": {},
   "outputs": [],
   "source": [
    "#train \n",
    "print(datetime.datetime.now())\n",
    "history = model.fit(train_X, y_train_mod, batch_size=2048, epochs=100, validation_split=0.1)\n",
    "print(datetime.datetime.now())"
   ]
  },
  {
   "cell_type": "code",
   "execution_count": null,
   "id": "48eb5909-2b19-4da5-b98b-16f65c65836c",
   "metadata": {},
   "outputs": [],
   "source": [
    "preds = model.predict(test_X)"
   ]
  },
  {
   "cell_type": "code",
   "execution_count": null,
   "id": "37a338da-0d5f-4ff6-88b3-d22569c22025",
   "metadata": {
    "tags": []
   },
   "outputs": [],
   "source": [
    "val_pred = np.argmax(model.predict(test_X), axis=-1)"
   ]
  },
  {
   "cell_type": "code",
   "execution_count": null,
   "id": "4d674981-fd3e-440e-a165-3ce15dbbd57d",
   "metadata": {
    "tags": []
   },
   "outputs": [],
   "source": [
    "preds.argmax(axis=1)"
   ]
  },
  {
   "cell_type": "code",
   "execution_count": null,
   "id": "accfd752-88d9-4ee0-8a68-339c2f7c2926",
   "metadata": {},
   "outputs": [],
   "source": [
    "# evaluation: Confusion Matrix\n",
    "confusion_lstm = metrics.confusion_matrix(y_true = y_test_mod, y_pred = val_pred)\n",
    "confusion_lstm"
   ]
  },
  {
   "cell_type": "code",
   "execution_count": null,
   "id": "489e1d5d-ecb6-4118-bb96-4c15fffcc863",
   "metadata": {},
   "outputs": [],
   "source": [
    "df_cm_lstm = pd.DataFrame(confusion_lstm, index = [i for i in LU],\n",
    "                  columns = [i for i in LU])\n",
    "plt.figure(figsize = (10,7))\n",
    "sns.heatmap(df_cm_lstm, annot=True,fmt='d',cmap=plt.cm.Blues)\n",
    "save_fig(\"lstm_rbf_cm\")"
   ]
  },
  {
   "cell_type": "code",
   "execution_count": null,
   "id": "e2c609d0-5c60-44d1-b708-26ac0471710e",
   "metadata": {},
   "outputs": [],
   "source": [
    "# measure accuracy\n",
    "metrics.accuracy_score(y_true=y_test_mod, y_pred=val_pred)"
   ]
  },
  {
   "cell_type": "code",
   "execution_count": null,
   "id": "bafb6d9b-9523-4610-97dc-a8a13490090e",
   "metadata": {},
   "outputs": [],
   "source": [
    "# Save model as pkl file \n",
    "pickle.dump(model, open('models/LU/lstm_model.pkl', 'wb'))\n",
    "#pickled_model = pickle.load(open('models/LU/model.pkl', 'rb'))\n",
    "#pickled_model.predict(X_test)"
   ]
  }
 ],
 "metadata": {
  "kernelspec": {
   "display_name": "Python 3 (ipykernel)",
   "language": "python",
   "name": "python3"
  },
  "language_info": {
   "codemirror_mode": {
    "name": "ipython",
    "version": 3
   },
   "file_extension": ".py",
   "mimetype": "text/x-python",
   "name": "python",
   "nbconvert_exporter": "python",
   "pygments_lexer": "ipython3",
   "version": "3.11.5"
  }
 },
 "nbformat": 4,
 "nbformat_minor": 5
}
