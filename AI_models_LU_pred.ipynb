{
 "cells": [
  {
   "cell_type": "code",
   "execution_count": 1,
   "id": "174f9540-dc66-44ef-b75f-ac851d111dab",
   "metadata": {
    "tags": []
   },
   "outputs": [],
   "source": [
    "# Import required Dependencies\n",
    "import os\n",
    "import sys\n",
    "import numpy as np\n",
    "import matplotlib.pyplot as plt\n",
    "import pandas as pd\n",
    "import seaborn as sns\n",
    "import sklearn\n",
    "import datetime\n",
    "\n",
    "# Pre Processing\n",
    "from sklearn.preprocessing import MinMaxScaler\n",
    "#from sklearn.preprocessing import LabelEncoder\n",
    "\n",
    "# Classifiers\n",
    "#from sklearn import svm\n",
    "#from sklearn.svm import SVC, LinearSVC\n",
    "from sklearn.ensemble import RandomForestClassifier\n",
    "from sklearn.neighbors import KNeighborsClassifier\n",
    "from sklearn.tree import DecisionTreeClassifier\n",
    "from xgboost import XGBClassifier\n",
    "\n",
    "# DL models\n",
    "import tensorflow as tf\n",
    "from tensorflow.keras import layers \n",
    "from tensorflow.keras.models import Sequential\n",
    "from tensorflow.keras.layers import Dense, Input\n",
    "from tensorflow.keras.models import Model\n",
    "from tensorflow.python.keras.layers import deserialize, serialize\n",
    "from tensorflow.python.keras.saving import saving_utils\n",
    "\n",
    "# Save models\n",
    "import pickle\n",
    "\n",
    "#Geotiff\n",
    "import rasterio"
   ]
  },
  {
   "cell_type": "code",
   "execution_count": 2,
   "id": "657280a7-fcda-426e-9794-06561581aa0d",
   "metadata": {
    "tags": []
   },
   "outputs": [],
   "source": [
    "import os\n",
    "\n",
    "# Where to save the figures\n",
    "PROJECT_ROOT_DIR = \".\"\n",
    "CHAPTER_ID = \"LU\"\n",
    "IMAGES_PATH = os.path.join(PROJECT_ROOT_DIR, \"images\", CHAPTER_ID)\n",
    "os.makedirs(IMAGES_PATH, exist_ok=True)\n",
    "\n",
    "def save_fig(fig_id, tight_layout=True, fig_extension=\"png\", resolution=300):\n",
    "    path = os.path.join(IMAGES_PATH, fig_id + \".\" + fig_extension)\n",
    "    print(\"Saving figure\", fig_id)\n",
    "    if tight_layout:\n",
    "        plt.tight_layout()\n",
    "    plt.savefig(path, format=fig_extension, dpi=resolution, bbox_inches='tight')\n",
    "\n",
    "# Ignore useless warnings (see SciPy issue #5998)\n",
    "import warnings\n",
    "warnings.filterwarnings(action=\"ignore\", message=\"^internal gelsd\")"
   ]
  },
  {
   "cell_type": "code",
   "execution_count": 2,
   "id": "076d9e6c-c996-4877-ae4f-69eee6bd1339",
   "metadata": {
    "tags": []
   },
   "outputs": [],
   "source": [
    "# Load the saved data\n",
    "df = pd.read_csv('LU_all_20230806.csv')"
   ]
  },
  {
   "cell_type": "code",
   "execution_count": 4,
   "id": "bb783d20-429f-471b-b5de-e89c079c3e07",
   "metadata": {
    "tags": []
   },
   "outputs": [
    {
     "data": {
      "text/html": [
       "<div>\n",
       "<style scoped>\n",
       "    .dataframe tbody tr th:only-of-type {\n",
       "        vertical-align: middle;\n",
       "    }\n",
       "\n",
       "    .dataframe tbody tr th {\n",
       "        vertical-align: top;\n",
       "    }\n",
       "\n",
       "    .dataframe thead th {\n",
       "        text-align: right;\n",
       "    }\n",
       "</style>\n",
       "<table border=\"1\" class=\"dataframe\">\n",
       "  <thead>\n",
       "    <tr style=\"text-align: right;\">\n",
       "      <th></th>\n",
       "      <th>awei</th>\n",
       "      <th>blue</th>\n",
       "      <th>dbsi</th>\n",
       "      <th>evi</th>\n",
       "      <th>green</th>\n",
       "      <th>kndvi</th>\n",
       "      <th>mndmi</th>\n",
       "      <th>ndbi</th>\n",
       "      <th>ndpi</th>\n",
       "      <th>ndvi</th>\n",
       "      <th>ndwi</th>\n",
       "      <th>nir</th>\n",
       "      <th>osavi</th>\n",
       "      <th>red</th>\n",
       "      <th>savi</th>\n",
       "      <th>str11</th>\n",
       "      <th>str12</th>\n",
       "      <th>VH</th>\n",
       "      <th>VV-VH</th>\n",
       "      <th>VV</th>\n",
       "    </tr>\n",
       "  </thead>\n",
       "  <tbody>\n",
       "    <tr>\n",
       "      <th>0</th>\n",
       "      <td>962.25</td>\n",
       "      <td>409.0</td>\n",
       "      <td>-0.365920</td>\n",
       "      <td>0.059429</td>\n",
       "      <td>325.0</td>\n",
       "      <td>0.058976</td>\n",
       "      <td>0.608911</td>\n",
       "      <td>-0.012500</td>\n",
       "      <td>-0.608911</td>\n",
       "      <td>-0.242991</td>\n",
       "      <td>0.600985</td>\n",
       "      <td>81.0</td>\n",
       "      <td>-12918.1312</td>\n",
       "      <td>133.0</td>\n",
       "      <td>-16731.00</td>\n",
       "      <td>38.506329</td>\n",
       "      <td>37.506494</td>\n",
       "      <td>0.000288</td>\n",
       "      <td>7.414589</td>\n",
       "      <td>0.002133</td>\n",
       "    </tr>\n",
       "    <tr>\n",
       "      <th>1</th>\n",
       "      <td>891.75</td>\n",
       "      <td>401.0</td>\n",
       "      <td>-0.317651</td>\n",
       "      <td>0.062776</td>\n",
       "      <td>297.0</td>\n",
       "      <td>0.068607</td>\n",
       "      <td>0.579787</td>\n",
       "      <td>0.019355</td>\n",
       "      <td>-0.579787</td>\n",
       "      <td>-0.262136</td>\n",
       "      <td>0.592493</td>\n",
       "      <td>76.0</td>\n",
       "      <td>-12913.8624</td>\n",
       "      <td>130.0</td>\n",
       "      <td>-16726.50</td>\n",
       "      <td>38.506329</td>\n",
       "      <td>37.506494</td>\n",
       "      <td>0.000130</td>\n",
       "      <td>17.670248</td>\n",
       "      <td>0.002293</td>\n",
       "    </tr>\n",
       "    <tr>\n",
       "      <th>2</th>\n",
       "      <td>959.25</td>\n",
       "      <td>409.0</td>\n",
       "      <td>-0.430322</td>\n",
       "      <td>0.046574</td>\n",
       "      <td>317.0</td>\n",
       "      <td>0.043204</td>\n",
       "      <td>0.638243</td>\n",
       "      <td>-0.066667</td>\n",
       "      <td>-0.638243</td>\n",
       "      <td>-0.207921</td>\n",
       "      <td>0.596977</td>\n",
       "      <td>80.0</td>\n",
       "      <td>-9849.2352</td>\n",
       "      <td>122.0</td>\n",
       "      <td>-12757.50</td>\n",
       "      <td>34.007143</td>\n",
       "      <td>33.507246</td>\n",
       "      <td>0.000016</td>\n",
       "      <td>78.076813</td>\n",
       "      <td>0.001272</td>\n",
       "    </tr>\n",
       "    <tr>\n",
       "      <th>3</th>\n",
       "      <td>1000.25</td>\n",
       "      <td>430.0</td>\n",
       "      <td>-0.429883</td>\n",
       "      <td>0.045833</td>\n",
       "      <td>325.0</td>\n",
       "      <td>0.046487</td>\n",
       "      <td>0.645570</td>\n",
       "      <td>-0.066667</td>\n",
       "      <td>-0.645570</td>\n",
       "      <td>-0.215686</td>\n",
       "      <td>0.604938</td>\n",
       "      <td>80.0</td>\n",
       "      <td>-10420.3264</td>\n",
       "      <td>124.0</td>\n",
       "      <td>-13497.00</td>\n",
       "      <td>34.007143</td>\n",
       "      <td>33.507246</td>\n",
       "      <td>0.000032</td>\n",
       "      <td>19.939922</td>\n",
       "      <td>0.000639</td>\n",
       "    </tr>\n",
       "    <tr>\n",
       "      <th>4</th>\n",
       "      <td>990.50</td>\n",
       "      <td>436.0</td>\n",
       "      <td>-0.446256</td>\n",
       "      <td>0.037724</td>\n",
       "      <td>325.0</td>\n",
       "      <td>0.031939</td>\n",
       "      <td>0.625000</td>\n",
       "      <td>-0.062500</td>\n",
       "      <td>-0.625000</td>\n",
       "      <td>-0.178744</td>\n",
       "      <td>0.585366</td>\n",
       "      <td>85.0</td>\n",
       "      <td>-8891.3072</td>\n",
       "      <td>122.0</td>\n",
       "      <td>-11516.25</td>\n",
       "      <td>36.506667</td>\n",
       "      <td>35.006944</td>\n",
       "      <td>0.000018</td>\n",
       "      <td>155.772690</td>\n",
       "      <td>0.002747</td>\n",
       "    </tr>\n",
       "  </tbody>\n",
       "</table>\n",
       "</div>"
      ],
      "text/plain": [
       "      awei   blue      dbsi       evi  green     kndvi     mndmi      ndbi  \\\n",
       "0   962.25  409.0 -0.365920  0.059429  325.0  0.058976  0.608911 -0.012500   \n",
       "1   891.75  401.0 -0.317651  0.062776  297.0  0.068607  0.579787  0.019355   \n",
       "2   959.25  409.0 -0.430322  0.046574  317.0  0.043204  0.638243 -0.066667   \n",
       "3  1000.25  430.0 -0.429883  0.045833  325.0  0.046487  0.645570 -0.066667   \n",
       "4   990.50  436.0 -0.446256  0.037724  325.0  0.031939  0.625000 -0.062500   \n",
       "\n",
       "       ndpi      ndvi      ndwi   nir       osavi    red      savi      str11  \\\n",
       "0 -0.608911 -0.242991  0.600985  81.0 -12918.1312  133.0 -16731.00  38.506329   \n",
       "1 -0.579787 -0.262136  0.592493  76.0 -12913.8624  130.0 -16726.50  38.506329   \n",
       "2 -0.638243 -0.207921  0.596977  80.0  -9849.2352  122.0 -12757.50  34.007143   \n",
       "3 -0.645570 -0.215686  0.604938  80.0 -10420.3264  124.0 -13497.00  34.007143   \n",
       "4 -0.625000 -0.178744  0.585366  85.0  -8891.3072  122.0 -11516.25  36.506667   \n",
       "\n",
       "       str12        VH       VV-VH        VV  \n",
       "0  37.506494  0.000288    7.414589  0.002133  \n",
       "1  37.506494  0.000130   17.670248  0.002293  \n",
       "2  33.507246  0.000016   78.076813  0.001272  \n",
       "3  33.507246  0.000032   19.939922  0.000639  \n",
       "4  35.006944  0.000018  155.772690  0.002747  "
      ]
     },
     "execution_count": 4,
     "metadata": {},
     "output_type": "execute_result"
    }
   ],
   "source": [
    "df.head()"
   ]
  },
  {
   "cell_type": "code",
   "execution_count": 5,
   "id": "09d1058d-5a25-4cc0-a3c4-11c17e9eae0e",
   "metadata": {
    "tags": []
   },
   "outputs": [
    {
     "name": "stdout",
     "output_type": "stream",
     "text": [
      "<class 'pandas.core.frame.DataFrame'>\n",
      "RangeIndex: 120560400 entries, 0 to 120560399\n",
      "Data columns (total 20 columns):\n",
      " #   Column  Dtype  \n",
      "---  ------  -----  \n",
      " 0   awei    float64\n",
      " 1   blue    float64\n",
      " 2   dbsi    float64\n",
      " 3   evi     float64\n",
      " 4   green   float64\n",
      " 5   kndvi   float64\n",
      " 6   mndmi   float64\n",
      " 7   ndbi    float64\n",
      " 8   ndpi    float64\n",
      " 9   ndvi    float64\n",
      " 10  ndwi    float64\n",
      " 11  nir     float64\n",
      " 12  osavi   float64\n",
      " 13  red     float64\n",
      " 14  savi    float64\n",
      " 15  str11   float64\n",
      " 16  str12   float64\n",
      " 17  VH      float64\n",
      " 18  VV-VH   float64\n",
      " 19  VV      float64\n",
      "dtypes: float64(20)\n",
      "memory usage: 18.0 GB\n"
     ]
    }
   ],
   "source": [
    "df.info()"
   ]
  },
  {
   "cell_type": "code",
   "execution_count": 6,
   "id": "2e2ee9b7-8892-4ad2-ab57-efb3810240f1",
   "metadata": {
    "tags": []
   },
   "outputs": [
    {
     "data": {
      "text/html": [
       "<div>\n",
       "<style scoped>\n",
       "    .dataframe tbody tr th:only-of-type {\n",
       "        vertical-align: middle;\n",
       "    }\n",
       "\n",
       "    .dataframe tbody tr th {\n",
       "        vertical-align: top;\n",
       "    }\n",
       "\n",
       "    .dataframe thead th {\n",
       "        text-align: right;\n",
       "    }\n",
       "</style>\n",
       "<table border=\"1\" class=\"dataframe\">\n",
       "  <thead>\n",
       "    <tr style=\"text-align: right;\">\n",
       "      <th></th>\n",
       "      <th>awei</th>\n",
       "      <th>blue</th>\n",
       "      <th>dbsi</th>\n",
       "      <th>evi</th>\n",
       "      <th>green</th>\n",
       "      <th>kndvi</th>\n",
       "      <th>mndmi</th>\n",
       "      <th>ndbi</th>\n",
       "      <th>ndpi</th>\n",
       "      <th>ndvi</th>\n",
       "      <th>ndwi</th>\n",
       "      <th>nir</th>\n",
       "      <th>osavi</th>\n",
       "      <th>red</th>\n",
       "      <th>savi</th>\n",
       "      <th>str11</th>\n",
       "      <th>str12</th>\n",
       "      <th>VH</th>\n",
       "      <th>VV-VH</th>\n",
       "      <th>VV</th>\n",
       "    </tr>\n",
       "  </thead>\n",
       "  <tbody>\n",
       "    <tr>\n",
       "      <th>count</th>\n",
       "      <td>1.205604e+08</td>\n",
       "      <td>1.205604e+08</td>\n",
       "      <td>1.205526e+08</td>\n",
       "      <td>1.205604e+08</td>\n",
       "      <td>1.205604e+08</td>\n",
       "      <td>1.205526e+08</td>\n",
       "      <td>1.205599e+08</td>\n",
       "      <td>1.205599e+08</td>\n",
       "      <td>1.205599e+08</td>\n",
       "      <td>1.205526e+08</td>\n",
       "      <td>1.205594e+08</td>\n",
       "      <td>1.205604e+08</td>\n",
       "      <td>1.205604e+08</td>\n",
       "      <td>1.205604e+08</td>\n",
       "      <td>1.205604e+08</td>\n",
       "      <td>1.205604e+08</td>\n",
       "      <td>1.205604e+08</td>\n",
       "      <td>1.205604e+08</td>\n",
       "      <td>1.205604e+08</td>\n",
       "      <td>1.205604e+08</td>\n",
       "    </tr>\n",
       "    <tr>\n",
       "      <th>mean</th>\n",
       "      <td>-4.462877e+03</td>\n",
       "      <td>5.428684e+02</td>\n",
       "      <td>-2.210391e-01</td>\n",
       "      <td>-1.576497e+00</td>\n",
       "      <td>7.553603e+02</td>\n",
       "      <td>3.640226e-01</td>\n",
       "      <td>-2.314373e-01</td>\n",
       "      <td>-2.279930e-01</td>\n",
       "      <td>2.314373e-01</td>\n",
       "      <td>4.524693e-01</td>\n",
       "      <td>-3.725659e-01</td>\n",
       "      <td>2.758638e+03</td>\n",
       "      <td>1.017849e+07</td>\n",
       "      <td>6.854185e+02</td>\n",
       "      <td>1.316289e+07</td>\n",
       "      <td>8.236723e+02</td>\n",
       "      <td>5.634792e+02</td>\n",
       "      <td>1.686121e-02</td>\n",
       "      <td>2.518611e+01</td>\n",
       "      <td>9.104504e-02</td>\n",
       "    </tr>\n",
       "    <tr>\n",
       "      <th>std</th>\n",
       "      <td>2.991744e+03</td>\n",
       "      <td>4.098897e+02</td>\n",
       "      <td>2.293991e-01</td>\n",
       "      <td>1.832855e+03</td>\n",
       "      <td>4.943895e+02</td>\n",
       "      <td>2.490563e-01</td>\n",
       "      <td>4.546110e-01</td>\n",
       "      <td>2.389484e-01</td>\n",
       "      <td>4.546110e-01</td>\n",
       "      <td>4.571331e-01</td>\n",
       "      <td>5.166087e-01</td>\n",
       "      <td>1.463356e+03</td>\n",
       "      <td>8.387827e+06</td>\n",
       "      <td>7.123683e+02</td>\n",
       "      <td>1.084709e+07</td>\n",
       "      <td>5.062268e+02</td>\n",
       "      <td>4.798425e+02</td>\n",
       "      <td>4.220213e-02</td>\n",
       "      <td>1.132117e+02</td>\n",
       "      <td>7.155829e-01</td>\n",
       "    </tr>\n",
       "    <tr>\n",
       "      <th>min</th>\n",
       "      <td>-3.521700e+04</td>\n",
       "      <td>0.000000e+00</td>\n",
       "      <td>-1.795745e+00</td>\n",
       "      <td>-3.300000e+05</td>\n",
       "      <td>0.000000e+00</td>\n",
       "      <td>0.000000e+00</td>\n",
       "      <td>-1.000000e+00</td>\n",
       "      <td>-1.000000e+00</td>\n",
       "      <td>-1.000000e+00</td>\n",
       "      <td>-1.000000e+00</td>\n",
       "      <td>-1.000000e+00</td>\n",
       "      <td>0.000000e+00</td>\n",
       "      <td>-4.570903e+07</td>\n",
       "      <td>0.000000e+00</td>\n",
       "      <td>-5.910854e+07</td>\n",
       "      <td>0.000000e+00</td>\n",
       "      <td>0.000000e+00</td>\n",
       "      <td>1.644899e-07</td>\n",
       "      <td>6.770266e-04</td>\n",
       "      <td>9.349317e-07</td>\n",
       "    </tr>\n",
       "    <tr>\n",
       "      <th>25%</th>\n",
       "      <td>-6.585500e+03</td>\n",
       "      <td>3.080000e+02</td>\n",
       "      <td>-3.699685e-01</td>\n",
       "      <td>4.027149e-01</td>\n",
       "      <td>4.360000e+02</td>\n",
       "      <td>9.751995e-02</td>\n",
       "      <td>-4.959538e-01</td>\n",
       "      <td>-4.204993e-01</td>\n",
       "      <td>2.689982e-01</td>\n",
       "      <td>1.186703e-01</td>\n",
       "      <td>-7.393768e-01</td>\n",
       "      <td>2.210000e+03</td>\n",
       "      <td>2.469097e+06</td>\n",
       "      <td>2.400000e+02</td>\n",
       "      <td>3.193038e+06</td>\n",
       "      <td>6.405004e+02</td>\n",
       "      <td>3.205008e+02</td>\n",
       "      <td>5.047485e-03</td>\n",
       "      <td>2.996706e+00</td>\n",
       "      <td>2.341818e-02</td>\n",
       "    </tr>\n",
       "    <tr>\n",
       "      <th>50%</th>\n",
       "      <td>-5.382500e+03</td>\n",
       "      <td>3.940000e+02</td>\n",
       "      <td>-2.988851e-01</td>\n",
       "      <td>1.979400e+00</td>\n",
       "      <td>6.060000e+02</td>\n",
       "      <td>4.200827e-01</td>\n",
       "      <td>-4.198773e-01</td>\n",
       "      <td>-2.761240e-01</td>\n",
       "      <td>4.198773e-01</td>\n",
       "      <td>6.567817e-01</td>\n",
       "      <td>-6.049896e-01</td>\n",
       "      <td>3.124000e+03</td>\n",
       "      <td>9.880042e+06</td>\n",
       "      <td>4.100000e+02</td>\n",
       "      <td>1.277704e+07</td>\n",
       "      <td>8.040003e+02</td>\n",
       "      <td>4.400006e+02</td>\n",
       "      <td>1.307114e-02</td>\n",
       "      <td>5.158920e+00</td>\n",
       "      <td>6.121234e-02</td>\n",
       "    </tr>\n",
       "    <tr>\n",
       "      <th>75%</th>\n",
       "      <td>-3.175250e+03</td>\n",
       "      <td>5.780000e+02</td>\n",
       "      <td>-1.045573e-01</td>\n",
       "      <td>2.607357e+00</td>\n",
       "      <td>8.500000e+02</td>\n",
       "      <td>6.038794e-01</td>\n",
       "      <td>-2.689982e-01</td>\n",
       "      <td>-5.230957e-02</td>\n",
       "      <td>4.959538e-01</td>\n",
       "      <td>8.344371e-01</td>\n",
       "      <td>-2.162417e-01</td>\n",
       "      <td>3.764000e+03</td>\n",
       "      <td>1.600539e+07</td>\n",
       "      <td>7.970000e+02</td>\n",
       "      <td>2.069833e+07</td>\n",
       "      <td>1.028000e+03</td>\n",
       "      <td>6.500004e+02</td>\n",
       "      <td>2.353029e-02</td>\n",
       "      <td>9.832112e+00</td>\n",
       "      <td>1.141939e-01</td>\n",
       "    </tr>\n",
       "    <tr>\n",
       "      <th>max</th>\n",
       "      <td>1.587900e+04</td>\n",
       "      <td>8.888000e+03</td>\n",
       "      <td>2.000000e+00</td>\n",
       "      <td>3.300000e+05</td>\n",
       "      <td>9.192000e+03</td>\n",
       "      <td>7.615942e-01</td>\n",
       "      <td>1.000000e+00</td>\n",
       "      <td>1.000000e+00</td>\n",
       "      <td>1.000000e+00</td>\n",
       "      <td>1.000000e+00</td>\n",
       "      <td>1.000000e+00</td>\n",
       "      <td>1.282400e+04</td>\n",
       "      <td>1.628266e+08</td>\n",
       "      <td>9.480000e+03</td>\n",
       "      <td>2.105557e+08</td>\n",
       "      <td>6.967000e+03</td>\n",
       "      <td>7.595500e+03</td>\n",
       "      <td>1.523495e+02</td>\n",
       "      <td>3.100643e+05</td>\n",
       "      <td>3.000135e+03</td>\n",
       "    </tr>\n",
       "  </tbody>\n",
       "</table>\n",
       "</div>"
      ],
      "text/plain": [
       "               awei          blue          dbsi           evi         green  \\\n",
       "count  1.205604e+08  1.205604e+08  1.205526e+08  1.205604e+08  1.205604e+08   \n",
       "mean  -4.462877e+03  5.428684e+02 -2.210391e-01 -1.576497e+00  7.553603e+02   \n",
       "std    2.991744e+03  4.098897e+02  2.293991e-01  1.832855e+03  4.943895e+02   \n",
       "min   -3.521700e+04  0.000000e+00 -1.795745e+00 -3.300000e+05  0.000000e+00   \n",
       "25%   -6.585500e+03  3.080000e+02 -3.699685e-01  4.027149e-01  4.360000e+02   \n",
       "50%   -5.382500e+03  3.940000e+02 -2.988851e-01  1.979400e+00  6.060000e+02   \n",
       "75%   -3.175250e+03  5.780000e+02 -1.045573e-01  2.607357e+00  8.500000e+02   \n",
       "max    1.587900e+04  8.888000e+03  2.000000e+00  3.300000e+05  9.192000e+03   \n",
       "\n",
       "              kndvi         mndmi          ndbi          ndpi          ndvi  \\\n",
       "count  1.205526e+08  1.205599e+08  1.205599e+08  1.205599e+08  1.205526e+08   \n",
       "mean   3.640226e-01 -2.314373e-01 -2.279930e-01  2.314373e-01  4.524693e-01   \n",
       "std    2.490563e-01  4.546110e-01  2.389484e-01  4.546110e-01  4.571331e-01   \n",
       "min    0.000000e+00 -1.000000e+00 -1.000000e+00 -1.000000e+00 -1.000000e+00   \n",
       "25%    9.751995e-02 -4.959538e-01 -4.204993e-01  2.689982e-01  1.186703e-01   \n",
       "50%    4.200827e-01 -4.198773e-01 -2.761240e-01  4.198773e-01  6.567817e-01   \n",
       "75%    6.038794e-01 -2.689982e-01 -5.230957e-02  4.959538e-01  8.344371e-01   \n",
       "max    7.615942e-01  1.000000e+00  1.000000e+00  1.000000e+00  1.000000e+00   \n",
       "\n",
       "               ndwi           nir         osavi           red          savi  \\\n",
       "count  1.205594e+08  1.205604e+08  1.205604e+08  1.205604e+08  1.205604e+08   \n",
       "mean  -3.725659e-01  2.758638e+03  1.017849e+07  6.854185e+02  1.316289e+07   \n",
       "std    5.166087e-01  1.463356e+03  8.387827e+06  7.123683e+02  1.084709e+07   \n",
       "min   -1.000000e+00  0.000000e+00 -4.570903e+07  0.000000e+00 -5.910854e+07   \n",
       "25%   -7.393768e-01  2.210000e+03  2.469097e+06  2.400000e+02  3.193038e+06   \n",
       "50%   -6.049896e-01  3.124000e+03  9.880042e+06  4.100000e+02  1.277704e+07   \n",
       "75%   -2.162417e-01  3.764000e+03  1.600539e+07  7.970000e+02  2.069833e+07   \n",
       "max    1.000000e+00  1.282400e+04  1.628266e+08  9.480000e+03  2.105557e+08   \n",
       "\n",
       "              str11         str12            VH         VV-VH            VV  \n",
       "count  1.205604e+08  1.205604e+08  1.205604e+08  1.205604e+08  1.205604e+08  \n",
       "mean   8.236723e+02  5.634792e+02  1.686121e-02  2.518611e+01  9.104504e-02  \n",
       "std    5.062268e+02  4.798425e+02  4.220213e-02  1.132117e+02  7.155829e-01  \n",
       "min    0.000000e+00  0.000000e+00  1.644899e-07  6.770266e-04  9.349317e-07  \n",
       "25%    6.405004e+02  3.205008e+02  5.047485e-03  2.996706e+00  2.341818e-02  \n",
       "50%    8.040003e+02  4.400006e+02  1.307114e-02  5.158920e+00  6.121234e-02  \n",
       "75%    1.028000e+03  6.500004e+02  2.353029e-02  9.832112e+00  1.141939e-01  \n",
       "max    6.967000e+03  7.595500e+03  1.523495e+02  3.100643e+05  3.000135e+03  "
      ]
     },
     "execution_count": 6,
     "metadata": {},
     "output_type": "execute_result"
    }
   ],
   "source": [
    "df.describe()"
   ]
  },
  {
   "cell_type": "code",
   "execution_count": 3,
   "id": "db1be56b-a0ac-468c-9152-2248ad129c03",
   "metadata": {},
   "outputs": [],
   "source": [
    "df = df.astype('float32')"
   ]
  },
  {
   "cell_type": "code",
   "execution_count": 8,
   "id": "0de13b97-2f24-46c6-8758-6eaef4abd2af",
   "metadata": {},
   "outputs": [
    {
     "data": {
      "text/html": [
       "<div>\n",
       "<style scoped>\n",
       "    .dataframe tbody tr th:only-of-type {\n",
       "        vertical-align: middle;\n",
       "    }\n",
       "\n",
       "    .dataframe tbody tr th {\n",
       "        vertical-align: top;\n",
       "    }\n",
       "\n",
       "    .dataframe thead th {\n",
       "        text-align: right;\n",
       "    }\n",
       "</style>\n",
       "<table border=\"1\" class=\"dataframe\">\n",
       "  <thead>\n",
       "    <tr style=\"text-align: right;\">\n",
       "      <th></th>\n",
       "      <th>awei</th>\n",
       "      <th>blue</th>\n",
       "      <th>dbsi</th>\n",
       "      <th>evi</th>\n",
       "      <th>green</th>\n",
       "      <th>kndvi</th>\n",
       "      <th>mndmi</th>\n",
       "      <th>ndbi</th>\n",
       "      <th>ndpi</th>\n",
       "      <th>ndvi</th>\n",
       "      <th>ndwi</th>\n",
       "      <th>nir</th>\n",
       "      <th>osavi</th>\n",
       "      <th>red</th>\n",
       "      <th>savi</th>\n",
       "      <th>str11</th>\n",
       "      <th>str12</th>\n",
       "      <th>VH</th>\n",
       "      <th>VV-VH</th>\n",
       "      <th>VV</th>\n",
       "    </tr>\n",
       "  </thead>\n",
       "  <tbody>\n",
       "    <tr>\n",
       "      <th>0</th>\n",
       "      <td>962.25</td>\n",
       "      <td>409.0</td>\n",
       "      <td>-0.365920</td>\n",
       "      <td>0.059429</td>\n",
       "      <td>325.0</td>\n",
       "      <td>0.058976</td>\n",
       "      <td>0.608911</td>\n",
       "      <td>-0.012500</td>\n",
       "      <td>-0.608911</td>\n",
       "      <td>-0.242991</td>\n",
       "      <td>0.600985</td>\n",
       "      <td>81.0</td>\n",
       "      <td>-12918.130859</td>\n",
       "      <td>133.0</td>\n",
       "      <td>-16731.00</td>\n",
       "      <td>38.506329</td>\n",
       "      <td>37.506493</td>\n",
       "      <td>0.000288</td>\n",
       "      <td>7.414589</td>\n",
       "      <td>0.002133</td>\n",
       "    </tr>\n",
       "    <tr>\n",
       "      <th>1</th>\n",
       "      <td>891.75</td>\n",
       "      <td>401.0</td>\n",
       "      <td>-0.317651</td>\n",
       "      <td>0.062776</td>\n",
       "      <td>297.0</td>\n",
       "      <td>0.068607</td>\n",
       "      <td>0.579787</td>\n",
       "      <td>0.019355</td>\n",
       "      <td>-0.579787</td>\n",
       "      <td>-0.262136</td>\n",
       "      <td>0.592493</td>\n",
       "      <td>76.0</td>\n",
       "      <td>-12913.862305</td>\n",
       "      <td>130.0</td>\n",
       "      <td>-16726.50</td>\n",
       "      <td>38.506329</td>\n",
       "      <td>37.506493</td>\n",
       "      <td>0.000130</td>\n",
       "      <td>17.670248</td>\n",
       "      <td>0.002293</td>\n",
       "    </tr>\n",
       "    <tr>\n",
       "      <th>2</th>\n",
       "      <td>959.25</td>\n",
       "      <td>409.0</td>\n",
       "      <td>-0.430322</td>\n",
       "      <td>0.046574</td>\n",
       "      <td>317.0</td>\n",
       "      <td>0.043204</td>\n",
       "      <td>0.638243</td>\n",
       "      <td>-0.066667</td>\n",
       "      <td>-0.638243</td>\n",
       "      <td>-0.207921</td>\n",
       "      <td>0.596977</td>\n",
       "      <td>80.0</td>\n",
       "      <td>-9849.235352</td>\n",
       "      <td>122.0</td>\n",
       "      <td>-12757.50</td>\n",
       "      <td>34.007141</td>\n",
       "      <td>33.507248</td>\n",
       "      <td>0.000016</td>\n",
       "      <td>78.076813</td>\n",
       "      <td>0.001272</td>\n",
       "    </tr>\n",
       "    <tr>\n",
       "      <th>3</th>\n",
       "      <td>1000.25</td>\n",
       "      <td>430.0</td>\n",
       "      <td>-0.429883</td>\n",
       "      <td>0.045833</td>\n",
       "      <td>325.0</td>\n",
       "      <td>0.046487</td>\n",
       "      <td>0.645570</td>\n",
       "      <td>-0.066667</td>\n",
       "      <td>-0.645570</td>\n",
       "      <td>-0.215686</td>\n",
       "      <td>0.604938</td>\n",
       "      <td>80.0</td>\n",
       "      <td>-10420.326172</td>\n",
       "      <td>124.0</td>\n",
       "      <td>-13497.00</td>\n",
       "      <td>34.007141</td>\n",
       "      <td>33.507248</td>\n",
       "      <td>0.000032</td>\n",
       "      <td>19.939922</td>\n",
       "      <td>0.000639</td>\n",
       "    </tr>\n",
       "    <tr>\n",
       "      <th>4</th>\n",
       "      <td>990.50</td>\n",
       "      <td>436.0</td>\n",
       "      <td>-0.446256</td>\n",
       "      <td>0.037724</td>\n",
       "      <td>325.0</td>\n",
       "      <td>0.031939</td>\n",
       "      <td>0.625000</td>\n",
       "      <td>-0.062500</td>\n",
       "      <td>-0.625000</td>\n",
       "      <td>-0.178744</td>\n",
       "      <td>0.585366</td>\n",
       "      <td>85.0</td>\n",
       "      <td>-8891.307617</td>\n",
       "      <td>122.0</td>\n",
       "      <td>-11516.25</td>\n",
       "      <td>36.506668</td>\n",
       "      <td>35.006943</td>\n",
       "      <td>0.000018</td>\n",
       "      <td>155.772690</td>\n",
       "      <td>0.002747</td>\n",
       "    </tr>\n",
       "  </tbody>\n",
       "</table>\n",
       "</div>"
      ],
      "text/plain": [
       "      awei   blue      dbsi       evi  green     kndvi     mndmi      ndbi  \\\n",
       "0   962.25  409.0 -0.365920  0.059429  325.0  0.058976  0.608911 -0.012500   \n",
       "1   891.75  401.0 -0.317651  0.062776  297.0  0.068607  0.579787  0.019355   \n",
       "2   959.25  409.0 -0.430322  0.046574  317.0  0.043204  0.638243 -0.066667   \n",
       "3  1000.25  430.0 -0.429883  0.045833  325.0  0.046487  0.645570 -0.066667   \n",
       "4   990.50  436.0 -0.446256  0.037724  325.0  0.031939  0.625000 -0.062500   \n",
       "\n",
       "       ndpi      ndvi      ndwi   nir         osavi    red      savi  \\\n",
       "0 -0.608911 -0.242991  0.600985  81.0 -12918.130859  133.0 -16731.00   \n",
       "1 -0.579787 -0.262136  0.592493  76.0 -12913.862305  130.0 -16726.50   \n",
       "2 -0.638243 -0.207921  0.596977  80.0  -9849.235352  122.0 -12757.50   \n",
       "3 -0.645570 -0.215686  0.604938  80.0 -10420.326172  124.0 -13497.00   \n",
       "4 -0.625000 -0.178744  0.585366  85.0  -8891.307617  122.0 -11516.25   \n",
       "\n",
       "       str11      str12        VH       VV-VH        VV  \n",
       "0  38.506329  37.506493  0.000288    7.414589  0.002133  \n",
       "1  38.506329  37.506493  0.000130   17.670248  0.002293  \n",
       "2  34.007141  33.507248  0.000016   78.076813  0.001272  \n",
       "3  34.007141  33.507248  0.000032   19.939922  0.000639  \n",
       "4  36.506668  35.006943  0.000018  155.772690  0.002747  "
      ]
     },
     "execution_count": 8,
     "metadata": {},
     "output_type": "execute_result"
    }
   ],
   "source": [
    "df.head()"
   ]
  },
  {
   "cell_type": "code",
   "execution_count": 9,
   "id": "34a69ac5-8396-440e-bbfa-5fce0a6d4080",
   "metadata": {},
   "outputs": [
    {
     "name": "stdout",
     "output_type": "stream",
     "text": [
      "<class 'pandas.core.frame.DataFrame'>\n",
      "RangeIndex: 120560400 entries, 0 to 120560399\n",
      "Data columns (total 20 columns):\n",
      " #   Column  Dtype  \n",
      "---  ------  -----  \n",
      " 0   awei    float32\n",
      " 1   blue    float32\n",
      " 2   dbsi    float32\n",
      " 3   evi     float32\n",
      " 4   green   float32\n",
      " 5   kndvi   float32\n",
      " 6   mndmi   float32\n",
      " 7   ndbi    float32\n",
      " 8   ndpi    float32\n",
      " 9   ndvi    float32\n",
      " 10  ndwi    float32\n",
      " 11  nir     float32\n",
      " 12  osavi   float32\n",
      " 13  red     float32\n",
      " 14  savi    float32\n",
      " 15  str11   float32\n",
      " 16  str12   float32\n",
      " 17  VH      float32\n",
      " 18  VV-VH   float32\n",
      " 19  VV      float32\n",
      "dtypes: float32(20)\n",
      "memory usage: 9.0 GB\n"
     ]
    }
   ],
   "source": [
    "df.info()"
   ]
  },
  {
   "cell_type": "code",
   "execution_count": 10,
   "id": "93f9117c-3e64-4e4f-87f1-ff35c2f1ae49",
   "metadata": {},
   "outputs": [
    {
     "data": {
      "text/html": [
       "<div>\n",
       "<style scoped>\n",
       "    .dataframe tbody tr th:only-of-type {\n",
       "        vertical-align: middle;\n",
       "    }\n",
       "\n",
       "    .dataframe tbody tr th {\n",
       "        vertical-align: top;\n",
       "    }\n",
       "\n",
       "    .dataframe thead th {\n",
       "        text-align: right;\n",
       "    }\n",
       "</style>\n",
       "<table border=\"1\" class=\"dataframe\">\n",
       "  <thead>\n",
       "    <tr style=\"text-align: right;\">\n",
       "      <th></th>\n",
       "      <th>awei</th>\n",
       "      <th>blue</th>\n",
       "      <th>dbsi</th>\n",
       "      <th>evi</th>\n",
       "      <th>green</th>\n",
       "      <th>kndvi</th>\n",
       "      <th>mndmi</th>\n",
       "      <th>ndbi</th>\n",
       "      <th>ndpi</th>\n",
       "      <th>ndvi</th>\n",
       "      <th>ndwi</th>\n",
       "      <th>nir</th>\n",
       "      <th>osavi</th>\n",
       "      <th>red</th>\n",
       "      <th>savi</th>\n",
       "      <th>str11</th>\n",
       "      <th>str12</th>\n",
       "      <th>VH</th>\n",
       "      <th>VV-VH</th>\n",
       "      <th>VV</th>\n",
       "    </tr>\n",
       "  </thead>\n",
       "  <tbody>\n",
       "    <tr>\n",
       "      <th>count</th>\n",
       "      <td>1.205604e+08</td>\n",
       "      <td>1.205604e+08</td>\n",
       "      <td>1.205526e+08</td>\n",
       "      <td>1.205604e+08</td>\n",
       "      <td>1.205604e+08</td>\n",
       "      <td>1.205526e+08</td>\n",
       "      <td>1.205599e+08</td>\n",
       "      <td>1.205599e+08</td>\n",
       "      <td>1.205599e+08</td>\n",
       "      <td>1.205526e+08</td>\n",
       "      <td>1.205594e+08</td>\n",
       "      <td>1.205604e+08</td>\n",
       "      <td>1.205604e+08</td>\n",
       "      <td>1.205604e+08</td>\n",
       "      <td>120560400.0</td>\n",
       "      <td>1.205604e+08</td>\n",
       "      <td>1.205604e+08</td>\n",
       "      <td>1.205604e+08</td>\n",
       "      <td>1.205604e+08</td>\n",
       "      <td>1.205604e+08</td>\n",
       "    </tr>\n",
       "    <tr>\n",
       "      <th>mean</th>\n",
       "      <td>-4.462875e+03</td>\n",
       "      <td>5.428680e+02</td>\n",
       "      <td>-2.210384e-01</td>\n",
       "      <td>-1.576493e+00</td>\n",
       "      <td>7.553598e+02</td>\n",
       "      <td>3.640226e-01</td>\n",
       "      <td>-2.314374e-01</td>\n",
       "      <td>-2.279930e-01</td>\n",
       "      <td>2.314374e-01</td>\n",
       "      <td>4.524686e-01</td>\n",
       "      <td>-3.725668e-01</td>\n",
       "      <td>2.758642e+03</td>\n",
       "      <td>1.017850e+07</td>\n",
       "      <td>6.854184e+02</td>\n",
       "      <td>13162852.0</td>\n",
       "      <td>8.236735e+02</td>\n",
       "      <td>5.634774e+02</td>\n",
       "      <td>1.686124e-02</td>\n",
       "      <td>2.518618e+01</td>\n",
       "      <td>9.104492e-02</td>\n",
       "    </tr>\n",
       "    <tr>\n",
       "      <th>std</th>\n",
       "      <td>3.081942e+03</td>\n",
       "      <td>4.469239e+02</td>\n",
       "      <td>1.846113e-01</td>\n",
       "      <td>1.832828e+03</td>\n",
       "      <td>5.778926e+02</td>\n",
       "      <td>2.637890e-01</td>\n",
       "      <td>3.687679e-01</td>\n",
       "      <td>1.881849e-01</td>\n",
       "      <td>3.687679e-01</td>\n",
       "      <td>3.733466e-01</td>\n",
       "      <td>3.731667e-01</td>\n",
       "      <td>1.560464e+03</td>\n",
       "      <td>8.088852e+06</td>\n",
       "      <td>7.222431e+02</td>\n",
       "      <td>10552574.0</td>\n",
       "      <td>5.735591e+02</td>\n",
       "      <td>5.128111e+02</td>\n",
       "      <td>4.054161e-02</td>\n",
       "      <td>1.119266e+02</td>\n",
       "      <td>7.103187e-01</td>\n",
       "    </tr>\n",
       "    <tr>\n",
       "      <th>min</th>\n",
       "      <td>-3.521700e+04</td>\n",
       "      <td>0.000000e+00</td>\n",
       "      <td>-1.795745e+00</td>\n",
       "      <td>-3.300000e+05</td>\n",
       "      <td>0.000000e+00</td>\n",
       "      <td>0.000000e+00</td>\n",
       "      <td>-1.000000e+00</td>\n",
       "      <td>-1.000000e+00</td>\n",
       "      <td>-1.000000e+00</td>\n",
       "      <td>-1.000000e+00</td>\n",
       "      <td>-1.000000e+00</td>\n",
       "      <td>0.000000e+00</td>\n",
       "      <td>-4.570902e+07</td>\n",
       "      <td>0.000000e+00</td>\n",
       "      <td>-59108540.0</td>\n",
       "      <td>0.000000e+00</td>\n",
       "      <td>0.000000e+00</td>\n",
       "      <td>1.644899e-07</td>\n",
       "      <td>6.770266e-04</td>\n",
       "      <td>9.349317e-07</td>\n",
       "    </tr>\n",
       "    <tr>\n",
       "      <th>25%</th>\n",
       "      <td>-6.585500e+03</td>\n",
       "      <td>3.080000e+02</td>\n",
       "      <td>-3.699685e-01</td>\n",
       "      <td>4.027149e-01</td>\n",
       "      <td>4.360000e+02</td>\n",
       "      <td>9.751995e-02</td>\n",
       "      <td>-4.959538e-01</td>\n",
       "      <td>-4.204994e-01</td>\n",
       "      <td>2.689981e-01</td>\n",
       "      <td>1.186703e-01</td>\n",
       "      <td>-7.393768e-01</td>\n",
       "      <td>2.210000e+03</td>\n",
       "      <td>2.469097e+06</td>\n",
       "      <td>2.400000e+02</td>\n",
       "      <td>3193038.0</td>\n",
       "      <td>6.405004e+02</td>\n",
       "      <td>3.205008e+02</td>\n",
       "      <td>5.047485e-03</td>\n",
       "      <td>2.996706e+00</td>\n",
       "      <td>2.341818e-02</td>\n",
       "    </tr>\n",
       "    <tr>\n",
       "      <th>50%</th>\n",
       "      <td>-5.382500e+03</td>\n",
       "      <td>3.940000e+02</td>\n",
       "      <td>-2.988851e-01</td>\n",
       "      <td>1.979400e+00</td>\n",
       "      <td>6.060000e+02</td>\n",
       "      <td>4.200827e-01</td>\n",
       "      <td>-4.198773e-01</td>\n",
       "      <td>-2.761240e-01</td>\n",
       "      <td>4.198773e-01</td>\n",
       "      <td>6.567817e-01</td>\n",
       "      <td>-6.049896e-01</td>\n",
       "      <td>3.124000e+03</td>\n",
       "      <td>9.880042e+06</td>\n",
       "      <td>4.100000e+02</td>\n",
       "      <td>12777041.0</td>\n",
       "      <td>8.040003e+02</td>\n",
       "      <td>4.400006e+02</td>\n",
       "      <td>1.307114e-02</td>\n",
       "      <td>5.158920e+00</td>\n",
       "      <td>6.121234e-02</td>\n",
       "    </tr>\n",
       "    <tr>\n",
       "      <th>75%</th>\n",
       "      <td>-3.175250e+03</td>\n",
       "      <td>5.780000e+02</td>\n",
       "      <td>-1.045573e-01</td>\n",
       "      <td>2.607357e+00</td>\n",
       "      <td>8.500000e+02</td>\n",
       "      <td>6.038793e-01</td>\n",
       "      <td>-2.689981e-01</td>\n",
       "      <td>-5.230958e-02</td>\n",
       "      <td>4.959538e-01</td>\n",
       "      <td>8.344371e-01</td>\n",
       "      <td>-2.162417e-01</td>\n",
       "      <td>3.764000e+03</td>\n",
       "      <td>1.600539e+07</td>\n",
       "      <td>7.970000e+02</td>\n",
       "      <td>20698330.0</td>\n",
       "      <td>1.028000e+03</td>\n",
       "      <td>6.500004e+02</td>\n",
       "      <td>2.353029e-02</td>\n",
       "      <td>9.832112e+00</td>\n",
       "      <td>1.141939e-01</td>\n",
       "    </tr>\n",
       "    <tr>\n",
       "      <th>max</th>\n",
       "      <td>1.587900e+04</td>\n",
       "      <td>8.888000e+03</td>\n",
       "      <td>2.000000e+00</td>\n",
       "      <td>3.300000e+05</td>\n",
       "      <td>9.192000e+03</td>\n",
       "      <td>7.615942e-01</td>\n",
       "      <td>1.000000e+00</td>\n",
       "      <td>1.000000e+00</td>\n",
       "      <td>1.000000e+00</td>\n",
       "      <td>1.000000e+00</td>\n",
       "      <td>1.000000e+00</td>\n",
       "      <td>1.282400e+04</td>\n",
       "      <td>1.628266e+08</td>\n",
       "      <td>9.480000e+03</td>\n",
       "      <td>210555712.0</td>\n",
       "      <td>6.967000e+03</td>\n",
       "      <td>7.595500e+03</td>\n",
       "      <td>1.523495e+02</td>\n",
       "      <td>3.100643e+05</td>\n",
       "      <td>3.000135e+03</td>\n",
       "    </tr>\n",
       "  </tbody>\n",
       "</table>\n",
       "</div>"
      ],
      "text/plain": [
       "               awei          blue          dbsi           evi         green  \\\n",
       "count  1.205604e+08  1.205604e+08  1.205526e+08  1.205604e+08  1.205604e+08   \n",
       "mean  -4.462875e+03  5.428680e+02 -2.210384e-01 -1.576493e+00  7.553598e+02   \n",
       "std    3.081942e+03  4.469239e+02  1.846113e-01  1.832828e+03  5.778926e+02   \n",
       "min   -3.521700e+04  0.000000e+00 -1.795745e+00 -3.300000e+05  0.000000e+00   \n",
       "25%   -6.585500e+03  3.080000e+02 -3.699685e-01  4.027149e-01  4.360000e+02   \n",
       "50%   -5.382500e+03  3.940000e+02 -2.988851e-01  1.979400e+00  6.060000e+02   \n",
       "75%   -3.175250e+03  5.780000e+02 -1.045573e-01  2.607357e+00  8.500000e+02   \n",
       "max    1.587900e+04  8.888000e+03  2.000000e+00  3.300000e+05  9.192000e+03   \n",
       "\n",
       "              kndvi         mndmi          ndbi          ndpi          ndvi  \\\n",
       "count  1.205526e+08  1.205599e+08  1.205599e+08  1.205599e+08  1.205526e+08   \n",
       "mean   3.640226e-01 -2.314374e-01 -2.279930e-01  2.314374e-01  4.524686e-01   \n",
       "std    2.637890e-01  3.687679e-01  1.881849e-01  3.687679e-01  3.733466e-01   \n",
       "min    0.000000e+00 -1.000000e+00 -1.000000e+00 -1.000000e+00 -1.000000e+00   \n",
       "25%    9.751995e-02 -4.959538e-01 -4.204994e-01  2.689981e-01  1.186703e-01   \n",
       "50%    4.200827e-01 -4.198773e-01 -2.761240e-01  4.198773e-01  6.567817e-01   \n",
       "75%    6.038793e-01 -2.689981e-01 -5.230958e-02  4.959538e-01  8.344371e-01   \n",
       "max    7.615942e-01  1.000000e+00  1.000000e+00  1.000000e+00  1.000000e+00   \n",
       "\n",
       "               ndwi           nir         osavi           red         savi  \\\n",
       "count  1.205594e+08  1.205604e+08  1.205604e+08  1.205604e+08  120560400.0   \n",
       "mean  -3.725668e-01  2.758642e+03  1.017850e+07  6.854184e+02   13162852.0   \n",
       "std    3.731667e-01  1.560464e+03  8.088852e+06  7.222431e+02   10552574.0   \n",
       "min   -1.000000e+00  0.000000e+00 -4.570902e+07  0.000000e+00  -59108540.0   \n",
       "25%   -7.393768e-01  2.210000e+03  2.469097e+06  2.400000e+02    3193038.0   \n",
       "50%   -6.049896e-01  3.124000e+03  9.880042e+06  4.100000e+02   12777041.0   \n",
       "75%   -2.162417e-01  3.764000e+03  1.600539e+07  7.970000e+02   20698330.0   \n",
       "max    1.000000e+00  1.282400e+04  1.628266e+08  9.480000e+03  210555712.0   \n",
       "\n",
       "              str11         str12            VH         VV-VH            VV  \n",
       "count  1.205604e+08  1.205604e+08  1.205604e+08  1.205604e+08  1.205604e+08  \n",
       "mean   8.236735e+02  5.634774e+02  1.686124e-02  2.518618e+01  9.104492e-02  \n",
       "std    5.735591e+02  5.128111e+02  4.054161e-02  1.119266e+02  7.103187e-01  \n",
       "min    0.000000e+00  0.000000e+00  1.644899e-07  6.770266e-04  9.349317e-07  \n",
       "25%    6.405004e+02  3.205008e+02  5.047485e-03  2.996706e+00  2.341818e-02  \n",
       "50%    8.040003e+02  4.400006e+02  1.307114e-02  5.158920e+00  6.121234e-02  \n",
       "75%    1.028000e+03  6.500004e+02  2.353029e-02  9.832112e+00  1.141939e-01  \n",
       "max    6.967000e+03  7.595500e+03  1.523495e+02  3.100643e+05  3.000135e+03  "
      ]
     },
     "execution_count": 10,
     "metadata": {},
     "output_type": "execute_result"
    }
   ],
   "source": [
    "df.describe()"
   ]
  },
  {
   "cell_type": "code",
   "execution_count": 11,
   "id": "1852880a-85eb-4b6a-b20c-6ddb0099f1a7",
   "metadata": {
    "tags": []
   },
   "outputs": [
    {
     "data": {
      "text/plain": [
       "0"
      ]
     },
     "execution_count": 11,
     "metadata": {},
     "output_type": "execute_result"
    }
   ],
   "source": [
    "np.isinf(df).values.sum() "
   ]
  },
  {
   "cell_type": "code",
   "execution_count": 12,
   "id": "d3aea05a-666e-4459-b7c8-fbd01da2a7aa",
   "metadata": {
    "tags": []
   },
   "outputs": [
    {
     "data": {
      "text/plain": [
       "awei        0\n",
       "blue        0\n",
       "dbsi     7819\n",
       "evi         6\n",
       "green       0\n",
       "kndvi    7819\n",
       "mndmi     512\n",
       "ndbi      518\n",
       "ndpi      512\n",
       "ndvi     7819\n",
       "ndwi     1035\n",
       "nir         0\n",
       "osavi       0\n",
       "red         0\n",
       "savi        0\n",
       "str11       0\n",
       "str12       0\n",
       "VH          0\n",
       "VV-VH       0\n",
       "VV          0\n",
       "dtype: int64"
      ]
     },
     "execution_count": 12,
     "metadata": {},
     "output_type": "execute_result"
    }
   ],
   "source": [
    "df.isnull().sum()"
   ]
  },
  {
   "cell_type": "code",
   "execution_count": 5,
   "id": "473688bd-3315-4ec4-bd17-9a2c036a2f33",
   "metadata": {},
   "outputs": [],
   "source": [
    "# Replacing the nan to zero\n",
    "df.replace(np.nan, 0, inplace=True)"
   ]
  },
  {
   "cell_type": "markdown",
   "id": "f45bf92b-b6e2-4605-ba16-308f8e02e280",
   "metadata": {},
   "source": [
    "# Data Preparation for Model Building"
   ]
  },
  {
   "cell_type": "code",
   "execution_count": 4,
   "id": "e4956c68-856b-4315-b08e-ca3a173ce7e6",
   "metadata": {
    "tags": []
   },
   "outputs": [],
   "source": [
    "import warnings\n",
    "warnings.filterwarnings(\"ignore\")"
   ]
  },
  {
   "cell_type": "code",
   "execution_count": 5,
   "id": "2205814d-da22-45f7-bb3a-5eec2bc29e5b",
   "metadata": {
    "tags": []
   },
   "outputs": [
    {
     "name": "stdout",
     "output_type": "stream",
     "text": [
      "(120560400, 20)\n"
     ]
    }
   ],
   "source": [
    "# Creating training and test sets\n",
    "# Splitting the data into train and test\n",
    "X = df.iloc[:, :]\n",
    "\n",
    "# Load the scaler object\n",
    "with open('models/LU/scaler.pkl', 'rb') as f:\n",
    "    scaler = pickle.load(f)\n",
    "\n",
    "# Transform the 2023 data using the loaded scaler\n",
    "X_scaled = scaler.transform(X)\n",
    "\n",
    "print(X_scaled.shape)"
   ]
  },
  {
   "cell_type": "code",
   "execution_count": 8,
   "id": "8a39c83f-4f61-4089-b019-46a5176bbd3c",
   "metadata": {},
   "outputs": [
    {
     "data": {
      "text/plain": [
       "dtype('float32')"
      ]
     },
     "execution_count": 8,
     "metadata": {},
     "output_type": "execute_result"
    }
   ],
   "source": [
    "X_scaled.dtype"
   ]
  },
  {
   "cell_type": "code",
   "execution_count": 6,
   "id": "bd21f773-b011-4981-9546-e46475cae1a5",
   "metadata": {},
   "outputs": [
    {
     "data": {
      "text/plain": [
       "42"
      ]
     },
     "execution_count": 6,
     "metadata": {},
     "output_type": "execute_result"
    }
   ],
   "source": [
    "import gc\n",
    "del df\n",
    "del scaler\n",
    "gc.collect()"
   ]
  },
  {
   "cell_type": "markdown",
   "id": "47678e85-5e2e-4be5-8a3d-924e01b15272",
   "metadata": {},
   "source": [
    "## Classifiers"
   ]
  },
  {
   "cell_type": "code",
   "execution_count": 7,
   "id": "fcb2c2c1-861b-4700-a539-29cd5a0be165",
   "metadata": {},
   "outputs": [],
   "source": [
    "# Copy the profile of sentinel-2 band\n",
    "with rasterio.open(\"LU/2023-08-06/blue_2023-08-06.tif\") as src:\n",
    "    out_profile = src.profile.copy()"
   ]
  },
  {
   "cell_type": "code",
   "execution_count": 11,
   "id": "13e3b1a1-0152-4b2d-ac6f-751fff20359c",
   "metadata": {
    "tags": []
   },
   "outputs": [
    {
     "data": {
      "text/plain": [
       "['Cultivated_area',\n",
       " 'Trees_palms',\n",
       " 'Buildings',\n",
       " 'Roads',\n",
       " 'Water_bodies',\n",
       " 'Aqua_culture']"
      ]
     },
     "execution_count": 11,
     "metadata": {},
     "output_type": "execute_result"
    }
   ],
   "source": [
    "#LU = df.class.unique()\n",
    "LU = ['Cultivated_area', 'Trees_palms', 'Buildings', 'Roads', 'Water_bodies', 'Aqua_culture']\n",
    "LU"
   ]
  },
  {
   "cell_type": "markdown",
   "id": "3ce3ca97-b207-4b63-9db9-86d65a71a94f",
   "metadata": {},
   "source": [
    "### KNeighborsClassifier"
   ]
  },
  {
   "cell_type": "code",
   "execution_count": 8,
   "id": "f757bc9f-abc5-4b06-9186-f1bcd1d877f1",
   "metadata": {
    "tags": []
   },
   "outputs": [],
   "source": [
    "# Load saved model\n",
    "pickled_knn_cv = pickle.load(open('models/LU/knn_cv.pkl', 'rb'))"
   ]
  },
  {
   "cell_type": "code",
   "execution_count": null,
   "id": "7b75684c-cac0-4151-9a48-25555cb9c4ba",
   "metadata": {},
   "outputs": [
    {
     "name": "stdout",
     "output_type": "stream",
     "text": [
      "2024-07-03 20:21:09.285212\n"
     ]
    }
   ],
   "source": [
    "print(datetime.datetime.now())\n",
    "y_pred_knn = pickled_knn_cv.predict(X_scaled)\n",
    "print(datetime.datetime.now())"
   ]
  },
  {
   "cell_type": "code",
   "execution_count": 9,
   "id": "2eb5f26b-1ccf-449d-bd28-223f24b68b60",
   "metadata": {},
   "outputs": [
    {
     "data": {
      "text/plain": [
       "array([1., 2., 2., ..., 1., 1., 1.])"
      ]
     },
     "execution_count": 9,
     "metadata": {},
     "output_type": "execute_result"
    }
   ],
   "source": [
    "y_pred_knn"
   ]
  },
  {
   "cell_type": "code",
   "execution_count": 10,
   "id": "64a0b4f2-408a-4357-bd29-a8936936d6cc",
   "metadata": {},
   "outputs": [],
   "source": [
    "# reshape to 2d\n",
    "y_pred_knn_2d = np.reshape(y_pred_knn,(10980,10980))"
   ]
  },
  {
   "cell_type": "code",
   "execution_count": 11,
   "id": "6f3ea8df-3c74-4595-8ee2-00fa3ba28cda",
   "metadata": {},
   "outputs": [
    {
     "data": {
      "text/plain": [
       "array([[1., 2., 2., ..., 1., 1., 3.],\n",
       "       [3., 2., 2., ..., 1., 1., 2.],\n",
       "       [1., 2., 2., ..., 2., 3., 1.],\n",
       "       ...,\n",
       "       [1., 1., 1., ..., 1., 1., 1.],\n",
       "       [1., 1., 2., ..., 1., 1., 2.],\n",
       "       [1., 1., 1., ..., 1., 1., 1.]])"
      ]
     },
     "execution_count": 11,
     "metadata": {},
     "output_type": "execute_result"
    }
   ],
   "source": [
    "y_pred_knn_2d"
   ]
  },
  {
   "cell_type": "code",
   "execution_count": 13,
   "id": "c6c54ad2-951f-4726-8b6e-20e682100c3d",
   "metadata": {},
   "outputs": [],
   "source": [
    "# Save the prediction result as a geotif file\n",
    "with rasterio.open(\"images/LU/predict/knn_20230806.tif\", 'w', **out_profile) as dst:\n",
    "    dst.write(y_pred_knn_2d, indexes=1)"
   ]
  },
  {
   "cell_type": "code",
   "execution_count": 39,
   "id": "9b1a3bbe-da1a-4b24-9919-8a3952e1f7a7",
   "metadata": {
    "tags": []
   },
   "outputs": [],
   "source": []
  },
  {
   "cell_type": "code",
   "execution_count": null,
   "id": "ed3e3690-af3e-4655-8358-71543d9af086",
   "metadata": {},
   "outputs": [],
   "source": []
  },
  {
   "cell_type": "code",
   "execution_count": null,
   "id": "3bb7e776-2961-4663-a919-394f3a477c52",
   "metadata": {},
   "outputs": [],
   "source": []
  },
  {
   "cell_type": "code",
   "execution_count": null,
   "id": "a250df2e-0a66-4137-a95f-69ec41d7f041",
   "metadata": {},
   "outputs": [],
   "source": []
  },
  {
   "cell_type": "markdown",
   "id": "89823016-ff06-4808-8c0a-ee1dc8c8ca93",
   "metadata": {},
   "source": [
    "### DecisionTreeClassifier"
   ]
  },
  {
   "cell_type": "code",
   "execution_count": 28,
   "id": "2872ae47-1007-4ef4-ad12-20f169eaa380",
   "metadata": {},
   "outputs": [],
   "source": [
    "# Load saved model \n",
    "pickled_dt_cv = pickle.load(open('models/LU/dt_cv.pkl', 'rb'))"
   ]
  },
  {
   "cell_type": "code",
   "execution_count": 29,
   "id": "2bf46a10-f709-4513-9a4c-29365a8480f9",
   "metadata": {},
   "outputs": [
    {
     "name": "stdout",
     "output_type": "stream",
     "text": [
      "2024-06-06 10:43:26.460502\n",
      "2024-06-06 10:43:59.250991\n"
     ]
    }
   ],
   "source": [
    "print(datetime.datetime.now())\n",
    "y_pred_dt = pickled_dt_cv.predict(X_scaled)\n",
    "print(datetime.datetime.now())"
   ]
  },
  {
   "cell_type": "code",
   "execution_count": 30,
   "id": "853d3a4d-e39a-4e40-9b73-cbde0ad126df",
   "metadata": {},
   "outputs": [
    {
     "data": {
      "text/plain": [
       "array([5., 5., 5., ..., 3., 1., 3.])"
      ]
     },
     "execution_count": 30,
     "metadata": {},
     "output_type": "execute_result"
    }
   ],
   "source": [
    "y_pred_dt"
   ]
  },
  {
   "cell_type": "code",
   "execution_count": 31,
   "id": "f08b2143-ac1d-45c7-8700-53516a31e1f5",
   "metadata": {},
   "outputs": [],
   "source": [
    "# reshape to 2d\n",
    "y_pred_dt_2d = np.reshape(y_pred_dt,(10980,10980))"
   ]
  },
  {
   "cell_type": "code",
   "execution_count": 32,
   "id": "d93a8415-97bb-4109-8373-d91f0b1ccf3c",
   "metadata": {},
   "outputs": [
    {
     "data": {
      "text/plain": [
       "array([[5., 5., 5., ..., 5., 5., 5.],\n",
       "       [5., 5., 5., ..., 5., 5., 5.],\n",
       "       [5., 5., 5., ..., 5., 5., 5.],\n",
       "       ...,\n",
       "       [1., 4., 1., ..., 3., 3., 3.],\n",
       "       [1., 4., 2., ..., 3., 4., 3.],\n",
       "       [1., 1., 4., ..., 3., 1., 3.]])"
      ]
     },
     "execution_count": 32,
     "metadata": {},
     "output_type": "execute_result"
    }
   ],
   "source": [
    "y_pred_dt_2d"
   ]
  },
  {
   "cell_type": "code",
   "execution_count": 33,
   "id": "d4d20c23-2b92-494d-9e83-f02a511950e4",
   "metadata": {},
   "outputs": [],
   "source": [
    "# Save the prediction result as a geotif file\n",
    "with rasterio.open(\"images/LU/predict/dt_20230806.tif\", 'w', **out_profile) as dst:\n",
    "    dst.write(y_pred_dt_2d, indexes=1)"
   ]
  },
  {
   "cell_type": "markdown",
   "id": "587f92a7-d7ab-4a42-86e1-9df21e22c989",
   "metadata": {},
   "source": [
    "### RandomForestClassifier"
   ]
  },
  {
   "cell_type": "code",
   "execution_count": 7,
   "id": "e9851f1b-c127-4938-9de9-2eb24c5b8b2d",
   "metadata": {},
   "outputs": [],
   "source": [
    "# Load saved model \n",
    "pickled_rf_cv = pickle.load(open('models/LU/rf_cv.pkl', 'rb'))"
   ]
  },
  {
   "cell_type": "code",
   "execution_count": null,
   "id": "1af0dad1-ad9d-4046-bbc7-c549ba9254a9",
   "metadata": {
    "scrolled": true
   },
   "outputs": [],
   "source": [
    "print(datetime.datetime.now())\n",
    "y_pred_rf = pickled_rf_cv.predict(X_scaled)\n",
    "print(datetime.datetime.now())"
   ]
  },
  {
   "cell_type": "code",
   "execution_count": 30,
   "id": "6e892bfc-0f83-475b-b748-fefa9907f874",
   "metadata": {},
   "outputs": [
    {
     "data": {
      "text/plain": [
       "array([5., 5., 5., ..., 3., 1., 3.])"
      ]
     },
     "execution_count": 30,
     "metadata": {},
     "output_type": "execute_result"
    }
   ],
   "source": [
    "y_pred_rf"
   ]
  },
  {
   "cell_type": "code",
   "execution_count": 31,
   "id": "e7276c4f-b5cc-4395-bf84-a1ac87fed6ce",
   "metadata": {},
   "outputs": [],
   "source": [
    "# reshape to 2d\n",
    "y_pred_rf_2d = np.reshape(y_pred_rf,(10980,10980))"
   ]
  },
  {
   "cell_type": "code",
   "execution_count": 32,
   "id": "fdedca23-edd5-4e55-add2-7be658e50808",
   "metadata": {},
   "outputs": [
    {
     "data": {
      "text/plain": [
       "array([[5., 5., 5., ..., 5., 5., 5.],\n",
       "       [5., 5., 5., ..., 5., 5., 5.],\n",
       "       [5., 5., 5., ..., 5., 5., 5.],\n",
       "       ...,\n",
       "       [1., 4., 1., ..., 3., 3., 3.],\n",
       "       [1., 4., 2., ..., 3., 4., 3.],\n",
       "       [1., 1., 4., ..., 3., 1., 3.]])"
      ]
     },
     "execution_count": 32,
     "metadata": {},
     "output_type": "execute_result"
    }
   ],
   "source": [
    "y_pred_rf_2d"
   ]
  },
  {
   "cell_type": "code",
   "execution_count": 33,
   "id": "af73b4b4-a34f-4edf-9c55-8553ec534471",
   "metadata": {},
   "outputs": [],
   "source": [
    "# Save the prediction result as a geotif file\n",
    "with rasterio.open(\"images/LU/predict/rf_20230806.tif\", 'w', **out_profile) as dst:\n",
    "    dst.write(y_pred_rf_2d, indexes=1)"
   ]
  },
  {
   "cell_type": "markdown",
   "id": "ee11d87e-5fbd-4c40-bdab-e4e2d8acc97e",
   "metadata": {},
   "source": [
    "### XGBoost (extreme Gradient Boosting) Classifier"
   ]
  },
  {
   "cell_type": "code",
   "execution_count": 17,
   "id": "e2093bcc-f505-4496-88a0-751a22831cdb",
   "metadata": {},
   "outputs": [],
   "source": [
    "# Load saved model \n",
    "pickled_xgb_cv = pickle.load(open('models/LU/xgb_cv.pkl', 'rb'))"
   ]
  },
  {
   "cell_type": "code",
   "execution_count": 18,
   "id": "194ced3d-b792-45f0-af53-f0509dfc370c",
   "metadata": {},
   "outputs": [
    {
     "name": "stdout",
     "output_type": "stream",
     "text": [
      "2024-06-06 08:19:21.190003\n",
      "2024-06-06 08:23:27.644750\n"
     ]
    }
   ],
   "source": [
    "print(datetime.datetime.now())\n",
    "y_pred = pickled_xgb_cv.predict(X_scaled)\n",
    "print(datetime.datetime.now())"
   ]
  },
  {
   "cell_type": "code",
   "execution_count": 19,
   "id": "9ce4dfe6-bcb1-446f-9f6e-c4e7c62e1b23",
   "metadata": {},
   "outputs": [
    {
     "data": {
      "text/plain": [
       "array([4, 4, 4, ..., 0, 0, 0], dtype=int64)"
      ]
     },
     "execution_count": 19,
     "metadata": {},
     "output_type": "execute_result"
    }
   ],
   "source": [
    "y_pred"
   ]
  },
  {
   "cell_type": "code",
   "execution_count": 20,
   "id": "68ded944-8791-4e89-a823-878822544d4b",
   "metadata": {},
   "outputs": [],
   "source": [
    "# reshape to 2d\n",
    "y_pred_2d = np.reshape(y_pred,(10980,10980))"
   ]
  },
  {
   "cell_type": "code",
   "execution_count": 21,
   "id": "0275a2d8-9de4-4dcd-9cba-e663b07c750d",
   "metadata": {},
   "outputs": [
    {
     "data": {
      "text/plain": [
       "array([[4, 4, 4, ..., 4, 4, 4],\n",
       "       [4, 4, 4, ..., 4, 4, 4],\n",
       "       [4, 4, 4, ..., 4, 4, 4],\n",
       "       ...,\n",
       "       [0, 0, 0, ..., 0, 0, 0],\n",
       "       [0, 4, 0, ..., 0, 0, 0],\n",
       "       [0, 0, 0, ..., 0, 0, 0]], dtype=int64)"
      ]
     },
     "execution_count": 21,
     "metadata": {},
     "output_type": "execute_result"
    }
   ],
   "source": [
    "y_pred_2d"
   ]
  },
  {
   "cell_type": "code",
   "execution_count": 22,
   "id": "ec9c1b33-a441-4e37-8b02-761c34c32401",
   "metadata": {},
   "outputs": [],
   "source": [
    "y_pred_2d_mode = y_pred_2d + 1"
   ]
  },
  {
   "cell_type": "code",
   "execution_count": 23,
   "id": "ac322456-5026-473e-9560-5fe08b770f65",
   "metadata": {
    "tags": []
   },
   "outputs": [
    {
     "data": {
      "text/plain": [
       "array([[5, 5, 5, ..., 5, 5, 5],\n",
       "       [5, 5, 5, ..., 5, 5, 5],\n",
       "       [5, 5, 5, ..., 5, 5, 5],\n",
       "       ...,\n",
       "       [1, 1, 1, ..., 1, 1, 1],\n",
       "       [1, 5, 1, ..., 1, 1, 1],\n",
       "       [1, 1, 1, ..., 1, 1, 1]], dtype=int64)"
      ]
     },
     "execution_count": 23,
     "metadata": {},
     "output_type": "execute_result"
    }
   ],
   "source": [
    "y_pred_2d_mode"
   ]
  },
  {
   "cell_type": "code",
   "execution_count": 26,
   "id": "682f337f-efbc-43bc-b037-623e7cbb6856",
   "metadata": {},
   "outputs": [],
   "source": [
    "# Save the prediction result as a geotif file\n",
    "with rasterio.open(\"images/LU/predict/xgb_20230806.tif\", 'w', **out_profile) as dst:\n",
    "    dst.write(y_pred_2d_mode, indexes=1)"
   ]
  },
  {
   "cell_type": "markdown",
   "id": "717a6478-2f7c-40b0-8a96-4d7bf9930a3d",
   "metadata": {},
   "source": [
    "### SVM Linear"
   ]
  },
  {
   "cell_type": "code",
   "execution_count": 9,
   "id": "0abc17f2-9200-42aa-b40b-32d7b8cf79b1",
   "metadata": {},
   "outputs": [
    {
     "data": {
      "text/plain": [
       "<AddedDllDirectory('C:\\\\Program Files\\\\NVIDIA GPU Computing Toolkit\\\\CUDA\\\\v12.3\\\\bin')>"
      ]
     },
     "execution_count": 9,
     "metadata": {},
     "output_type": "execute_result"
    }
   ],
   "source": [
    "import os\n",
    "os.add_dll_directory(\"C:\\\\Program Files\\\\NVIDIA GPU Computing Toolkit\\\\CUDA\\\\v12.3\\\\bin\")"
   ]
  },
  {
   "cell_type": "code",
   "execution_count": 10,
   "id": "88071f6b-89d3-4180-bbc9-25ae4d439bda",
   "metadata": {},
   "outputs": [],
   "source": [
    "import thundersvm\n",
    "from thundersvm import SVC"
   ]
  },
  {
   "cell_type": "code",
   "execution_count": null,
   "id": "724ff88a-9c4e-4e95-b4b2-e7974bb4d4f1",
   "metadata": {},
   "outputs": [],
   "source": [
    "# Load saved model \n",
    "pickled_svl_cv = pickle.load(open('models/LU/svl_model.pkl', 'rb'))"
   ]
  },
  {
   "cell_type": "code",
   "execution_count": null,
   "id": "e9ecf849-da87-45d4-9b70-2a6522f72e96",
   "metadata": {},
   "outputs": [],
   "source": [
    "print(datetime.datetime.now())\n",
    "y_pred = pickled_svl_cv.predict(X_scaled)\n",
    "print(datetime.datetime.now())"
   ]
  },
  {
   "cell_type": "code",
   "execution_count": null,
   "id": "88798d28-3cdb-4dc9-8c27-328aeb5512c4",
   "metadata": {},
   "outputs": [],
   "source": [
    "y_pred"
   ]
  },
  {
   "cell_type": "code",
   "execution_count": null,
   "id": "9db42e80-3985-4363-9b95-f73cd4b98136",
   "metadata": {},
   "outputs": [],
   "source": [
    "# reshape to 2d\n",
    "y_pred_2d = np.reshape(y_pred,(10980,10980))"
   ]
  },
  {
   "cell_type": "code",
   "execution_count": null,
   "id": "44aca91f-edea-41ce-9653-8e3e87c8445e",
   "metadata": {},
   "outputs": [],
   "source": [
    "y_pred_2d"
   ]
  },
  {
   "cell_type": "code",
   "execution_count": null,
   "id": "4442b58f-8684-4c7e-96a0-27342725401a",
   "metadata": {},
   "outputs": [],
   "source": [
    "y_pred_2d_mode = y_pred_2d + 1"
   ]
  },
  {
   "cell_type": "code",
   "execution_count": null,
   "id": "1b8b67d7-12e4-40d4-acf1-00a33820a743",
   "metadata": {
    "tags": []
   },
   "outputs": [],
   "source": [
    "y_pred_2d_mode"
   ]
  },
  {
   "cell_type": "code",
   "execution_count": null,
   "id": "0c8ca193-ef37-4b1e-9721-64087620eb18",
   "metadata": {},
   "outputs": [],
   "source": [
    "# Save the prediction result as a geotif file\n",
    "with rasterio.open(\"images/LU/predict/svl_20230806.tif\", 'w', **out_profile) as dst:\n",
    "    dst.write(y_pred_2d_mode, indexes=1)"
   ]
  },
  {
   "cell_type": "markdown",
   "id": "5fa85911-d06b-4f87-8632-999913cadf3c",
   "metadata": {},
   "source": [
    "### SVM rbf"
   ]
  },
  {
   "cell_type": "code",
   "execution_count": null,
   "id": "9ed5c447-9ccf-41a5-addf-a97bc04b0bd0",
   "metadata": {},
   "outputs": [],
   "source": [
    "# Load saved model \n",
    "pickled_svr_cv = pickle.load(open('models/LU/svr_model.pkl', 'rb'))"
   ]
  },
  {
   "cell_type": "code",
   "execution_count": null,
   "id": "e8abc8d0-530a-408e-be86-7feeeac54caf",
   "metadata": {},
   "outputs": [],
   "source": [
    "print(datetime.datetime.now())\n",
    "y_pred = pickled_svr_cv.predict(X_scaled)\n",
    "print(datetime.datetime.now())"
   ]
  },
  {
   "cell_type": "code",
   "execution_count": null,
   "id": "6c091029-03f6-4679-8a9e-e98fb4047ba5",
   "metadata": {},
   "outputs": [],
   "source": [
    "y_pred"
   ]
  },
  {
   "cell_type": "code",
   "execution_count": null,
   "id": "b6f412e2-434a-4fc6-8569-5d0786ae6894",
   "metadata": {},
   "outputs": [],
   "source": [
    "# reshape to 2d\n",
    "y_pred_2d = np.reshape(y_pred,(10980,10980))"
   ]
  },
  {
   "cell_type": "code",
   "execution_count": null,
   "id": "d64a1e2e-a99f-4d38-8754-b3e3bb1639af",
   "metadata": {},
   "outputs": [],
   "source": [
    "y_pred_2d"
   ]
  },
  {
   "cell_type": "code",
   "execution_count": null,
   "id": "67aaa644-da54-4bfe-bdf5-421e696ad577",
   "metadata": {},
   "outputs": [],
   "source": [
    "y_pred_2d_mode = y_pred_2d + 1"
   ]
  },
  {
   "cell_type": "code",
   "execution_count": null,
   "id": "063d7251-58c5-4a24-bc31-2638aefe7257",
   "metadata": {
    "tags": []
   },
   "outputs": [],
   "source": [
    "y_pred_2d_mode"
   ]
  },
  {
   "cell_type": "code",
   "execution_count": null,
   "id": "19b98b84-d34c-481d-b204-0699a852cf49",
   "metadata": {},
   "outputs": [],
   "source": [
    "# Save the prediction result as a geotif file\n",
    "with rasterio.open(\"images/LU/predict/svr_20230806.tif\", 'w', **out_profile) as dst:\n",
    "    dst.write(y_pred_2d_mode, indexes=1)"
   ]
  },
  {
   "cell_type": "markdown",
   "id": "eb64bed5-36c9-48e3-9850-b4f5b33268df",
   "metadata": {},
   "source": [
    "### LSTM"
   ]
  },
  {
   "cell_type": "code",
   "execution_count": 8,
   "id": "9f27b768-c89a-406a-822e-186919982a2d",
   "metadata": {},
   "outputs": [],
   "source": [
    "def unpack(model, training_config, weights):\n",
    "    restored_model = deserialize(model)\n",
    "    if training_config is not None:\n",
    "        restored_model.compile(\n",
    "            **saving_utils.compile_args_from_training_config(\n",
    "                training_config\n",
    "            )\n",
    "        )\n",
    "    restored_model.set_weights(weights)\n",
    "    return restored_model\n",
    "\n",
    "# Hotfix function\n",
    "def make_keras_picklable():\n",
    "\n",
    "    def __reduce__(self):\n",
    "        model_metadata = saving_utils.model_metadata(self)\n",
    "        training_config = model_metadata.get(\"training_config\", None)\n",
    "        model = serialize(self)\n",
    "        weights = self.get_weights()\n",
    "        return (unpack, (model, training_config, weights))\n",
    "\n",
    "    cls = Model\n",
    "    cls.__reduce__ = __reduce__\n",
    "\n",
    "# Run the function\n",
    "make_keras_picklable()"
   ]
  },
  {
   "cell_type": "code",
   "execution_count": 9,
   "id": "87c5a3b1-1b38-462d-a36d-f0ec938a5238",
   "metadata": {},
   "outputs": [],
   "source": [
    "#Load the saved model\n",
    "pickled_lstm_model = pickle.load(open('models/LU/lstm_model.pkl', 'rb'))"
   ]
  },
  {
   "cell_type": "code",
   "execution_count": 10,
   "id": "0612f5f5-725b-489a-9c75-b377cb0dfbb1",
   "metadata": {
    "tags": []
   },
   "outputs": [],
   "source": [
    "# Reshape the X shape to fit in LSTM (add one dimension)\n",
    "X_scaled_reshaped = X_scaled.reshape((X_scaled.shape[0], X_scaled.shape[1], 1))"
   ]
  },
  {
   "cell_type": "code",
   "execution_count": null,
   "id": "44c95e28-add2-4e14-8d53-fd676a2f184c",
   "metadata": {},
   "outputs": [],
   "source": [
    "print(X_scaled_reshaped.shape)"
   ]
  },
  {
   "cell_type": "code",
   "execution_count": null,
   "id": "261473d9-3153-457c-b5e6-3d884547412c",
   "metadata": {},
   "outputs": [],
   "source": [
    "print(datetime.datetime.now())\n",
    "y_pred_lstm = np.argmax(pickled_lstm_model.predict(X_scaled_reshaped), axis=-1)\n",
    "print(datetime.datetime.now())"
   ]
  },
  {
   "cell_type": "code",
   "execution_count": null,
   "id": "44f967c0-580f-4c34-8f18-c0ac7bc7166c",
   "metadata": {
    "scrolled": true
   },
   "outputs": [],
   "source": [
    "y_pred_lstm"
   ]
  },
  {
   "cell_type": "code",
   "execution_count": null,
   "id": "48eb5909-2b19-4da5-b98b-16f65c65836c",
   "metadata": {},
   "outputs": [],
   "source": [
    "# reshape to 2d\n",
    "y_pred_lstm_2d = np.reshape(y_pred,(10980,10980))"
   ]
  },
  {
   "cell_type": "code",
   "execution_count": null,
   "id": "37a338da-0d5f-4ff6-88b3-d22569c22025",
   "metadata": {
    "tags": []
   },
   "outputs": [],
   "source": [
    "y_pred_lstm_2d"
   ]
  },
  {
   "cell_type": "code",
   "execution_count": null,
   "id": "4d674981-fd3e-440e-a165-3ce15dbbd57d",
   "metadata": {
    "tags": []
   },
   "outputs": [],
   "source": [
    "y_pred_lstm_2d_mod = y_pred_lstm_2d + 1"
   ]
  },
  {
   "cell_type": "code",
   "execution_count": null,
   "id": "accfd752-88d9-4ee0-8a68-339c2f7c2926",
   "metadata": {},
   "outputs": [],
   "source": [
    "# Save the prediction result as a geotif file\n",
    "with rasterio.open(\"images/LU/predict/lstm_20230806.tif\", 'w', **out_profile) as dst:\n",
    "    dst.write(y_pred_lstm_2d_mod, indexes=1)"
   ]
  },
  {
   "cell_type": "code",
   "execution_count": null,
   "id": "ad420d21-570d-476a-8ba4-5fc094657a7e",
   "metadata": {},
   "outputs": [],
   "source": []
  }
 ],
 "metadata": {
  "kernelspec": {
   "display_name": "Python 3 (ipykernel)",
   "language": "python",
   "name": "python3"
  },
  "language_info": {
   "codemirror_mode": {
    "name": "ipython",
    "version": 3
   },
   "file_extension": ".py",
   "mimetype": "text/x-python",
   "name": "python",
   "nbconvert_exporter": "python",
   "pygments_lexer": "ipython3",
   "version": "3.8.18"
  }
 },
 "nbformat": 4,
 "nbformat_minor": 5
}
