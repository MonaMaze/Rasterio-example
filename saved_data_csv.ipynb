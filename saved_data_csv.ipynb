{
 "cells": [
  {
   "cell_type": "code",
   "execution_count": 1,
   "id": "b46bda95-4464-45b0-b06b-42733c063d39",
   "metadata": {
    "tags": []
   },
   "outputs": [],
   "source": [
    "# Load all libraries\n",
    "import rasterio\n",
    "import numpy as np\n",
    "import pandas as pd\n",
    "import os\n",
    "import imblearn\n",
    "from imblearn.over_sampling import SMOTE\n",
    "from collections import Counter\n",
    "import matplotlib.pyplot as plt\n",
    "%matplotlib inline"
   ]
  },
  {
   "cell_type": "code",
   "execution_count": 2,
   "id": "77d883a1-239f-4a67-9468-1ea557c39555",
   "metadata": {
    "tags": []
   },
   "outputs": [],
   "source": [
    "# Create the column names of dataframe from indices' names\n",
    "colNames = []\n",
    "folder = 'masked'\n",
    "i = 0\n",
    "for subfolder in os.listdir(folder):\n",
    "    for filename in os.listdir(os.path.join(folder, subfolder)):\n",
    "        img_name = filename.split('_')[1]\n",
    "        colNames.append(img_name)\n",
    "    i += 1\n",
    "    if i > 0:\n",
    "        break"
   ]
  },
  {
   "cell_type": "code",
   "execution_count": 3,
   "id": "be419413-796a-4bcb-8dc1-a8a0a4480c46",
   "metadata": {
    "tags": []
   },
   "outputs": [
    {
     "data": {
      "text/plain": [
       "['awei',\n",
       " 'blue',\n",
       " 'dbsi',\n",
       " 'evi',\n",
       " 'green',\n",
       " 'kndvi',\n",
       " 'mndmi',\n",
       " 'ndbi',\n",
       " 'ndpi',\n",
       " 'ndvi',\n",
       " 'ndwi',\n",
       " 'nir',\n",
       " 'osavi',\n",
       " 'red',\n",
       " 'savi',\n",
       " 'str11',\n",
       " 'str12',\n",
       " 'VH',\n",
       " 'VV-VH',\n",
       " 'VV']"
      ]
     },
     "execution_count": 3,
     "metadata": {},
     "output_type": "execute_result"
    }
   ],
   "source": [
    "colNames"
   ]
  },
  {
   "cell_type": "code",
   "execution_count": 4,
   "id": "b88f8617-f949-40a4-a074-f16c229f3fd2",
   "metadata": {
    "tags": []
   },
   "outputs": [],
   "source": [
    "colNames.append('class')"
   ]
  },
  {
   "cell_type": "code",
   "execution_count": 5,
   "id": "4001958c-2e57-42c0-b4e3-26cac4b9e580",
   "metadata": {
    "tags": []
   },
   "outputs": [
    {
     "data": {
      "text/plain": [
       "['awei',\n",
       " 'blue',\n",
       " 'dbsi',\n",
       " 'evi',\n",
       " 'green',\n",
       " 'kndvi',\n",
       " 'mndmi',\n",
       " 'ndbi',\n",
       " 'ndpi',\n",
       " 'ndvi',\n",
       " 'ndwi',\n",
       " 'nir',\n",
       " 'osavi',\n",
       " 'red',\n",
       " 'savi',\n",
       " 'str11',\n",
       " 'str12',\n",
       " 'VH',\n",
       " 'VV-VH',\n",
       " 'VV',\n",
       " 'class']"
      ]
     },
     "execution_count": 5,
     "metadata": {},
     "output_type": "execute_result"
    }
   ],
   "source": [
    "colNames"
   ]
  },
  {
   "cell_type": "code",
   "execution_count": 6,
   "id": "c184afcd-5dff-48bb-b285-d11dfbc0f593",
   "metadata": {
    "tags": []
   },
   "outputs": [],
   "source": [
    "df = pd.DataFrame(columns = colNames)"
   ]
  },
  {
   "cell_type": "code",
   "execution_count": 7,
   "id": "bd00f1c8-1770-4099-bf53-a977ae9db992",
   "metadata": {
    "tags": []
   },
   "outputs": [
    {
     "data": {
      "text/html": [
       "<div>\n",
       "<style scoped>\n",
       "    .dataframe tbody tr th:only-of-type {\n",
       "        vertical-align: middle;\n",
       "    }\n",
       "\n",
       "    .dataframe tbody tr th {\n",
       "        vertical-align: top;\n",
       "    }\n",
       "\n",
       "    .dataframe thead th {\n",
       "        text-align: right;\n",
       "    }\n",
       "</style>\n",
       "<table border=\"1\" class=\"dataframe\">\n",
       "  <thead>\n",
       "    <tr style=\"text-align: right;\">\n",
       "      <th></th>\n",
       "      <th>awei</th>\n",
       "      <th>blue</th>\n",
       "      <th>dbsi</th>\n",
       "      <th>evi</th>\n",
       "      <th>green</th>\n",
       "      <th>kndvi</th>\n",
       "      <th>mndmi</th>\n",
       "      <th>ndbi</th>\n",
       "      <th>ndpi</th>\n",
       "      <th>ndvi</th>\n",
       "      <th>...</th>\n",
       "      <th>nir</th>\n",
       "      <th>osavi</th>\n",
       "      <th>red</th>\n",
       "      <th>savi</th>\n",
       "      <th>str11</th>\n",
       "      <th>str12</th>\n",
       "      <th>VH</th>\n",
       "      <th>VV-VH</th>\n",
       "      <th>VV</th>\n",
       "      <th>class</th>\n",
       "    </tr>\n",
       "  </thead>\n",
       "  <tbody>\n",
       "  </tbody>\n",
       "</table>\n",
       "<p>0 rows × 21 columns</p>\n",
       "</div>"
      ],
      "text/plain": [
       "Empty DataFrame\n",
       "Columns: [awei, blue, dbsi, evi, green, kndvi, mndmi, ndbi, ndpi, ndvi, ndwi, nir, osavi, red, savi, str11, str12, VH, VV-VH, VV, class]\n",
       "Index: []\n",
       "\n",
       "[0 rows x 21 columns]"
      ]
     },
     "execution_count": 7,
     "metadata": {},
     "output_type": "execute_result"
    }
   ],
   "source": [
    "df"
   ]
  },
  {
   "cell_type": "code",
   "execution_count": 8,
   "id": "511e46ef-4ad6-4c2e-b986-f442c2df6081",
   "metadata": {
    "tags": []
   },
   "outputs": [],
   "source": [
    "# Get the values of images in one dataframe, excluding from it zero class\n",
    "for subfolder in os.listdir(folder):\n",
    "    x = len([name for name in os.listdir(os.path.join(folder, subfolder)) if os.path.isfile(os.path.join(folder, subfolder, name))])\n",
    "    i = 0\n",
    "    array = {}\n",
    "    for filename in os.listdir(os.path.join(folder, subfolder)):\n",
    "        if i < x:\n",
    "            img = rasterio.open(os.path.join(folder, subfolder, filename))\n",
    "            array[f'var{i}'] = img.read()\n",
    "            i += 1\n",
    "    imgy =  rasterio.open('images/LU/vector_shr.tif')\n",
    "    array[f'var{i+1}'] = imgy.read()\n",
    "    arra = np.concatenate(list(array.values()),0)\n",
    "    df_img = pd.DataFrame(arra.reshape([x+1,-1]).T, columns=colNames)\n",
    "    df_filtered = df_img[df_img['class'] > 0]\n",
    "    df = pd.concat([df, df_filtered])"
   ]
  },
  {
   "cell_type": "code",
   "execution_count": 9,
   "id": "87e5ea18-adec-45c4-8898-2872c1af931f",
   "metadata": {
    "tags": []
   },
   "outputs": [
    {
     "data": {
      "text/html": [
       "<div>\n",
       "<style scoped>\n",
       "    .dataframe tbody tr th:only-of-type {\n",
       "        vertical-align: middle;\n",
       "    }\n",
       "\n",
       "    .dataframe tbody tr th {\n",
       "        vertical-align: top;\n",
       "    }\n",
       "\n",
       "    .dataframe thead th {\n",
       "        text-align: right;\n",
       "    }\n",
       "</style>\n",
       "<table border=\"1\" class=\"dataframe\">\n",
       "  <thead>\n",
       "    <tr style=\"text-align: right;\">\n",
       "      <th></th>\n",
       "      <th>awei</th>\n",
       "      <th>blue</th>\n",
       "      <th>dbsi</th>\n",
       "      <th>evi</th>\n",
       "      <th>green</th>\n",
       "      <th>kndvi</th>\n",
       "      <th>mndmi</th>\n",
       "      <th>ndbi</th>\n",
       "      <th>ndpi</th>\n",
       "      <th>ndvi</th>\n",
       "      <th>...</th>\n",
       "      <th>nir</th>\n",
       "      <th>osavi</th>\n",
       "      <th>red</th>\n",
       "      <th>savi</th>\n",
       "      <th>str11</th>\n",
       "      <th>str12</th>\n",
       "      <th>VH</th>\n",
       "      <th>VV-VH</th>\n",
       "      <th>VV</th>\n",
       "      <th>class</th>\n",
       "    </tr>\n",
       "  </thead>\n",
       "  <tbody>\n",
       "    <tr>\n",
       "      <th>22</th>\n",
       "      <td>-7284.5</td>\n",
       "      <td>610.0</td>\n",
       "      <td>-0.009806</td>\n",
       "      <td>1.374059</td>\n",
       "      <td>922.0</td>\n",
       "      <td>0.301296</td>\n",
       "      <td>-0.547818</td>\n",
       "      <td>-0.016822</td>\n",
       "      <td>0.547818</td>\n",
       "      <td>0.557623</td>\n",
       "      <td>...</td>\n",
       "      <td>3264.0</td>\n",
       "      <td>1.136190e+07</td>\n",
       "      <td>927.0</td>\n",
       "      <td>14693303.25</td>\n",
       "      <td>9.202947</td>\n",
       "      <td>1.620939</td>\n",
       "      <td>0.034754</td>\n",
       "      <td>1.605517e+00</td>\n",
       "      <td>0.055798</td>\n",
       "      <td>2.0</td>\n",
       "    </tr>\n",
       "    <tr>\n",
       "      <th>23</th>\n",
       "      <td>0.0</td>\n",
       "      <td>0.0</td>\n",
       "      <td>0.000000</td>\n",
       "      <td>0.000000</td>\n",
       "      <td>0.0</td>\n",
       "      <td>0.000000</td>\n",
       "      <td>0.000000</td>\n",
       "      <td>0.000000</td>\n",
       "      <td>0.000000</td>\n",
       "      <td>0.000000</td>\n",
       "      <td>...</td>\n",
       "      <td>0.0</td>\n",
       "      <td>0.000000e+00</td>\n",
       "      <td>0.0</td>\n",
       "      <td>0.00</td>\n",
       "      <td>0.000000</td>\n",
       "      <td>0.000000</td>\n",
       "      <td>-99999.000000</td>\n",
       "      <td>-3.402823e+38</td>\n",
       "      <td>-99999.000000</td>\n",
       "      <td>2.0</td>\n",
       "    </tr>\n",
       "    <tr>\n",
       "      <th>7680</th>\n",
       "      <td>0.0</td>\n",
       "      <td>0.0</td>\n",
       "      <td>0.000000</td>\n",
       "      <td>0.000000</td>\n",
       "      <td>0.0</td>\n",
       "      <td>0.000000</td>\n",
       "      <td>0.000000</td>\n",
       "      <td>0.000000</td>\n",
       "      <td>0.000000</td>\n",
       "      <td>0.000000</td>\n",
       "      <td>...</td>\n",
       "      <td>0.0</td>\n",
       "      <td>0.000000e+00</td>\n",
       "      <td>0.0</td>\n",
       "      <td>0.00</td>\n",
       "      <td>0.000000</td>\n",
       "      <td>0.000000</td>\n",
       "      <td>-99999.000000</td>\n",
       "      <td>-3.402823e+38</td>\n",
       "      <td>-99999.000000</td>\n",
       "      <td>2.0</td>\n",
       "    </tr>\n",
       "    <tr>\n",
       "      <th>7681</th>\n",
       "      <td>-7900.0</td>\n",
       "      <td>537.0</td>\n",
       "      <td>-0.057778</td>\n",
       "      <td>1.515960</td>\n",
       "      <td>879.0</td>\n",
       "      <td>0.368768</td>\n",
       "      <td>-0.564312</td>\n",
       "      <td>-0.059314</td>\n",
       "      <td>0.564312</td>\n",
       "      <td>0.622090</td>\n",
       "      <td>...</td>\n",
       "      <td>3554.0</td>\n",
       "      <td>1.385709e+07</td>\n",
       "      <td>828.0</td>\n",
       "      <td>17920042.50</td>\n",
       "      <td>9.202947</td>\n",
       "      <td>1.620939</td>\n",
       "      <td>0.049378</td>\n",
       "      <td>1.831056e+00</td>\n",
       "      <td>0.090413</td>\n",
       "      <td>2.0</td>\n",
       "    </tr>\n",
       "    <tr>\n",
       "      <th>7682</th>\n",
       "      <td>-7422.0</td>\n",
       "      <td>543.0</td>\n",
       "      <td>-0.088723</td>\n",
       "      <td>1.724159</td>\n",
       "      <td>801.0</td>\n",
       "      <td>0.393662</td>\n",
       "      <td>-0.556356</td>\n",
       "      <td>-0.111884</td>\n",
       "      <td>0.556356</td>\n",
       "      <td>0.645078</td>\n",
       "      <td>...</td>\n",
       "      <td>3518.0</td>\n",
       "      <td>1.368879e+07</td>\n",
       "      <td>759.0</td>\n",
       "      <td>17702433.75</td>\n",
       "      <td>4.654982</td>\n",
       "      <td>2.450315</td>\n",
       "      <td>0.044270</td>\n",
       "      <td>2.396279e+00</td>\n",
       "      <td>0.106083</td>\n",
       "      <td>2.0</td>\n",
       "    </tr>\n",
       "  </tbody>\n",
       "</table>\n",
       "<p>5 rows × 21 columns</p>\n",
       "</div>"
      ],
      "text/plain": [
       "        awei   blue      dbsi       evi  green     kndvi     mndmi      ndbi  \\\n",
       "22   -7284.5  610.0 -0.009806  1.374059  922.0  0.301296 -0.547818 -0.016822   \n",
       "23       0.0    0.0  0.000000  0.000000    0.0  0.000000  0.000000  0.000000   \n",
       "7680     0.0    0.0  0.000000  0.000000    0.0  0.000000  0.000000  0.000000   \n",
       "7681 -7900.0  537.0 -0.057778  1.515960  879.0  0.368768 -0.564312 -0.059314   \n",
       "7682 -7422.0  543.0 -0.088723  1.724159  801.0  0.393662 -0.556356 -0.111884   \n",
       "\n",
       "          ndpi      ndvi  ...     nir         osavi    red         savi  \\\n",
       "22    0.547818  0.557623  ...  3264.0  1.136190e+07  927.0  14693303.25   \n",
       "23    0.000000  0.000000  ...     0.0  0.000000e+00    0.0         0.00   \n",
       "7680  0.000000  0.000000  ...     0.0  0.000000e+00    0.0         0.00   \n",
       "7681  0.564312  0.622090  ...  3554.0  1.385709e+07  828.0  17920042.50   \n",
       "7682  0.556356  0.645078  ...  3518.0  1.368879e+07  759.0  17702433.75   \n",
       "\n",
       "         str11     str12            VH         VV-VH            VV  class  \n",
       "22    9.202947  1.620939      0.034754  1.605517e+00      0.055798    2.0  \n",
       "23    0.000000  0.000000 -99999.000000 -3.402823e+38 -99999.000000    2.0  \n",
       "7680  0.000000  0.000000 -99999.000000 -3.402823e+38 -99999.000000    2.0  \n",
       "7681  9.202947  1.620939      0.049378  1.831056e+00      0.090413    2.0  \n",
       "7682  4.654982  2.450315      0.044270  2.396279e+00      0.106083    2.0  \n",
       "\n",
       "[5 rows x 21 columns]"
      ]
     },
     "execution_count": 9,
     "metadata": {},
     "output_type": "execute_result"
    }
   ],
   "source": [
    "df.head()"
   ]
  },
  {
   "cell_type": "code",
   "execution_count": 10,
   "id": "3162f791-d96e-4351-9093-2521250d32bb",
   "metadata": {
    "tags": []
   },
   "outputs": [
    {
     "name": "stdout",
     "output_type": "stream",
     "text": [
      "<class 'pandas.core.frame.DataFrame'>\n",
      "Index: 16572438 entries, 22 to 74067911\n",
      "Data columns (total 21 columns):\n",
      " #   Column  Dtype  \n",
      "---  ------  -----  \n",
      " 0   awei    float64\n",
      " 1   blue    float64\n",
      " 2   dbsi    float64\n",
      " 3   evi     float64\n",
      " 4   green   float64\n",
      " 5   kndvi   float64\n",
      " 6   mndmi   float64\n",
      " 7   ndbi    float64\n",
      " 8   ndpi    float64\n",
      " 9   ndvi    float64\n",
      " 10  ndwi    float64\n",
      " 11  nir     float64\n",
      " 12  osavi   float64\n",
      " 13  red     float64\n",
      " 14  savi    float64\n",
      " 15  str11   float64\n",
      " 16  str12   float64\n",
      " 17  VH      float64\n",
      " 18  VV-VH   float64\n",
      " 19  VV      float64\n",
      " 20  class   float64\n",
      "dtypes: float64(21)\n",
      "memory usage: 2.7 GB\n"
     ]
    }
   ],
   "source": [
    "df.info()"
   ]
  },
  {
   "cell_type": "code",
   "execution_count": 11,
   "id": "6d0f26d3-0ab0-42ae-8e02-5bab3678233e",
   "metadata": {
    "tags": []
   },
   "outputs": [
    {
     "data": {
      "text/html": [
       "<div>\n",
       "<style scoped>\n",
       "    .dataframe tbody tr th:only-of-type {\n",
       "        vertical-align: middle;\n",
       "    }\n",
       "\n",
       "    .dataframe tbody tr th {\n",
       "        vertical-align: top;\n",
       "    }\n",
       "\n",
       "    .dataframe thead th {\n",
       "        text-align: right;\n",
       "    }\n",
       "</style>\n",
       "<table border=\"1\" class=\"dataframe\">\n",
       "  <thead>\n",
       "    <tr style=\"text-align: right;\">\n",
       "      <th></th>\n",
       "      <th>awei</th>\n",
       "      <th>blue</th>\n",
       "      <th>dbsi</th>\n",
       "      <th>evi</th>\n",
       "      <th>green</th>\n",
       "      <th>kndvi</th>\n",
       "      <th>mndmi</th>\n",
       "      <th>ndbi</th>\n",
       "      <th>ndpi</th>\n",
       "      <th>ndvi</th>\n",
       "      <th>...</th>\n",
       "      <th>nir</th>\n",
       "      <th>osavi</th>\n",
       "      <th>red</th>\n",
       "      <th>savi</th>\n",
       "      <th>str11</th>\n",
       "      <th>str12</th>\n",
       "      <th>VH</th>\n",
       "      <th>VV-VH</th>\n",
       "      <th>VV</th>\n",
       "      <th>class</th>\n",
       "    </tr>\n",
       "  </thead>\n",
       "  <tbody>\n",
       "    <tr>\n",
       "      <th>count</th>\n",
       "      <td>1.657244e+07</td>\n",
       "      <td>1.657244e+07</td>\n",
       "      <td>1.657244e+07</td>\n",
       "      <td>1.657244e+07</td>\n",
       "      <td>1.657244e+07</td>\n",
       "      <td>1.657244e+07</td>\n",
       "      <td>1.657244e+07</td>\n",
       "      <td>1.657244e+07</td>\n",
       "      <td>1.657244e+07</td>\n",
       "      <td>1.657244e+07</td>\n",
       "      <td>...</td>\n",
       "      <td>1.657244e+07</td>\n",
       "      <td>1.657244e+07</td>\n",
       "      <td>1.657244e+07</td>\n",
       "      <td>1.657244e+07</td>\n",
       "      <td>1.657244e+07</td>\n",
       "      <td>1.657244e+07</td>\n",
       "      <td>1.657244e+07</td>\n",
       "      <td>1.657244e+07</td>\n",
       "      <td>1.657244e+07</td>\n",
       "      <td>1.657244e+07</td>\n",
       "    </tr>\n",
       "    <tr>\n",
       "      <th>mean</th>\n",
       "      <td>-3.747924e+03</td>\n",
       "      <td>5.876060e+02</td>\n",
       "      <td>-6.346173e-02</td>\n",
       "      <td>inf</td>\n",
       "      <td>8.149287e+02</td>\n",
       "      <td>2.748053e-01</td>\n",
       "      <td>-2.902002e-01</td>\n",
       "      <td>-1.034730e-01</td>\n",
       "      <td>2.902002e-01</td>\n",
       "      <td>3.536619e-01</td>\n",
       "      <td>...</td>\n",
       "      <td>2.301445e+03</td>\n",
       "      <td>1.014733e+07</td>\n",
       "      <td>8.667879e+02</td>\n",
       "      <td>1.312372e+07</td>\n",
       "      <td>9.391161e+00</td>\n",
       "      <td>1.403564e+01</td>\n",
       "      <td>-1.026277e+04</td>\n",
       "      <td>-6.283698e+37</td>\n",
       "      <td>-1.026270e+04</td>\n",
       "      <td>2.284466e+00</td>\n",
       "    </tr>\n",
       "    <tr>\n",
       "      <th>std</th>\n",
       "      <td>2.699188e+03</td>\n",
       "      <td>5.654224e+02</td>\n",
       "      <td>2.626063e-01</td>\n",
       "      <td>NaN</td>\n",
       "      <td>6.706849e+02</td>\n",
       "      <td>3.051304e-01</td>\n",
       "      <td>2.338220e-01</td>\n",
       "      <td>2.574563e-01</td>\n",
       "      <td>2.338220e-01</td>\n",
       "      <td>3.849920e-01</td>\n",
       "      <td>...</td>\n",
       "      <td>1.492161e+03</td>\n",
       "      <td>2.710221e+07</td>\n",
       "      <td>9.087829e+02</td>\n",
       "      <td>3.504955e+07</td>\n",
       "      <td>1.424038e+01</td>\n",
       "      <td>1.759163e+01</td>\n",
       "      <td>3.034707e+04</td>\n",
       "      <td>1.320372e+38</td>\n",
       "      <td>3.034709e+04</td>\n",
       "      <td>1.514720e+00</td>\n",
       "    </tr>\n",
       "    <tr>\n",
       "      <th>min</th>\n",
       "      <td>-1.475175e+04</td>\n",
       "      <td>0.000000e+00</td>\n",
       "      <td>-1.461353e+00</td>\n",
       "      <td>-3.276500e+05</td>\n",
       "      <td>0.000000e+00</td>\n",
       "      <td>0.000000e+00</td>\n",
       "      <td>-9.985826e-01</td>\n",
       "      <td>-9.655172e-01</td>\n",
       "      <td>-9.933222e-01</td>\n",
       "      <td>-9.975845e-01</td>\n",
       "      <td>...</td>\n",
       "      <td>0.000000e+00</td>\n",
       "      <td>0.000000e+00</td>\n",
       "      <td>0.000000e+00</td>\n",
       "      <td>0.000000e+00</td>\n",
       "      <td>0.000000e+00</td>\n",
       "      <td>0.000000e+00</td>\n",
       "      <td>-9.999900e+04</td>\n",
       "      <td>-3.402823e+38</td>\n",
       "      <td>-9.999900e+04</td>\n",
       "      <td>1.000000e+00</td>\n",
       "    </tr>\n",
       "    <tr>\n",
       "      <th>25%</th>\n",
       "      <td>-5.804250e+03</td>\n",
       "      <td>2.170000e+02</td>\n",
       "      <td>-3.147534e-01</td>\n",
       "      <td>8.205790e-02</td>\n",
       "      <td>4.010000e+02</td>\n",
       "      <td>2.735512e-03</td>\n",
       "      <td>-4.629274e-01</td>\n",
       "      <td>-3.464567e-01</td>\n",
       "      <td>1.524273e-01</td>\n",
       "      <td>2.890604e-02</td>\n",
       "      <td>...</td>\n",
       "      <td>9.430000e+02</td>\n",
       "      <td>9.411796e+05</td>\n",
       "      <td>2.210000e+02</td>\n",
       "      <td>1.217188e+06</td>\n",
       "      <td>1.270334e+00</td>\n",
       "      <td>1.679900e+00</td>\n",
       "      <td>3.622310e-03</td>\n",
       "      <td>1.606120e+00</td>\n",
       "      <td>1.871508e-02</td>\n",
       "      <td>1.000000e+00</td>\n",
       "    </tr>\n",
       "    <tr>\n",
       "      <th>50%</th>\n",
       "      <td>-4.116500e+03</td>\n",
       "      <td>3.740000e+02</td>\n",
       "      <td>0.000000e+00</td>\n",
       "      <td>5.299690e-01</td>\n",
       "      <td>6.370000e+02</td>\n",
       "      <td>8.729945e-02</td>\n",
       "      <td>-3.427914e-01</td>\n",
       "      <td>0.000000e+00</td>\n",
       "      <td>3.427914e-01</td>\n",
       "      <td>1.738318e-01</td>\n",
       "      <td>...</td>\n",
       "      <td>2.632000e+03</td>\n",
       "      <td>3.913847e+06</td>\n",
       "      <td>4.600000e+02</td>\n",
       "      <td>5.061375e+06</td>\n",
       "      <td>5.969032e+00</td>\n",
       "      <td>7.869031e+00</td>\n",
       "      <td>1.341981e-02</td>\n",
       "      <td>3.777418e+00</td>\n",
       "      <td>6.724320e-02</td>\n",
       "      <td>2.000000e+00</td>\n",
       "    </tr>\n",
       "    <tr>\n",
       "      <th>75%</th>\n",
       "      <td>-1.087250e+03</td>\n",
       "      <td>9.890000e+02</td>\n",
       "      <td>1.795070e-01</td>\n",
       "      <td>2.255060e+00</td>\n",
       "      <td>1.284000e+03</td>\n",
       "      <td>5.652301e-01</td>\n",
       "      <td>-1.524273e-01</td>\n",
       "      <td>8.747640e-02</td>\n",
       "      <td>4.629274e-01</td>\n",
       "      <td>7.623022e-01</td>\n",
       "      <td>...</td>\n",
       "      <td>3.340000e+03</td>\n",
       "      <td>1.370639e+07</td>\n",
       "      <td>1.620000e+03</td>\n",
       "      <td>1.772572e+07</td>\n",
       "      <td>1.193744e+01</td>\n",
       "      <td>2.069430e+01</td>\n",
       "      <td>2.576177e-02</td>\n",
       "      <td>7.214098e+00</td>\n",
       "      <td>1.222350e-01</td>\n",
       "      <td>3.000000e+00</td>\n",
       "    </tr>\n",
       "    <tr>\n",
       "      <th>max</th>\n",
       "      <td>4.900750e+03</td>\n",
       "      <td>8.992000e+03</td>\n",
       "      <td>1.941472e+00</td>\n",
       "      <td>inf</td>\n",
       "      <td>8.336000e+03</td>\n",
       "      <td>1.000000e+00</td>\n",
       "      <td>9.933222e-01</td>\n",
       "      <td>9.989817e-01</td>\n",
       "      <td>9.985826e-01</td>\n",
       "      <td>9.996169e-01</td>\n",
       "      <td>...</td>\n",
       "      <td>8.464000e+03</td>\n",
       "      <td>1.163489e+09</td>\n",
       "      <td>8.056000e+03</td>\n",
       "      <td>1.504545e+09</td>\n",
       "      <td>1.270020e+02</td>\n",
       "      <td>1.270020e+02</td>\n",
       "      <td>1.193557e+01</td>\n",
       "      <td>1.063774e+04</td>\n",
       "      <td>1.836451e+02</td>\n",
       "      <td>6.000000e+00</td>\n",
       "    </tr>\n",
       "  </tbody>\n",
       "</table>\n",
       "<p>8 rows × 21 columns</p>\n",
       "</div>"
      ],
      "text/plain": [
       "               awei          blue          dbsi           evi         green  \\\n",
       "count  1.657244e+07  1.657244e+07  1.657244e+07  1.657244e+07  1.657244e+07   \n",
       "mean  -3.747924e+03  5.876060e+02 -6.346173e-02           inf  8.149287e+02   \n",
       "std    2.699188e+03  5.654224e+02  2.626063e-01           NaN  6.706849e+02   \n",
       "min   -1.475175e+04  0.000000e+00 -1.461353e+00 -3.276500e+05  0.000000e+00   \n",
       "25%   -5.804250e+03  2.170000e+02 -3.147534e-01  8.205790e-02  4.010000e+02   \n",
       "50%   -4.116500e+03  3.740000e+02  0.000000e+00  5.299690e-01  6.370000e+02   \n",
       "75%   -1.087250e+03  9.890000e+02  1.795070e-01  2.255060e+00  1.284000e+03   \n",
       "max    4.900750e+03  8.992000e+03  1.941472e+00           inf  8.336000e+03   \n",
       "\n",
       "              kndvi         mndmi          ndbi          ndpi          ndvi  \\\n",
       "count  1.657244e+07  1.657244e+07  1.657244e+07  1.657244e+07  1.657244e+07   \n",
       "mean   2.748053e-01 -2.902002e-01 -1.034730e-01  2.902002e-01  3.536619e-01   \n",
       "std    3.051304e-01  2.338220e-01  2.574563e-01  2.338220e-01  3.849920e-01   \n",
       "min    0.000000e+00 -9.985826e-01 -9.655172e-01 -9.933222e-01 -9.975845e-01   \n",
       "25%    2.735512e-03 -4.629274e-01 -3.464567e-01  1.524273e-01  2.890604e-02   \n",
       "50%    8.729945e-02 -3.427914e-01  0.000000e+00  3.427914e-01  1.738318e-01   \n",
       "75%    5.652301e-01 -1.524273e-01  8.747640e-02  4.629274e-01  7.623022e-01   \n",
       "max    1.000000e+00  9.933222e-01  9.989817e-01  9.985826e-01  9.996169e-01   \n",
       "\n",
       "       ...           nir         osavi           red          savi  \\\n",
       "count  ...  1.657244e+07  1.657244e+07  1.657244e+07  1.657244e+07   \n",
       "mean   ...  2.301445e+03  1.014733e+07  8.667879e+02  1.312372e+07   \n",
       "std    ...  1.492161e+03  2.710221e+07  9.087829e+02  3.504955e+07   \n",
       "min    ...  0.000000e+00  0.000000e+00  0.000000e+00  0.000000e+00   \n",
       "25%    ...  9.430000e+02  9.411796e+05  2.210000e+02  1.217188e+06   \n",
       "50%    ...  2.632000e+03  3.913847e+06  4.600000e+02  5.061375e+06   \n",
       "75%    ...  3.340000e+03  1.370639e+07  1.620000e+03  1.772572e+07   \n",
       "max    ...  8.464000e+03  1.163489e+09  8.056000e+03  1.504545e+09   \n",
       "\n",
       "              str11         str12            VH         VV-VH            VV  \\\n",
       "count  1.657244e+07  1.657244e+07  1.657244e+07  1.657244e+07  1.657244e+07   \n",
       "mean   9.391161e+00  1.403564e+01 -1.026277e+04 -6.283698e+37 -1.026270e+04   \n",
       "std    1.424038e+01  1.759163e+01  3.034707e+04  1.320372e+38  3.034709e+04   \n",
       "min    0.000000e+00  0.000000e+00 -9.999900e+04 -3.402823e+38 -9.999900e+04   \n",
       "25%    1.270334e+00  1.679900e+00  3.622310e-03  1.606120e+00  1.871508e-02   \n",
       "50%    5.969032e+00  7.869031e+00  1.341981e-02  3.777418e+00  6.724320e-02   \n",
       "75%    1.193744e+01  2.069430e+01  2.576177e-02  7.214098e+00  1.222350e-01   \n",
       "max    1.270020e+02  1.270020e+02  1.193557e+01  1.063774e+04  1.836451e+02   \n",
       "\n",
       "              class  \n",
       "count  1.657244e+07  \n",
       "mean   2.284466e+00  \n",
       "std    1.514720e+00  \n",
       "min    1.000000e+00  \n",
       "25%    1.000000e+00  \n",
       "50%    2.000000e+00  \n",
       "75%    3.000000e+00  \n",
       "max    6.000000e+00  \n",
       "\n",
       "[8 rows x 21 columns]"
      ]
     },
     "execution_count": 11,
     "metadata": {},
     "output_type": "execute_result"
    }
   ],
   "source": [
    "df.describe()"
   ]
  },
  {
   "cell_type": "code",
   "execution_count": 12,
   "id": "f7ccdbc4-be86-4923-ba2c-8f4ec63314ac",
   "metadata": {},
   "outputs": [],
   "source": [
    "# Save the dataframe in csv file\n",
    "df.to_csv('LU_data.csv', index=False)"
   ]
  },
  {
   "cell_type": "code",
   "execution_count": 13,
   "id": "45c639e9-cebc-42e3-bd01-1a92f275297e",
   "metadata": {
    "tags": []
   },
   "outputs": [],
   "source": [
    "#df = pd.read_csv('LU_data.csv')"
   ]
  },
  {
   "cell_type": "code",
   "execution_count": 14,
   "id": "e47a8caf-5e5b-487a-93c3-eb3b1f9a7c72",
   "metadata": {},
   "outputs": [
    {
     "data": {
      "text/plain": [
       "class\n",
       "1.0    8249229\n",
       "3.0    4545234\n",
       "5.0    1583460\n",
       "2.0     983439\n",
       "6.0     622881\n",
       "4.0     588195\n",
       "Name: count, dtype: int64"
      ]
     },
     "execution_count": 14,
     "metadata": {},
     "output_type": "execute_result"
    }
   ],
   "source": [
    "df['class'].value_counts()"
   ]
  },
  {
   "cell_type": "code",
   "execution_count": 15,
   "id": "e31c38eb-2573-440f-aa0c-77da4dffe4ba",
   "metadata": {
    "tags": []
   },
   "outputs": [
    {
     "data": {
      "text/plain": [
       "406"
      ]
     },
     "execution_count": 15,
     "metadata": {},
     "output_type": "execute_result"
    }
   ],
   "source": [
    "# Check for infinity values\n",
    "np.isinf(df).values.sum() "
   ]
  },
  {
   "cell_type": "code",
   "execution_count": 16,
   "id": "2f841337-c83c-4d7e-a28b-c7f9a72a4b0f",
   "metadata": {
    "tags": []
   },
   "outputs": [
    {
     "data": {
      "text/plain": [
       "evi    evi\n",
       "dtype: object"
      ]
     },
     "execution_count": 16,
     "metadata": {},
     "output_type": "execute_result"
    }
   ],
   "source": [
    "# Check at which column the infinity values are\n",
    "df.columns.to_series()[np.isinf(df).any()]"
   ]
  },
  {
   "cell_type": "code",
   "execution_count": 17,
   "id": "917a98ac-3f4e-475f-a1ee-1537adc17fe0",
   "metadata": {
    "tags": []
   },
   "outputs": [],
   "source": [
    "# Replacing infinite with nan\n",
    "df.replace([np.inf, -np.inf], np.nan, inplace=True)"
   ]
  },
  {
   "cell_type": "code",
   "execution_count": 18,
   "id": "af31c97d-c392-44ce-ba19-a6d567cea8f3",
   "metadata": {},
   "outputs": [
    {
     "data": {
      "text/plain": [
       "awei       0\n",
       "blue       0\n",
       "dbsi       0\n",
       "evi      408\n",
       "green      0\n",
       "kndvi      0\n",
       "mndmi      0\n",
       "ndbi       0\n",
       "ndpi       0\n",
       "ndvi       0\n",
       "ndwi       0\n",
       "nir        0\n",
       "osavi      0\n",
       "red        0\n",
       "savi       0\n",
       "str11      0\n",
       "str12      0\n",
       "VH         0\n",
       "VV-VH      0\n",
       "VV         0\n",
       "class      0\n",
       "dtype: int64"
      ]
     },
     "execution_count": 18,
     "metadata": {},
     "output_type": "execute_result"
    }
   ],
   "source": [
    "df.isnull().sum()"
   ]
  },
  {
   "cell_type": "code",
   "execution_count": 19,
   "id": "4853fbb0-7f4f-4775-aa27-fe4a0a6478cc",
   "metadata": {},
   "outputs": [],
   "source": [
    "df.dropna(subset=['evi'], inplace=True)"
   ]
  },
  {
   "cell_type": "code",
   "execution_count": 20,
   "id": "07e44d7f-efad-4438-b9bd-b8613fdf05a6",
   "metadata": {
    "tags": []
   },
   "outputs": [
    {
     "data": {
      "text/plain": [
       "awei     0\n",
       "blue     0\n",
       "dbsi     0\n",
       "evi      0\n",
       "green    0\n",
       "kndvi    0\n",
       "mndmi    0\n",
       "ndbi     0\n",
       "ndpi     0\n",
       "ndvi     0\n",
       "ndwi     0\n",
       "nir      0\n",
       "osavi    0\n",
       "red      0\n",
       "savi     0\n",
       "str11    0\n",
       "str12    0\n",
       "VH       0\n",
       "VV-VH    0\n",
       "VV       0\n",
       "class    0\n",
       "dtype: int64"
      ]
     },
     "execution_count": 20,
     "metadata": {},
     "output_type": "execute_result"
    }
   ],
   "source": [
    "df.isnull().sum()"
   ]
  },
  {
   "cell_type": "code",
   "execution_count": 21,
   "id": "ecfac0d9-72b0-4e1c-9e57-3e16850810cc",
   "metadata": {
    "tags": []
   },
   "outputs": [],
   "source": [
    "df.drop(df[df['VV'] <= -99999].index, inplace=True)"
   ]
  },
  {
   "cell_type": "code",
   "execution_count": 22,
   "id": "5d1c8d99-ad56-4782-bc31-6682dd93ef3e",
   "metadata": {
    "tags": []
   },
   "outputs": [
    {
     "data": {
      "text/plain": [
       "class\n",
       "1.0    7066137\n",
       "3.0    3998230\n",
       "5.0     937828\n",
       "2.0     751599\n",
       "6.0     584653\n",
       "4.0     169713\n",
       "Name: count, dtype: int64"
      ]
     },
     "execution_count": 22,
     "metadata": {},
     "output_type": "execute_result"
    }
   ],
   "source": [
    "df['class'].value_counts()"
   ]
  },
  {
   "cell_type": "code",
   "execution_count": 23,
   "id": "a2409a5d-f43d-44c1-b012-08c01937f8eb",
   "metadata": {
    "tags": []
   },
   "outputs": [
    {
     "name": "stdout",
     "output_type": "stream",
     "text": [
      "Class=2.0, n=7066137 (16.666666666666664)\n",
      "Class=6.0, n=7066137 (16.666666666666664)\n",
      "Class=5.0, n=7066137 (16.666666666666664)\n",
      "Class=4.0, n=7066137 (16.666666666666664)\n",
      "Class=1.0, n=7066137 (16.666666666666664)\n",
      "Class=3.0, n=7066137 (16.666666666666664)\n"
     ]
    },
    {
     "data": {
      "image/png": "[encoded data removed]",
      "text/plain": [
       "<Figure size 640x480 with 1 Axes>"
      ]
     },
     "metadata": {},
     "output_type": "display_data"
    }
   ],
   "source": [
    "# Balance between the classes by using SMOTE\n",
    "oversample = SMOTE()\n",
    "data = df.values\n",
    "X, y = data[:, :-1], data[:, -1]\n",
    "X, y = oversample.fit_resample(X, y)\n",
    "counter = Counter(y)\n",
    "for k, v in counter.items():\n",
    "    per = v / len(y) * 100\n",
    "    print('Class={}, n={} ({})'.format(k, v, per))\n",
    "plt.bar(counter.keys(), counter.values())\n",
    "plt.show()"
   ]
  },
  {
   "cell_type": "code",
   "execution_count": 24,
   "id": "94b69ed0-37a6-4645-92a7-c0c607d805d1",
   "metadata": {
    "tags": []
   },
   "outputs": [
    {
     "data": {
      "text/plain": [
       "dtype('float64')"
      ]
     },
     "execution_count": 24,
     "metadata": {},
     "output_type": "execute_result"
    }
   ],
   "source": [
    "X.dtype"
   ]
  },
  {
   "cell_type": "code",
   "execution_count": 25,
   "id": "d93fcc84-3a73-4936-91d4-3765ec4c246d",
   "metadata": {
    "tags": []
   },
   "outputs": [
    {
     "data": {
      "text/plain": [
       "(42396822, 20)"
      ]
     },
     "execution_count": 25,
     "metadata": {},
     "output_type": "execute_result"
    }
   ],
   "source": [
    "X.shape"
   ]
  },
  {
   "cell_type": "code",
   "execution_count": 26,
   "id": "6552ed22-ab91-4438-8a7e-7fb0e71b6a85",
   "metadata": {
    "tags": []
   },
   "outputs": [],
   "source": [
    "# Combine X and y in one array\n",
    "arrayz = np.column_stack((X, y))"
   ]
  },
  {
   "cell_type": "code",
   "execution_count": 27,
   "id": "0c642977-4479-40ab-82bd-448ad7ea26e1",
   "metadata": {
    "tags": []
   },
   "outputs": [
    {
     "data": {
      "text/plain": [
       "array([[-7.28450000e+03,  6.10000000e+02, -9.80592126e-03, ...,\n",
       "         1.60551655e+00,  5.57978377e-02,  2.00000000e+00],\n",
       "       [-7.90000000e+03,  5.37000000e+02, -5.77781020e-02, ...,\n",
       "         1.83105636e+00,  9.04133692e-02,  2.00000000e+00],\n",
       "       [-7.42200000e+03,  5.43000000e+02, -8.87227458e-02, ...,\n",
       "         2.39627934e+00,  1.06082849e-01,  2.00000000e+00],\n",
       "       ...,\n",
       "       [ 7.83956540e+02,  2.32060546e+02,  2.87686904e-01, ...,\n",
       "         6.52893153e+00,  1.05734351e-02,  6.00000000e+00],\n",
       "       [ 5.34390856e+02,  1.78607001e+02,  8.39163013e-02, ...,\n",
       "         9.88952247e+00,  2.54077492e-02,  6.00000000e+00],\n",
       "       [-2.60859849e+03,  5.10335693e+02, -3.37733915e-01, ...,\n",
       "         2.24277926e+00,  6.33956977e-02,  6.00000000e+00]])"
      ]
     },
     "execution_count": 27,
     "metadata": {},
     "output_type": "execute_result"
    }
   ],
   "source": [
    "arrayz"
   ]
  },
  {
   "cell_type": "code",
   "execution_count": 28,
   "id": "479e932f-27c1-4907-8fef-6643bf7950c6",
   "metadata": {
    "tags": []
   },
   "outputs": [],
   "source": [
    "df = pd.DataFrame(arrayz, columns=colNames)"
   ]
  },
  {
   "cell_type": "code",
   "execution_count": 29,
   "id": "99e812c8-5377-4117-9407-e0b2bd61a163",
   "metadata": {
    "tags": []
   },
   "outputs": [
    {
     "data": {
      "text/html": [
       "<div>\n",
       "<style scoped>\n",
       "    .dataframe tbody tr th:only-of-type {\n",
       "        vertical-align: middle;\n",
       "    }\n",
       "\n",
       "    .dataframe tbody tr th {\n",
       "        vertical-align: top;\n",
       "    }\n",
       "\n",
       "    .dataframe thead th {\n",
       "        text-align: right;\n",
       "    }\n",
       "</style>\n",
       "<table border=\"1\" class=\"dataframe\">\n",
       "  <thead>\n",
       "    <tr style=\"text-align: right;\">\n",
       "      <th></th>\n",
       "      <th>awei</th>\n",
       "      <th>blue</th>\n",
       "      <th>dbsi</th>\n",
       "      <th>evi</th>\n",
       "      <th>green</th>\n",
       "      <th>kndvi</th>\n",
       "      <th>mndmi</th>\n",
       "      <th>ndbi</th>\n",
       "      <th>ndpi</th>\n",
       "      <th>ndvi</th>\n",
       "      <th>...</th>\n",
       "      <th>nir</th>\n",
       "      <th>osavi</th>\n",
       "      <th>red</th>\n",
       "      <th>savi</th>\n",
       "      <th>str11</th>\n",
       "      <th>str12</th>\n",
       "      <th>VH</th>\n",
       "      <th>VV-VH</th>\n",
       "      <th>VV</th>\n",
       "      <th>class</th>\n",
       "    </tr>\n",
       "  </thead>\n",
       "  <tbody>\n",
       "    <tr>\n",
       "      <th>0</th>\n",
       "      <td>-7284.50</td>\n",
       "      <td>610.0</td>\n",
       "      <td>-0.009806</td>\n",
       "      <td>1.374059</td>\n",
       "      <td>922.0</td>\n",
       "      <td>0.301296</td>\n",
       "      <td>-0.547818</td>\n",
       "      <td>-0.016822</td>\n",
       "      <td>0.547818</td>\n",
       "      <td>0.557623</td>\n",
       "      <td>...</td>\n",
       "      <td>3264.0</td>\n",
       "      <td>1.136190e+07</td>\n",
       "      <td>927.0</td>\n",
       "      <td>14693303.25</td>\n",
       "      <td>9.202947</td>\n",
       "      <td>1.620939</td>\n",
       "      <td>0.034754</td>\n",
       "      <td>1.605517</td>\n",
       "      <td>0.055798</td>\n",
       "      <td>2.0</td>\n",
       "    </tr>\n",
       "    <tr>\n",
       "      <th>1</th>\n",
       "      <td>-7900.00</td>\n",
       "      <td>537.0</td>\n",
       "      <td>-0.057778</td>\n",
       "      <td>1.515960</td>\n",
       "      <td>879.0</td>\n",
       "      <td>0.368768</td>\n",
       "      <td>-0.564312</td>\n",
       "      <td>-0.059314</td>\n",
       "      <td>0.564312</td>\n",
       "      <td>0.622090</td>\n",
       "      <td>...</td>\n",
       "      <td>3554.0</td>\n",
       "      <td>1.385709e+07</td>\n",
       "      <td>828.0</td>\n",
       "      <td>17920042.50</td>\n",
       "      <td>9.202947</td>\n",
       "      <td>1.620939</td>\n",
       "      <td>0.049378</td>\n",
       "      <td>1.831056</td>\n",
       "      <td>0.090413</td>\n",
       "      <td>2.0</td>\n",
       "    </tr>\n",
       "    <tr>\n",
       "      <th>2</th>\n",
       "      <td>-7422.00</td>\n",
       "      <td>543.0</td>\n",
       "      <td>-0.088723</td>\n",
       "      <td>1.724159</td>\n",
       "      <td>801.0</td>\n",
       "      <td>0.393662</td>\n",
       "      <td>-0.556356</td>\n",
       "      <td>-0.111884</td>\n",
       "      <td>0.556356</td>\n",
       "      <td>0.645078</td>\n",
       "      <td>...</td>\n",
       "      <td>3518.0</td>\n",
       "      <td>1.368879e+07</td>\n",
       "      <td>759.0</td>\n",
       "      <td>17702433.75</td>\n",
       "      <td>4.654982</td>\n",
       "      <td>2.450315</td>\n",
       "      <td>0.044270</td>\n",
       "      <td>2.396279</td>\n",
       "      <td>0.106083</td>\n",
       "      <td>2.0</td>\n",
       "    </tr>\n",
       "    <tr>\n",
       "      <th>3</th>\n",
       "      <td>-7098.75</td>\n",
       "      <td>626.0</td>\n",
       "      <td>-0.054293</td>\n",
       "      <td>1.575924</td>\n",
       "      <td>875.0</td>\n",
       "      <td>0.333244</td>\n",
       "      <td>-0.534327</td>\n",
       "      <td>-0.083161</td>\n",
       "      <td>0.534327</td>\n",
       "      <td>0.588619</td>\n",
       "      <td>...</td>\n",
       "      <td>3406.0</td>\n",
       "      <td>1.255505e+07</td>\n",
       "      <td>882.0</td>\n",
       "      <td>16236261.00</td>\n",
       "      <td>8.391953</td>\n",
       "      <td>15.382768</td>\n",
       "      <td>0.038807</td>\n",
       "      <td>3.406703</td>\n",
       "      <td>0.132205</td>\n",
       "      <td>2.0</td>\n",
       "    </tr>\n",
       "    <tr>\n",
       "      <th>4</th>\n",
       "      <td>-7587.75</td>\n",
       "      <td>571.0</td>\n",
       "      <td>-0.108595</td>\n",
       "      <td>1.822371</td>\n",
       "      <td>849.0</td>\n",
       "      <td>0.402985</td>\n",
       "      <td>-0.545016</td>\n",
       "      <td>-0.117674</td>\n",
       "      <td>0.545016</td>\n",
       "      <td>0.653611</td>\n",
       "      <td>...</td>\n",
       "      <td>3652.0</td>\n",
       "      <td>1.479272e+07</td>\n",
       "      <td>765.0</td>\n",
       "      <td>19129983.75</td>\n",
       "      <td>8.391953</td>\n",
       "      <td>15.382768</td>\n",
       "      <td>0.062089</td>\n",
       "      <td>2.151642</td>\n",
       "      <td>0.133593</td>\n",
       "      <td>2.0</td>\n",
       "    </tr>\n",
       "  </tbody>\n",
       "</table>\n",
       "<p>5 rows × 21 columns</p>\n",
       "</div>"
      ],
      "text/plain": [
       "      awei   blue      dbsi       evi  green     kndvi     mndmi      ndbi  \\\n",
       "0 -7284.50  610.0 -0.009806  1.374059  922.0  0.301296 -0.547818 -0.016822   \n",
       "1 -7900.00  537.0 -0.057778  1.515960  879.0  0.368768 -0.564312 -0.059314   \n",
       "2 -7422.00  543.0 -0.088723  1.724159  801.0  0.393662 -0.556356 -0.111884   \n",
       "3 -7098.75  626.0 -0.054293  1.575924  875.0  0.333244 -0.534327 -0.083161   \n",
       "4 -7587.75  571.0 -0.108595  1.822371  849.0  0.402985 -0.545016 -0.117674   \n",
       "\n",
       "       ndpi      ndvi  ...     nir         osavi    red         savi  \\\n",
       "0  0.547818  0.557623  ...  3264.0  1.136190e+07  927.0  14693303.25   \n",
       "1  0.564312  0.622090  ...  3554.0  1.385709e+07  828.0  17920042.50   \n",
       "2  0.556356  0.645078  ...  3518.0  1.368879e+07  759.0  17702433.75   \n",
       "3  0.534327  0.588619  ...  3406.0  1.255505e+07  882.0  16236261.00   \n",
       "4  0.545016  0.653611  ...  3652.0  1.479272e+07  765.0  19129983.75   \n",
       "\n",
       "      str11      str12        VH     VV-VH        VV  class  \n",
       "0  9.202947   1.620939  0.034754  1.605517  0.055798    2.0  \n",
       "1  9.202947   1.620939  0.049378  1.831056  0.090413    2.0  \n",
       "2  4.654982   2.450315  0.044270  2.396279  0.106083    2.0  \n",
       "3  8.391953  15.382768  0.038807  3.406703  0.132205    2.0  \n",
       "4  8.391953  15.382768  0.062089  2.151642  0.133593    2.0  \n",
       "\n",
       "[5 rows x 21 columns]"
      ]
     },
     "execution_count": 29,
     "metadata": {},
     "output_type": "execute_result"
    }
   ],
   "source": [
    "df.head()"
   ]
  },
  {
   "cell_type": "code",
   "execution_count": 30,
   "id": "cf695be0-bdea-49ce-891d-2292d33a3ed8",
   "metadata": {
    "tags": []
   },
   "outputs": [
    {
     "name": "stdout",
     "output_type": "stream",
     "text": [
      "<class 'pandas.core.frame.DataFrame'>\n",
      "RangeIndex: 42396822 entries, 0 to 42396821\n",
      "Data columns (total 21 columns):\n",
      " #   Column  Dtype  \n",
      "---  ------  -----  \n",
      " 0   awei    float64\n",
      " 1   blue    float64\n",
      " 2   dbsi    float64\n",
      " 3   evi     float64\n",
      " 4   green   float64\n",
      " 5   kndvi   float64\n",
      " 6   mndmi   float64\n",
      " 7   ndbi    float64\n",
      " 8   ndpi    float64\n",
      " 9   ndvi    float64\n",
      " 10  ndwi    float64\n",
      " 11  nir     float64\n",
      " 12  osavi   float64\n",
      " 13  red     float64\n",
      " 14  savi    float64\n",
      " 15  str11   float64\n",
      " 16  str12   float64\n",
      " 17  VH      float64\n",
      " 18  VV-VH   float64\n",
      " 19  VV      float64\n",
      " 20  class   float64\n",
      "dtypes: float64(21)\n",
      "memory usage: 6.6 GB\n"
     ]
    }
   ],
   "source": [
    "df.info()"
   ]
  },
  {
   "cell_type": "code",
   "execution_count": 31,
   "id": "91ae3b20-109f-41fd-a120-df3778a47c92",
   "metadata": {
    "tags": []
   },
   "outputs": [
    {
     "data": {
      "text/html": [
       "<div>\n",
       "<style scoped>\n",
       "    .dataframe tbody tr th:only-of-type {\n",
       "        vertical-align: middle;\n",
       "    }\n",
       "\n",
       "    .dataframe tbody tr th {\n",
       "        vertical-align: top;\n",
       "    }\n",
       "\n",
       "    .dataframe thead th {\n",
       "        text-align: right;\n",
       "    }\n",
       "</style>\n",
       "<table border=\"1\" class=\"dataframe\">\n",
       "  <thead>\n",
       "    <tr style=\"text-align: right;\">\n",
       "      <th></th>\n",
       "      <th>awei</th>\n",
       "      <th>blue</th>\n",
       "      <th>dbsi</th>\n",
       "      <th>evi</th>\n",
       "      <th>green</th>\n",
       "      <th>kndvi</th>\n",
       "      <th>mndmi</th>\n",
       "      <th>ndbi</th>\n",
       "      <th>ndpi</th>\n",
       "      <th>ndvi</th>\n",
       "      <th>...</th>\n",
       "      <th>nir</th>\n",
       "      <th>osavi</th>\n",
       "      <th>red</th>\n",
       "      <th>savi</th>\n",
       "      <th>str11</th>\n",
       "      <th>str12</th>\n",
       "      <th>VH</th>\n",
       "      <th>VV-VH</th>\n",
       "      <th>VV</th>\n",
       "      <th>class</th>\n",
       "    </tr>\n",
       "  </thead>\n",
       "  <tbody>\n",
       "    <tr>\n",
       "      <th>count</th>\n",
       "      <td>4.239682e+07</td>\n",
       "      <td>4.239682e+07</td>\n",
       "      <td>4.239682e+07</td>\n",
       "      <td>4.239682e+07</td>\n",
       "      <td>4.239682e+07</td>\n",
       "      <td>4.239682e+07</td>\n",
       "      <td>4.239682e+07</td>\n",
       "      <td>4.239682e+07</td>\n",
       "      <td>4.239682e+07</td>\n",
       "      <td>4.239682e+07</td>\n",
       "      <td>...</td>\n",
       "      <td>4.239682e+07</td>\n",
       "      <td>4.239682e+07</td>\n",
       "      <td>4.239682e+07</td>\n",
       "      <td>4.239682e+07</td>\n",
       "      <td>4.239682e+07</td>\n",
       "      <td>4.239682e+07</td>\n",
       "      <td>4.239682e+07</td>\n",
       "      <td>4.239682e+07</td>\n",
       "      <td>4.239682e+07</td>\n",
       "      <td>4.239682e+07</td>\n",
       "    </tr>\n",
       "    <tr>\n",
       "      <th>mean</th>\n",
       "      <td>-3.278839e+03</td>\n",
       "      <td>7.104759e+02</td>\n",
       "      <td>-2.480964e-02</td>\n",
       "      <td>-1.134006e+01</td>\n",
       "      <td>9.630786e+02</td>\n",
       "      <td>3.165009e-01</td>\n",
       "      <td>-2.487830e-01</td>\n",
       "      <td>-3.199754e-02</td>\n",
       "      <td>2.487830e-01</td>\n",
       "      <td>2.735927e-01</td>\n",
       "      <td>...</td>\n",
       "      <td>2.154665e+03</td>\n",
       "      <td>1.313833e+07</td>\n",
       "      <td>1.022287e+03</td>\n",
       "      <td>1.699444e+07</td>\n",
       "      <td>1.728272e+01</td>\n",
       "      <td>2.140253e+01</td>\n",
       "      <td>1.958032e-02</td>\n",
       "      <td>7.972907e+00</td>\n",
       "      <td>1.039137e-01</td>\n",
       "      <td>3.500000e+00</td>\n",
       "    </tr>\n",
       "    <tr>\n",
       "      <th>std</th>\n",
       "      <td>2.538068e+03</td>\n",
       "      <td>4.901115e+02</td>\n",
       "      <td>2.891820e-01</td>\n",
       "      <td>3.153732e+03</td>\n",
       "      <td>5.472395e+02</td>\n",
       "      <td>3.472929e-01</td>\n",
       "      <td>3.015254e-01</td>\n",
       "      <td>2.862486e-01</td>\n",
       "      <td>3.015254e-01</td>\n",
       "      <td>3.863221e-01</td>\n",
       "      <td>...</td>\n",
       "      <td>1.236246e+03</td>\n",
       "      <td>3.006520e+07</td>\n",
       "      <td>7.908405e+02</td>\n",
       "      <td>3.888414e+07</td>\n",
       "      <td>2.265455e+01</td>\n",
       "      <td>2.347912e+01</td>\n",
       "      <td>2.296224e-02</td>\n",
       "      <td>1.331195e+01</td>\n",
       "      <td>2.656178e-01</td>\n",
       "      <td>1.707825e+00</td>\n",
       "    </tr>\n",
       "    <tr>\n",
       "      <th>min</th>\n",
       "      <td>-1.475175e+04</td>\n",
       "      <td>1.000000e+00</td>\n",
       "      <td>-1.461353e+00</td>\n",
       "      <td>-3.276500e+05</td>\n",
       "      <td>1.000000e+00</td>\n",
       "      <td>0.000000e+00</td>\n",
       "      <td>-9.985826e-01</td>\n",
       "      <td>-9.655172e-01</td>\n",
       "      <td>-9.933222e-01</td>\n",
       "      <td>-9.975845e-01</td>\n",
       "      <td>...</td>\n",
       "      <td>1.000000e+00</td>\n",
       "      <td>0.000000e+00</td>\n",
       "      <td>1.000000e+00</td>\n",
       "      <td>0.000000e+00</td>\n",
       "      <td>0.000000e+00</td>\n",
       "      <td>0.000000e+00</td>\n",
       "      <td>4.257471e-06</td>\n",
       "      <td>2.205753e-02</td>\n",
       "      <td>4.824063e-05</td>\n",
       "      <td>1.000000e+00</td>\n",
       "    </tr>\n",
       "    <tr>\n",
       "      <th>25%</th>\n",
       "      <td>-5.173250e+03</td>\n",
       "      <td>3.394394e+02</td>\n",
       "      <td>-2.498571e-01</td>\n",
       "      <td>1.824180e-01</td>\n",
       "      <td>5.660000e+02</td>\n",
       "      <td>1.236996e-02</td>\n",
       "      <td>-4.552076e-01</td>\n",
       "      <td>-2.355365e-01</td>\n",
       "      <td>1.976659e-01</td>\n",
       "      <td>6.339468e-02</td>\n",
       "      <td>...</td>\n",
       "      <td>1.150073e+03</td>\n",
       "      <td>1.657717e+06</td>\n",
       "      <td>4.094147e+02</td>\n",
       "      <td>2.143793e+06</td>\n",
       "      <td>4.971453e+00</td>\n",
       "      <td>6.253930e+00</td>\n",
       "      <td>6.016367e-03</td>\n",
       "      <td>3.482469e+00</td>\n",
       "      <td>3.605950e-02</td>\n",
       "      <td>2.000000e+00</td>\n",
       "    </tr>\n",
       "    <tr>\n",
       "      <th>50%</th>\n",
       "      <td>-3.635750e+03</td>\n",
       "      <td>4.870000e+02</td>\n",
       "      <td>-1.010774e-02</td>\n",
       "      <td>7.818743e-01</td>\n",
       "      <td>7.487760e+02</td>\n",
       "      <td>1.655900e-01</td>\n",
       "      <td>-3.239467e-01</td>\n",
       "      <td>-1.843577e-02</td>\n",
       "      <td>3.239467e-01</td>\n",
       "      <td>1.848122e-01</td>\n",
       "      <td>...</td>\n",
       "      <td>2.396000e+03</td>\n",
       "      <td>4.785860e+06</td>\n",
       "      <td>6.610743e+02</td>\n",
       "      <td>6.189253e+06</td>\n",
       "      <td>8.882559e+00</td>\n",
       "      <td>1.236519e+01</td>\n",
       "      <td>1.446847e-02</td>\n",
       "      <td>5.502353e+00</td>\n",
       "      <td>7.503342e-02</td>\n",
       "      <td>3.500000e+00</td>\n",
       "    </tr>\n",
       "    <tr>\n",
       "      <th>75%</th>\n",
       "      <td>-1.333229e+03</td>\n",
       "      <td>1.083389e+03</td>\n",
       "      <td>2.018732e-01</td>\n",
       "      <td>1.942617e+00</td>\n",
       "      <td>1.337448e+03</td>\n",
       "      <td>5.401595e-01</td>\n",
       "      <td>-1.976659e-01</td>\n",
       "      <td>1.233911e-01</td>\n",
       "      <td>4.552076e-01</td>\n",
       "      <td>6.191766e-01</td>\n",
       "      <td>...</td>\n",
       "      <td>2.947654e+03</td>\n",
       "      <td>1.307897e+07</td>\n",
       "      <td>1.614924e+03</td>\n",
       "      <td>1.691759e+07</td>\n",
       "      <td>1.641634e+01</td>\n",
       "      <td>2.614524e+01</td>\n",
       "      <td>2.702012e-02</td>\n",
       "      <td>9.007922e+00</td>\n",
       "      <td>1.258157e-01</td>\n",
       "      <td>5.000000e+00</td>\n",
       "    </tr>\n",
       "    <tr>\n",
       "      <th>max</th>\n",
       "      <td>4.900750e+03</td>\n",
       "      <td>8.992000e+03</td>\n",
       "      <td>1.941472e+00</td>\n",
       "      <td>3.276700e+05</td>\n",
       "      <td>8.336000e+03</td>\n",
       "      <td>1.000000e+00</td>\n",
       "      <td>9.933222e-01</td>\n",
       "      <td>9.989817e-01</td>\n",
       "      <td>9.985826e-01</td>\n",
       "      <td>9.996169e-01</td>\n",
       "      <td>...</td>\n",
       "      <td>8.464000e+03</td>\n",
       "      <td>1.163489e+09</td>\n",
       "      <td>8.056000e+03</td>\n",
       "      <td>1.504545e+09</td>\n",
       "      <td>1.270020e+02</td>\n",
       "      <td>1.270020e+02</td>\n",
       "      <td>1.193557e+01</td>\n",
       "      <td>1.063774e+04</td>\n",
       "      <td>1.836451e+02</td>\n",
       "      <td>6.000000e+00</td>\n",
       "    </tr>\n",
       "  </tbody>\n",
       "</table>\n",
       "<p>8 rows × 21 columns</p>\n",
       "</div>"
      ],
      "text/plain": [
       "               awei          blue          dbsi           evi         green  \\\n",
       "count  4.239682e+07  4.239682e+07  4.239682e+07  4.239682e+07  4.239682e+07   \n",
       "mean  -3.278839e+03  7.104759e+02 -2.480964e-02 -1.134006e+01  9.630786e+02   \n",
       "std    2.538068e+03  4.901115e+02  2.891820e-01  3.153732e+03  5.472395e+02   \n",
       "min   -1.475175e+04  1.000000e+00 -1.461353e+00 -3.276500e+05  1.000000e+00   \n",
       "25%   -5.173250e+03  3.394394e+02 -2.498571e-01  1.824180e-01  5.660000e+02   \n",
       "50%   -3.635750e+03  4.870000e+02 -1.010774e-02  7.818743e-01  7.487760e+02   \n",
       "75%   -1.333229e+03  1.083389e+03  2.018732e-01  1.942617e+00  1.337448e+03   \n",
       "max    4.900750e+03  8.992000e+03  1.941472e+00  3.276700e+05  8.336000e+03   \n",
       "\n",
       "              kndvi         mndmi          ndbi          ndpi          ndvi  \\\n",
       "count  4.239682e+07  4.239682e+07  4.239682e+07  4.239682e+07  4.239682e+07   \n",
       "mean   3.165009e-01 -2.487830e-01 -3.199754e-02  2.487830e-01  2.735927e-01   \n",
       "std    3.472929e-01  3.015254e-01  2.862486e-01  3.015254e-01  3.863221e-01   \n",
       "min    0.000000e+00 -9.985826e-01 -9.655172e-01 -9.933222e-01 -9.975845e-01   \n",
       "25%    1.236996e-02 -4.552076e-01 -2.355365e-01  1.976659e-01  6.339468e-02   \n",
       "50%    1.655900e-01 -3.239467e-01 -1.843577e-02  3.239467e-01  1.848122e-01   \n",
       "75%    5.401595e-01 -1.976659e-01  1.233911e-01  4.552076e-01  6.191766e-01   \n",
       "max    1.000000e+00  9.933222e-01  9.989817e-01  9.985826e-01  9.996169e-01   \n",
       "\n",
       "       ...           nir         osavi           red          savi  \\\n",
       "count  ...  4.239682e+07  4.239682e+07  4.239682e+07  4.239682e+07   \n",
       "mean   ...  2.154665e+03  1.313833e+07  1.022287e+03  1.699444e+07   \n",
       "std    ...  1.236246e+03  3.006520e+07  7.908405e+02  3.888414e+07   \n",
       "min    ...  1.000000e+00  0.000000e+00  1.000000e+00  0.000000e+00   \n",
       "25%    ...  1.150073e+03  1.657717e+06  4.094147e+02  2.143793e+06   \n",
       "50%    ...  2.396000e+03  4.785860e+06  6.610743e+02  6.189253e+06   \n",
       "75%    ...  2.947654e+03  1.307897e+07  1.614924e+03  1.691759e+07   \n",
       "max    ...  8.464000e+03  1.163489e+09  8.056000e+03  1.504545e+09   \n",
       "\n",
       "              str11         str12            VH         VV-VH            VV  \\\n",
       "count  4.239682e+07  4.239682e+07  4.239682e+07  4.239682e+07  4.239682e+07   \n",
       "mean   1.728272e+01  2.140253e+01  1.958032e-02  7.972907e+00  1.039137e-01   \n",
       "std    2.265455e+01  2.347912e+01  2.296224e-02  1.331195e+01  2.656178e-01   \n",
       "min    0.000000e+00  0.000000e+00  4.257471e-06  2.205753e-02  4.824063e-05   \n",
       "25%    4.971453e+00  6.253930e+00  6.016367e-03  3.482469e+00  3.605950e-02   \n",
       "50%    8.882559e+00  1.236519e+01  1.446847e-02  5.502353e+00  7.503342e-02   \n",
       "75%    1.641634e+01  2.614524e+01  2.702012e-02  9.007922e+00  1.258157e-01   \n",
       "max    1.270020e+02  1.270020e+02  1.193557e+01  1.063774e+04  1.836451e+02   \n",
       "\n",
       "              class  \n",
       "count  4.239682e+07  \n",
       "mean   3.500000e+00  \n",
       "std    1.707825e+00  \n",
       "min    1.000000e+00  \n",
       "25%    2.000000e+00  \n",
       "50%    3.500000e+00  \n",
       "75%    5.000000e+00  \n",
       "max    6.000000e+00  \n",
       "\n",
       "[8 rows x 21 columns]"
      ]
     },
     "execution_count": 31,
     "metadata": {},
     "output_type": "execute_result"
    }
   ],
   "source": [
    "df.describe()"
   ]
  },
  {
   "cell_type": "code",
   "execution_count": 32,
   "id": "e0617ca9-4f8f-4bf2-982a-f9bf2d3f9b3e",
   "metadata": {
    "tags": []
   },
   "outputs": [
    {
     "data": {
      "text/plain": [
       "class\n",
       "2.0    7066137\n",
       "6.0    7066137\n",
       "5.0    7066137\n",
       "4.0    7066137\n",
       "1.0    7066137\n",
       "3.0    7066137\n",
       "Name: count, dtype: int64"
      ]
     },
     "execution_count": 32,
     "metadata": {},
     "output_type": "execute_result"
    }
   ],
   "source": [
    "df['class'].value_counts()"
   ]
  },
  {
   "cell_type": "code",
   "execution_count": 33,
   "id": "40aa47ce-adea-4556-8248-f2872017df7e",
   "metadata": {
    "tags": []
   },
   "outputs": [
    {
     "data": {
      "text/plain": [
       "0"
      ]
     },
     "execution_count": 33,
     "metadata": {},
     "output_type": "execute_result"
    }
   ],
   "source": [
    "np.isinf(df).values.sum() "
   ]
  },
  {
   "cell_type": "code",
   "execution_count": 34,
   "id": "a19c1d67-7ebd-431e-a2c8-3cb55999f6ab",
   "metadata": {
    "tags": []
   },
   "outputs": [
    {
     "data": {
      "text/plain": [
       "awei     0\n",
       "blue     0\n",
       "dbsi     0\n",
       "evi      0\n",
       "green    0\n",
       "kndvi    0\n",
       "mndmi    0\n",
       "ndbi     0\n",
       "ndpi     0\n",
       "ndvi     0\n",
       "ndwi     0\n",
       "nir      0\n",
       "osavi    0\n",
       "red      0\n",
       "savi     0\n",
       "str11    0\n",
       "str12    0\n",
       "VH       0\n",
       "VV-VH    0\n",
       "VV       0\n",
       "class    0\n",
       "dtype: int64"
      ]
     },
     "execution_count": 34,
     "metadata": {},
     "output_type": "execute_result"
    }
   ],
   "source": [
    "df.isnull().sum()"
   ]
  },
  {
   "cell_type": "code",
   "execution_count": 35,
   "id": "f30ea5da-0810-48a1-bdab-87ba23925bc1",
   "metadata": {
    "tags": []
   },
   "outputs": [],
   "source": [
    "# Save the resampled data to CSV file\n",
    "df.to_csv('LU_data_resample.csv', index=False)"
   ]
  },
  {
   "cell_type": "code",
   "execution_count": 36,
   "id": "7d620dea-e2e7-4cf9-bdca-0c973ba2f5f1",
   "metadata": {},
   "outputs": [],
   "source": [
    "# Get only 10% of the data and save it\n",
    "df_sample = df.sample(frac =.1)"
   ]
  },
  {
   "cell_type": "code",
   "execution_count": 37,
   "id": "fb874f5d-6d74-4896-8bd0-9a9b5473f34e",
   "metadata": {
    "tags": []
   },
   "outputs": [],
   "source": [
    "# Save the sample data to CSV file\n",
    "df_sample.to_csv('LU_data_sample.csv', index=False)"
   ]
  },
  {
   "cell_type": "code",
   "execution_count": null,
   "id": "e719ee3b-2873-4ef9-97e9-5449f8aaf154",
   "metadata": {},
   "outputs": [],
   "source": []
  }
 ],
 "metadata": {
  "kernelspec": {
   "display_name": "Python 3 (ipykernel)",
   "language": "python",
   "name": "python3"
  },
  "language_info": {
   "codemirror_mode": {
    "name": "ipython",
    "version": 3
   },
   "file_extension": ".py",
   "mimetype": "text/x-python",
   "name": "python",
   "nbconvert_exporter": "python",
   "pygments_lexer": "ipython3",
   "version": "3.11.5"
  }
 },
 "nbformat": 4,
 "nbformat_minor": 5
}
